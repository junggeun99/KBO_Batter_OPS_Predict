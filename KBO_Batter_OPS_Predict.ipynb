{
  "nbformat": 4,
  "nbformat_minor": 0,
  "metadata": {
    "colab": {
      "provenance": [],
      "collapsed_sections": [],
      "toc_visible": true
    },
    "kernelspec": {
      "name": "python3",
      "display_name": "Python 3"
    },
    "language_info": {
      "name": "python"
    }
  },
  "cells": [
    {
      "cell_type": "markdown",
      "source": [
        "# 0.기초 코드"
      ],
      "metadata": {
        "id": "fN_cXokaSAcM"
      }
    },
    {
      "cell_type": "markdown",
      "source": [
        "코드 실행 후 런타임 - 런타임 다시 시작, 런타임 - 모두 실행"
      ],
      "metadata": {
        "id": "kapnOLWFbysw"
      }
    },
    {
      "cell_type": "code",
      "source": [
        "!sudo apt-get install -y fonts-nanum\n",
        "!sudo fc-cache -fv]\n",
        "!rm ~/.cache/matplotlib -rf"
      ],
      "metadata": {
        "colab": {
          "base_uri": "https://localhost:8080/"
        },
        "id": "EaDgPeM_SEYc",
        "outputId": "f720b437-09ef-4c69-c48d-5ca18542d17c"
      },
      "execution_count": 1,
      "outputs": [
        {
          "output_type": "stream",
          "name": "stdout",
          "text": [
            "Reading package lists... Done\n",
            "Building dependency tree       \n",
            "Reading state information... Done\n",
            "The following package was automatically installed and is no longer required:\n",
            "  libnvidia-common-460\n",
            "Use 'sudo apt autoremove' to remove it.\n",
            "The following NEW packages will be installed:\n",
            "  fonts-nanum\n",
            "0 upgraded, 1 newly installed, 0 to remove and 12 not upgraded.\n",
            "Need to get 9,604 kB of archives.\n",
            "After this operation, 29.5 MB of additional disk space will be used.\n",
            "Get:1 http://archive.ubuntu.com/ubuntu bionic/universe amd64 fonts-nanum all 20170925-1 [9,604 kB]\n",
            "Fetched 9,604 kB in 2s (5,599 kB/s)\n",
            "debconf: unable to initialize frontend: Dialog\n",
            "debconf: (No usable dialog-like program is installed, so the dialog based frontend cannot be used. at /usr/share/perl5/Debconf/FrontEnd/Dialog.pm line 76, <> line 1.)\n",
            "debconf: falling back to frontend: Readline\n",
            "debconf: unable to initialize frontend: Readline\n",
            "debconf: (This frontend requires a controlling tty.)\n",
            "debconf: falling back to frontend: Teletype\n",
            "dpkg-preconfigure: unable to re-open stdin: \n",
            "Selecting previously unselected package fonts-nanum.\n",
            "(Reading database ... 123934 files and directories currently installed.)\n",
            "Preparing to unpack .../fonts-nanum_20170925-1_all.deb ...\n",
            "Unpacking fonts-nanum (20170925-1) ...\n",
            "Setting up fonts-nanum (20170925-1) ...\n",
            "Processing triggers for fontconfig (2.12.6-0ubuntu2) ...\n",
            "fc-cache: invalid option -- ']'\n",
            "usage: fc-cache [-EfrsvVh] [-y SYSROOT] [--error-on-no-fonts] [--force|--really-force] [--sysroot=SYSROOT] [--system-only] [--verbose] [--version] [--help] [dirs]\n",
            "Build font information caches in [dirs]\n",
            "(all directories in font configuration by default).\n",
            "\n",
            "  -E, --error-on-no-fonts  raise an error if no fonts in a directory\n",
            "  -f, --force              scan directories with apparently valid caches\n",
            "  -r, --really-force       erase all existing caches, then rescan\n",
            "  -s, --system-only        scan system-wide directories only\n",
            "  -y, --sysroot=SYSROOT    prepend SYSROOT to all paths for scanning\n",
            "  -v, --verbose            display status information while busy\n",
            "  -V, --version            display font config version and exit\n",
            "  -h, --help               display this help and exit\n"
          ]
        }
      ]
    },
    {
      "cell_type": "code",
      "source": [
        "import numpy as np\n",
        "\n",
        "import pandas as pd\n",
        "pd.set_option('display.max_columns', None) # 열이 다 보이게\n",
        "\n",
        "import matplotlib.pyplot as plt # 시각화를 위해\n",
        "plt.rc('font', family='NanumBarunGothic')\n",
        "import seaborn as sns\n",
        "\n",
        "from google.colab import drive # 구글 드라이브와 마운트\n",
        "drive.mount('/content/drive')"
      ],
      "metadata": {
        "colab": {
          "base_uri": "https://localhost:8080/"
        },
        "id": "vxr97T3LSIDp",
        "outputId": "25eeb611-c073-4491-929f-c12a1de85779"
      },
      "execution_count": 1,
      "outputs": [
        {
          "output_type": "stream",
          "name": "stdout",
          "text": [
            "Mounted at /content/drive\n"
          ]
        }
      ]
    },
    {
      "cell_type": "markdown",
      "source": [
        "# 1.데이터 준비"
      ],
      "metadata": {
        "id": "PGcZkPTdSNS1"
      }
    },
    {
      "cell_type": "code",
      "source": [
        "data = pd.read_csv('/content/drive/MyDrive/KBO_Batter_OPS_Predict/kbo_OPS.csv')"
      ],
      "metadata": {
        "id": "_7rfbTT_x8Yj"
      },
      "execution_count": 2,
      "outputs": []
    },
    {
      "cell_type": "markdown",
      "source": [
        "## 1.1 데이터 확인"
      ],
      "metadata": {
        "id": "BLKmHxOZSLsd"
      }
    },
    {
      "cell_type": "code",
      "source": [
        "data.head()"
      ],
      "metadata": {
        "colab": {
          "base_uri": "https://localhost:8080/",
          "height": 461
        },
        "id": "dIRtcC1OyLuE",
        "outputId": "335dade5-528e-4bcb-9f87-5230aa2eee26"
      },
      "execution_count": 3,
      "outputs": [
        {
          "output_type": "execute_result",
          "data": {
            "text/plain": [
              "   Unnamed: 0        선수    G   타석   타수   득점   안타  2타  3타  홈런   루타   타점  도루  \\\n",
              "0           0  이종범94해SS  124  561  499  113  196  27   5  19  290   77  84   \n",
              "1           1  테임즈15N1B  142  595  472  130  180  42   5  47  373  140  40   \n",
              "2           2  심정수03현RF  133  601  460  110  154  16   1  53  331  142   6   \n",
              "3           3  이종범97해SS  125  577  484  112  157  28   3  30  281   74  64   \n",
              "4           4  이종범96해SS  113  525  449   94  149  28   1  25  254   76  57   \n",
              "\n",
              "   도실   볼넷  사구  고4  삼진  병살  희타  희비     타율     출루     장타    OPS   wOBA   wRC+  \\\n",
              "0  15   51   6  14  31   2   1   4  0.393  0.452  0.581  1.033  0.462  198.3   \n",
              "1   8  103  13  11  91   7   0   7  0.381  0.498  0.790  1.288  0.530  222.3   \n",
              "2   2  124   9  17  63  14   0   8  0.335  0.478  0.720  1.197  0.498  210.7   \n",
              "3  15   87   3  30  49   9   0   3  0.324  0.428  0.581  1.009  0.431  173.2   \n",
              "4  12   67   7  15  39   4   0   2  0.332  0.425  0.566  0.991  0.440  184.6   \n",
              "\n",
              "    WAR+          생일  \n",
              "0  11.77  1970-08-15  \n",
              "1  10.71  1986-11-10  \n",
              "2  10.19  1975-05-05  \n",
              "3   9.70  1970-08-15  \n",
              "4   9.52  1970-08-15  "
            ],
            "text/html": [
              "\n",
              "  <div id=\"df-0c7d25c5-81cb-4c9c-92f2-0d1daca75b29\">\n",
              "    <div class=\"colab-df-container\">\n",
              "      <div>\n",
              "<style scoped>\n",
              "    .dataframe tbody tr th:only-of-type {\n",
              "        vertical-align: middle;\n",
              "    }\n",
              "\n",
              "    .dataframe tbody tr th {\n",
              "        vertical-align: top;\n",
              "    }\n",
              "\n",
              "    .dataframe thead th {\n",
              "        text-align: right;\n",
              "    }\n",
              "</style>\n",
              "<table border=\"1\" class=\"dataframe\">\n",
              "  <thead>\n",
              "    <tr style=\"text-align: right;\">\n",
              "      <th></th>\n",
              "      <th>Unnamed: 0</th>\n",
              "      <th>선수</th>\n",
              "      <th>G</th>\n",
              "      <th>타석</th>\n",
              "      <th>타수</th>\n",
              "      <th>득점</th>\n",
              "      <th>안타</th>\n",
              "      <th>2타</th>\n",
              "      <th>3타</th>\n",
              "      <th>홈런</th>\n",
              "      <th>루타</th>\n",
              "      <th>타점</th>\n",
              "      <th>도루</th>\n",
              "      <th>도실</th>\n",
              "      <th>볼넷</th>\n",
              "      <th>사구</th>\n",
              "      <th>고4</th>\n",
              "      <th>삼진</th>\n",
              "      <th>병살</th>\n",
              "      <th>희타</th>\n",
              "      <th>희비</th>\n",
              "      <th>타율</th>\n",
              "      <th>출루</th>\n",
              "      <th>장타</th>\n",
              "      <th>OPS</th>\n",
              "      <th>wOBA</th>\n",
              "      <th>wRC+</th>\n",
              "      <th>WAR+</th>\n",
              "      <th>생일</th>\n",
              "    </tr>\n",
              "  </thead>\n",
              "  <tbody>\n",
              "    <tr>\n",
              "      <th>0</th>\n",
              "      <td>0</td>\n",
              "      <td>이종범94해SS</td>\n",
              "      <td>124</td>\n",
              "      <td>561</td>\n",
              "      <td>499</td>\n",
              "      <td>113</td>\n",
              "      <td>196</td>\n",
              "      <td>27</td>\n",
              "      <td>5</td>\n",
              "      <td>19</td>\n",
              "      <td>290</td>\n",
              "      <td>77</td>\n",
              "      <td>84</td>\n",
              "      <td>15</td>\n",
              "      <td>51</td>\n",
              "      <td>6</td>\n",
              "      <td>14</td>\n",
              "      <td>31</td>\n",
              "      <td>2</td>\n",
              "      <td>1</td>\n",
              "      <td>4</td>\n",
              "      <td>0.393</td>\n",
              "      <td>0.452</td>\n",
              "      <td>0.581</td>\n",
              "      <td>1.033</td>\n",
              "      <td>0.462</td>\n",
              "      <td>198.3</td>\n",
              "      <td>11.77</td>\n",
              "      <td>1970-08-15</td>\n",
              "    </tr>\n",
              "    <tr>\n",
              "      <th>1</th>\n",
              "      <td>1</td>\n",
              "      <td>테임즈15N1B</td>\n",
              "      <td>142</td>\n",
              "      <td>595</td>\n",
              "      <td>472</td>\n",
              "      <td>130</td>\n",
              "      <td>180</td>\n",
              "      <td>42</td>\n",
              "      <td>5</td>\n",
              "      <td>47</td>\n",
              "      <td>373</td>\n",
              "      <td>140</td>\n",
              "      <td>40</td>\n",
              "      <td>8</td>\n",
              "      <td>103</td>\n",
              "      <td>13</td>\n",
              "      <td>11</td>\n",
              "      <td>91</td>\n",
              "      <td>7</td>\n",
              "      <td>0</td>\n",
              "      <td>7</td>\n",
              "      <td>0.381</td>\n",
              "      <td>0.498</td>\n",
              "      <td>0.790</td>\n",
              "      <td>1.288</td>\n",
              "      <td>0.530</td>\n",
              "      <td>222.3</td>\n",
              "      <td>10.71</td>\n",
              "      <td>1986-11-10</td>\n",
              "    </tr>\n",
              "    <tr>\n",
              "      <th>2</th>\n",
              "      <td>2</td>\n",
              "      <td>심정수03현RF</td>\n",
              "      <td>133</td>\n",
              "      <td>601</td>\n",
              "      <td>460</td>\n",
              "      <td>110</td>\n",
              "      <td>154</td>\n",
              "      <td>16</td>\n",
              "      <td>1</td>\n",
              "      <td>53</td>\n",
              "      <td>331</td>\n",
              "      <td>142</td>\n",
              "      <td>6</td>\n",
              "      <td>2</td>\n",
              "      <td>124</td>\n",
              "      <td>9</td>\n",
              "      <td>17</td>\n",
              "      <td>63</td>\n",
              "      <td>14</td>\n",
              "      <td>0</td>\n",
              "      <td>8</td>\n",
              "      <td>0.335</td>\n",
              "      <td>0.478</td>\n",
              "      <td>0.720</td>\n",
              "      <td>1.197</td>\n",
              "      <td>0.498</td>\n",
              "      <td>210.7</td>\n",
              "      <td>10.19</td>\n",
              "      <td>1975-05-05</td>\n",
              "    </tr>\n",
              "    <tr>\n",
              "      <th>3</th>\n",
              "      <td>3</td>\n",
              "      <td>이종범97해SS</td>\n",
              "      <td>125</td>\n",
              "      <td>577</td>\n",
              "      <td>484</td>\n",
              "      <td>112</td>\n",
              "      <td>157</td>\n",
              "      <td>28</td>\n",
              "      <td>3</td>\n",
              "      <td>30</td>\n",
              "      <td>281</td>\n",
              "      <td>74</td>\n",
              "      <td>64</td>\n",
              "      <td>15</td>\n",
              "      <td>87</td>\n",
              "      <td>3</td>\n",
              "      <td>30</td>\n",
              "      <td>49</td>\n",
              "      <td>9</td>\n",
              "      <td>0</td>\n",
              "      <td>3</td>\n",
              "      <td>0.324</td>\n",
              "      <td>0.428</td>\n",
              "      <td>0.581</td>\n",
              "      <td>1.009</td>\n",
              "      <td>0.431</td>\n",
              "      <td>173.2</td>\n",
              "      <td>9.70</td>\n",
              "      <td>1970-08-15</td>\n",
              "    </tr>\n",
              "    <tr>\n",
              "      <th>4</th>\n",
              "      <td>4</td>\n",
              "      <td>이종범96해SS</td>\n",
              "      <td>113</td>\n",
              "      <td>525</td>\n",
              "      <td>449</td>\n",
              "      <td>94</td>\n",
              "      <td>149</td>\n",
              "      <td>28</td>\n",
              "      <td>1</td>\n",
              "      <td>25</td>\n",
              "      <td>254</td>\n",
              "      <td>76</td>\n",
              "      <td>57</td>\n",
              "      <td>12</td>\n",
              "      <td>67</td>\n",
              "      <td>7</td>\n",
              "      <td>15</td>\n",
              "      <td>39</td>\n",
              "      <td>4</td>\n",
              "      <td>0</td>\n",
              "      <td>2</td>\n",
              "      <td>0.332</td>\n",
              "      <td>0.425</td>\n",
              "      <td>0.566</td>\n",
              "      <td>0.991</td>\n",
              "      <td>0.440</td>\n",
              "      <td>184.6</td>\n",
              "      <td>9.52</td>\n",
              "      <td>1970-08-15</td>\n",
              "    </tr>\n",
              "  </tbody>\n",
              "</table>\n",
              "</div>\n",
              "      <button class=\"colab-df-convert\" onclick=\"convertToInteractive('df-0c7d25c5-81cb-4c9c-92f2-0d1daca75b29')\"\n",
              "              title=\"Convert this dataframe to an interactive table.\"\n",
              "              style=\"display:none;\">\n",
              "        \n",
              "  <svg xmlns=\"http://www.w3.org/2000/svg\" height=\"24px\"viewBox=\"0 0 24 24\"\n",
              "       width=\"24px\">\n",
              "    <path d=\"M0 0h24v24H0V0z\" fill=\"none\"/>\n",
              "    <path d=\"M18.56 5.44l.94 2.06.94-2.06 2.06-.94-2.06-.94-.94-2.06-.94 2.06-2.06.94zm-11 1L8.5 8.5l.94-2.06 2.06-.94-2.06-.94L8.5 2.5l-.94 2.06-2.06.94zm10 10l.94 2.06.94-2.06 2.06-.94-2.06-.94-.94-2.06-.94 2.06-2.06.94z\"/><path d=\"M17.41 7.96l-1.37-1.37c-.4-.4-.92-.59-1.43-.59-.52 0-1.04.2-1.43.59L10.3 9.45l-7.72 7.72c-.78.78-.78 2.05 0 2.83L4 21.41c.39.39.9.59 1.41.59.51 0 1.02-.2 1.41-.59l7.78-7.78 2.81-2.81c.8-.78.8-2.07 0-2.86zM5.41 20L4 18.59l7.72-7.72 1.47 1.35L5.41 20z\"/>\n",
              "  </svg>\n",
              "      </button>\n",
              "      \n",
              "  <style>\n",
              "    .colab-df-container {\n",
              "      display:flex;\n",
              "      flex-wrap:wrap;\n",
              "      gap: 12px;\n",
              "    }\n",
              "\n",
              "    .colab-df-convert {\n",
              "      background-color: #E8F0FE;\n",
              "      border: none;\n",
              "      border-radius: 50%;\n",
              "      cursor: pointer;\n",
              "      display: none;\n",
              "      fill: #1967D2;\n",
              "      height: 32px;\n",
              "      padding: 0 0 0 0;\n",
              "      width: 32px;\n",
              "    }\n",
              "\n",
              "    .colab-df-convert:hover {\n",
              "      background-color: #E2EBFA;\n",
              "      box-shadow: 0px 1px 2px rgba(60, 64, 67, 0.3), 0px 1px 3px 1px rgba(60, 64, 67, 0.15);\n",
              "      fill: #174EA6;\n",
              "    }\n",
              "\n",
              "    [theme=dark] .colab-df-convert {\n",
              "      background-color: #3B4455;\n",
              "      fill: #D2E3FC;\n",
              "    }\n",
              "\n",
              "    [theme=dark] .colab-df-convert:hover {\n",
              "      background-color: #434B5C;\n",
              "      box-shadow: 0px 1px 3px 1px rgba(0, 0, 0, 0.15);\n",
              "      filter: drop-shadow(0px 1px 2px rgba(0, 0, 0, 0.3));\n",
              "      fill: #FFFFFF;\n",
              "    }\n",
              "  </style>\n",
              "\n",
              "      <script>\n",
              "        const buttonEl =\n",
              "          document.querySelector('#df-0c7d25c5-81cb-4c9c-92f2-0d1daca75b29 button.colab-df-convert');\n",
              "        buttonEl.style.display =\n",
              "          google.colab.kernel.accessAllowed ? 'block' : 'none';\n",
              "\n",
              "        async function convertToInteractive(key) {\n",
              "          const element = document.querySelector('#df-0c7d25c5-81cb-4c9c-92f2-0d1daca75b29');\n",
              "          const dataTable =\n",
              "            await google.colab.kernel.invokeFunction('convertToInteractive',\n",
              "                                                     [key], {});\n",
              "          if (!dataTable) return;\n",
              "\n",
              "          const docLinkHtml = 'Like what you see? Visit the ' +\n",
              "            '<a target=\"_blank\" href=https://colab.research.google.com/notebooks/data_table.ipynb>data table notebook</a>'\n",
              "            + ' to learn more about interactive tables.';\n",
              "          element.innerHTML = '';\n",
              "          dataTable['output_type'] = 'display_data';\n",
              "          await google.colab.output.renderOutput(dataTable, element);\n",
              "          const docLink = document.createElement('div');\n",
              "          docLink.innerHTML = docLinkHtml;\n",
              "          element.appendChild(docLink);\n",
              "        }\n",
              "      </script>\n",
              "    </div>\n",
              "  </div>\n",
              "  "
            ]
          },
          "metadata": {},
          "execution_count": 3
        }
      ]
    },
    {
      "cell_type": "markdown",
      "source": [
        "## 1.2 columns - 설명"
      ],
      "metadata": {
        "id": "qwr3oWCTSo9K"
      }
    },
    {
      "cell_type": "code",
      "source": [
        "data.columns"
      ],
      "metadata": {
        "colab": {
          "base_uri": "https://localhost:8080/"
        },
        "id": "t-f8OKf3wP2c",
        "outputId": "6445e4f8-f108-49b5-ef4a-6189292f8730"
      },
      "execution_count": 4,
      "outputs": [
        {
          "output_type": "execute_result",
          "data": {
            "text/plain": [
              "Index(['Unnamed: 0', '선수', 'G', '타석', '타수', '득점', '안타', '2타', '3타', '홈런', '루타',\n",
              "       '타점', '도루', '도실', '볼넷', '사구', '고4', '삼진', '병살', '희타', '희비', '타율', '출루',\n",
              "       '장타', 'OPS', 'wOBA', 'wRC+', 'WAR+', '생일'],\n",
              "      dtype='object')"
            ]
          },
          "metadata": {},
          "execution_count": 4
        }
      ]
    },
    {
      "cell_type": "markdown",
      "source": [
        "*   wOBA - 가중출루율\n",
        "*   wRC+ - 조정 득점 창출력(타자의 득점 생산력)\n",
        "*   WAR+ - 대체 선수 대비 승리 기여도"
      ],
      "metadata": {
        "id": "sX_BOjF2s8pa"
      }
    },
    {
      "cell_type": "markdown",
      "source": [
        "# 2.데이터 전처리"
      ],
      "metadata": {
        "id": "RoX73vHjSq67"
      }
    },
    {
      "cell_type": "code",
      "source": [
        "data.info()"
      ],
      "metadata": {
        "colab": {
          "base_uri": "https://localhost:8080/"
        },
        "id": "R-9uM5Xc6fm8",
        "outputId": "78dd960e-ec6a-4cf5-fb34-ec545c5eb969"
      },
      "execution_count": 5,
      "outputs": [
        {
          "output_type": "stream",
          "name": "stdout",
          "text": [
            "<class 'pandas.core.frame.DataFrame'>\n",
            "RangeIndex: 9680 entries, 0 to 9679\n",
            "Data columns (total 29 columns):\n",
            " #   Column      Non-Null Count  Dtype  \n",
            "---  ------      --------------  -----  \n",
            " 0   Unnamed: 0  9680 non-null   int64  \n",
            " 1   선수          9680 non-null   object \n",
            " 2   G           9680 non-null   int64  \n",
            " 3   타석          9680 non-null   int64  \n",
            " 4   타수          9680 non-null   int64  \n",
            " 5   득점          9680 non-null   int64  \n",
            " 6   안타          9680 non-null   int64  \n",
            " 7   2타          9680 non-null   int64  \n",
            " 8   3타          9680 non-null   int64  \n",
            " 9   홈런          9680 non-null   int64  \n",
            " 10  루타          9680 non-null   int64  \n",
            " 11  타점          9680 non-null   int64  \n",
            " 12  도루          9680 non-null   int64  \n",
            " 13  도실          9680 non-null   int64  \n",
            " 14  볼넷          9680 non-null   int64  \n",
            " 15  사구          9680 non-null   int64  \n",
            " 16  고4          9680 non-null   int64  \n",
            " 17  삼진          9680 non-null   int64  \n",
            " 18  병살          9680 non-null   int64  \n",
            " 19  희타          9680 non-null   int64  \n",
            " 20  희비          9680 non-null   int64  \n",
            " 21  타율          7280 non-null   float64\n",
            " 22  출루          7780 non-null   float64\n",
            " 23  장타          7280 non-null   float64\n",
            " 24  OPS         7280 non-null   float64\n",
            " 25  wOBA        7880 non-null   float64\n",
            " 26  wRC+        7280 non-null   float64\n",
            " 27  WAR+        9680 non-null   float64\n",
            " 28  생일          9680 non-null   object \n",
            "dtypes: float64(7), int64(20), object(2)\n",
            "memory usage: 2.1+ MB\n"
          ]
        }
      ]
    },
    {
      "cell_type": "markdown",
      "source": [
        "선수 column에 선수이름, 년도, 팀, 포지션이 들어가있어 나누어 주어야한다."
      ],
      "metadata": {
        "id": "jArfhTDhWMzR"
      }
    },
    {
      "cell_type": "code",
      "source": [
        "data.head()"
      ],
      "metadata": {
        "colab": {
          "base_uri": "https://localhost:8080/",
          "height": 461
        },
        "id": "yCNCoXX0yt48",
        "outputId": "af520a13-ee1c-4dfc-8586-5ec3c99daeaf"
      },
      "execution_count": 6,
      "outputs": [
        {
          "output_type": "execute_result",
          "data": {
            "text/plain": [
              "   Unnamed: 0        선수    G   타석   타수   득점   안타  2타  3타  홈런   루타   타점  도루  \\\n",
              "0           0  이종범94해SS  124  561  499  113  196  27   5  19  290   77  84   \n",
              "1           1  테임즈15N1B  142  595  472  130  180  42   5  47  373  140  40   \n",
              "2           2  심정수03현RF  133  601  460  110  154  16   1  53  331  142   6   \n",
              "3           3  이종범97해SS  125  577  484  112  157  28   3  30  281   74  64   \n",
              "4           4  이종범96해SS  113  525  449   94  149  28   1  25  254   76  57   \n",
              "\n",
              "   도실   볼넷  사구  고4  삼진  병살  희타  희비     타율     출루     장타    OPS   wOBA   wRC+  \\\n",
              "0  15   51   6  14  31   2   1   4  0.393  0.452  0.581  1.033  0.462  198.3   \n",
              "1   8  103  13  11  91   7   0   7  0.381  0.498  0.790  1.288  0.530  222.3   \n",
              "2   2  124   9  17  63  14   0   8  0.335  0.478  0.720  1.197  0.498  210.7   \n",
              "3  15   87   3  30  49   9   0   3  0.324  0.428  0.581  1.009  0.431  173.2   \n",
              "4  12   67   7  15  39   4   0   2  0.332  0.425  0.566  0.991  0.440  184.6   \n",
              "\n",
              "    WAR+          생일  \n",
              "0  11.77  1970-08-15  \n",
              "1  10.71  1986-11-10  \n",
              "2  10.19  1975-05-05  \n",
              "3   9.70  1970-08-15  \n",
              "4   9.52  1970-08-15  "
            ],
            "text/html": [
              "\n",
              "  <div id=\"df-3c7b4cf2-4e74-475a-87f4-69cd32aa5988\">\n",
              "    <div class=\"colab-df-container\">\n",
              "      <div>\n",
              "<style scoped>\n",
              "    .dataframe tbody tr th:only-of-type {\n",
              "        vertical-align: middle;\n",
              "    }\n",
              "\n",
              "    .dataframe tbody tr th {\n",
              "        vertical-align: top;\n",
              "    }\n",
              "\n",
              "    .dataframe thead th {\n",
              "        text-align: right;\n",
              "    }\n",
              "</style>\n",
              "<table border=\"1\" class=\"dataframe\">\n",
              "  <thead>\n",
              "    <tr style=\"text-align: right;\">\n",
              "      <th></th>\n",
              "      <th>Unnamed: 0</th>\n",
              "      <th>선수</th>\n",
              "      <th>G</th>\n",
              "      <th>타석</th>\n",
              "      <th>타수</th>\n",
              "      <th>득점</th>\n",
              "      <th>안타</th>\n",
              "      <th>2타</th>\n",
              "      <th>3타</th>\n",
              "      <th>홈런</th>\n",
              "      <th>루타</th>\n",
              "      <th>타점</th>\n",
              "      <th>도루</th>\n",
              "      <th>도실</th>\n",
              "      <th>볼넷</th>\n",
              "      <th>사구</th>\n",
              "      <th>고4</th>\n",
              "      <th>삼진</th>\n",
              "      <th>병살</th>\n",
              "      <th>희타</th>\n",
              "      <th>희비</th>\n",
              "      <th>타율</th>\n",
              "      <th>출루</th>\n",
              "      <th>장타</th>\n",
              "      <th>OPS</th>\n",
              "      <th>wOBA</th>\n",
              "      <th>wRC+</th>\n",
              "      <th>WAR+</th>\n",
              "      <th>생일</th>\n",
              "    </tr>\n",
              "  </thead>\n",
              "  <tbody>\n",
              "    <tr>\n",
              "      <th>0</th>\n",
              "      <td>0</td>\n",
              "      <td>이종범94해SS</td>\n",
              "      <td>124</td>\n",
              "      <td>561</td>\n",
              "      <td>499</td>\n",
              "      <td>113</td>\n",
              "      <td>196</td>\n",
              "      <td>27</td>\n",
              "      <td>5</td>\n",
              "      <td>19</td>\n",
              "      <td>290</td>\n",
              "      <td>77</td>\n",
              "      <td>84</td>\n",
              "      <td>15</td>\n",
              "      <td>51</td>\n",
              "      <td>6</td>\n",
              "      <td>14</td>\n",
              "      <td>31</td>\n",
              "      <td>2</td>\n",
              "      <td>1</td>\n",
              "      <td>4</td>\n",
              "      <td>0.393</td>\n",
              "      <td>0.452</td>\n",
              "      <td>0.581</td>\n",
              "      <td>1.033</td>\n",
              "      <td>0.462</td>\n",
              "      <td>198.3</td>\n",
              "      <td>11.77</td>\n",
              "      <td>1970-08-15</td>\n",
              "    </tr>\n",
              "    <tr>\n",
              "      <th>1</th>\n",
              "      <td>1</td>\n",
              "      <td>테임즈15N1B</td>\n",
              "      <td>142</td>\n",
              "      <td>595</td>\n",
              "      <td>472</td>\n",
              "      <td>130</td>\n",
              "      <td>180</td>\n",
              "      <td>42</td>\n",
              "      <td>5</td>\n",
              "      <td>47</td>\n",
              "      <td>373</td>\n",
              "      <td>140</td>\n",
              "      <td>40</td>\n",
              "      <td>8</td>\n",
              "      <td>103</td>\n",
              "      <td>13</td>\n",
              "      <td>11</td>\n",
              "      <td>91</td>\n",
              "      <td>7</td>\n",
              "      <td>0</td>\n",
              "      <td>7</td>\n",
              "      <td>0.381</td>\n",
              "      <td>0.498</td>\n",
              "      <td>0.790</td>\n",
              "      <td>1.288</td>\n",
              "      <td>0.530</td>\n",
              "      <td>222.3</td>\n",
              "      <td>10.71</td>\n",
              "      <td>1986-11-10</td>\n",
              "    </tr>\n",
              "    <tr>\n",
              "      <th>2</th>\n",
              "      <td>2</td>\n",
              "      <td>심정수03현RF</td>\n",
              "      <td>133</td>\n",
              "      <td>601</td>\n",
              "      <td>460</td>\n",
              "      <td>110</td>\n",
              "      <td>154</td>\n",
              "      <td>16</td>\n",
              "      <td>1</td>\n",
              "      <td>53</td>\n",
              "      <td>331</td>\n",
              "      <td>142</td>\n",
              "      <td>6</td>\n",
              "      <td>2</td>\n",
              "      <td>124</td>\n",
              "      <td>9</td>\n",
              "      <td>17</td>\n",
              "      <td>63</td>\n",
              "      <td>14</td>\n",
              "      <td>0</td>\n",
              "      <td>8</td>\n",
              "      <td>0.335</td>\n",
              "      <td>0.478</td>\n",
              "      <td>0.720</td>\n",
              "      <td>1.197</td>\n",
              "      <td>0.498</td>\n",
              "      <td>210.7</td>\n",
              "      <td>10.19</td>\n",
              "      <td>1975-05-05</td>\n",
              "    </tr>\n",
              "    <tr>\n",
              "      <th>3</th>\n",
              "      <td>3</td>\n",
              "      <td>이종범97해SS</td>\n",
              "      <td>125</td>\n",
              "      <td>577</td>\n",
              "      <td>484</td>\n",
              "      <td>112</td>\n",
              "      <td>157</td>\n",
              "      <td>28</td>\n",
              "      <td>3</td>\n",
              "      <td>30</td>\n",
              "      <td>281</td>\n",
              "      <td>74</td>\n",
              "      <td>64</td>\n",
              "      <td>15</td>\n",
              "      <td>87</td>\n",
              "      <td>3</td>\n",
              "      <td>30</td>\n",
              "      <td>49</td>\n",
              "      <td>9</td>\n",
              "      <td>0</td>\n",
              "      <td>3</td>\n",
              "      <td>0.324</td>\n",
              "      <td>0.428</td>\n",
              "      <td>0.581</td>\n",
              "      <td>1.009</td>\n",
              "      <td>0.431</td>\n",
              "      <td>173.2</td>\n",
              "      <td>9.70</td>\n",
              "      <td>1970-08-15</td>\n",
              "    </tr>\n",
              "    <tr>\n",
              "      <th>4</th>\n",
              "      <td>4</td>\n",
              "      <td>이종범96해SS</td>\n",
              "      <td>113</td>\n",
              "      <td>525</td>\n",
              "      <td>449</td>\n",
              "      <td>94</td>\n",
              "      <td>149</td>\n",
              "      <td>28</td>\n",
              "      <td>1</td>\n",
              "      <td>25</td>\n",
              "      <td>254</td>\n",
              "      <td>76</td>\n",
              "      <td>57</td>\n",
              "      <td>12</td>\n",
              "      <td>67</td>\n",
              "      <td>7</td>\n",
              "      <td>15</td>\n",
              "      <td>39</td>\n",
              "      <td>4</td>\n",
              "      <td>0</td>\n",
              "      <td>2</td>\n",
              "      <td>0.332</td>\n",
              "      <td>0.425</td>\n",
              "      <td>0.566</td>\n",
              "      <td>0.991</td>\n",
              "      <td>0.440</td>\n",
              "      <td>184.6</td>\n",
              "      <td>9.52</td>\n",
              "      <td>1970-08-15</td>\n",
              "    </tr>\n",
              "  </tbody>\n",
              "</table>\n",
              "</div>\n",
              "      <button class=\"colab-df-convert\" onclick=\"convertToInteractive('df-3c7b4cf2-4e74-475a-87f4-69cd32aa5988')\"\n",
              "              title=\"Convert this dataframe to an interactive table.\"\n",
              "              style=\"display:none;\">\n",
              "        \n",
              "  <svg xmlns=\"http://www.w3.org/2000/svg\" height=\"24px\"viewBox=\"0 0 24 24\"\n",
              "       width=\"24px\">\n",
              "    <path d=\"M0 0h24v24H0V0z\" fill=\"none\"/>\n",
              "    <path d=\"M18.56 5.44l.94 2.06.94-2.06 2.06-.94-2.06-.94-.94-2.06-.94 2.06-2.06.94zm-11 1L8.5 8.5l.94-2.06 2.06-.94-2.06-.94L8.5 2.5l-.94 2.06-2.06.94zm10 10l.94 2.06.94-2.06 2.06-.94-2.06-.94-.94-2.06-.94 2.06-2.06.94z\"/><path d=\"M17.41 7.96l-1.37-1.37c-.4-.4-.92-.59-1.43-.59-.52 0-1.04.2-1.43.59L10.3 9.45l-7.72 7.72c-.78.78-.78 2.05 0 2.83L4 21.41c.39.39.9.59 1.41.59.51 0 1.02-.2 1.41-.59l7.78-7.78 2.81-2.81c.8-.78.8-2.07 0-2.86zM5.41 20L4 18.59l7.72-7.72 1.47 1.35L5.41 20z\"/>\n",
              "  </svg>\n",
              "      </button>\n",
              "      \n",
              "  <style>\n",
              "    .colab-df-container {\n",
              "      display:flex;\n",
              "      flex-wrap:wrap;\n",
              "      gap: 12px;\n",
              "    }\n",
              "\n",
              "    .colab-df-convert {\n",
              "      background-color: #E8F0FE;\n",
              "      border: none;\n",
              "      border-radius: 50%;\n",
              "      cursor: pointer;\n",
              "      display: none;\n",
              "      fill: #1967D2;\n",
              "      height: 32px;\n",
              "      padding: 0 0 0 0;\n",
              "      width: 32px;\n",
              "    }\n",
              "\n",
              "    .colab-df-convert:hover {\n",
              "      background-color: #E2EBFA;\n",
              "      box-shadow: 0px 1px 2px rgba(60, 64, 67, 0.3), 0px 1px 3px 1px rgba(60, 64, 67, 0.15);\n",
              "      fill: #174EA6;\n",
              "    }\n",
              "\n",
              "    [theme=dark] .colab-df-convert {\n",
              "      background-color: #3B4455;\n",
              "      fill: #D2E3FC;\n",
              "    }\n",
              "\n",
              "    [theme=dark] .colab-df-convert:hover {\n",
              "      background-color: #434B5C;\n",
              "      box-shadow: 0px 1px 3px 1px rgba(0, 0, 0, 0.15);\n",
              "      filter: drop-shadow(0px 1px 2px rgba(0, 0, 0, 0.3));\n",
              "      fill: #FFFFFF;\n",
              "    }\n",
              "  </style>\n",
              "\n",
              "      <script>\n",
              "        const buttonEl =\n",
              "          document.querySelector('#df-3c7b4cf2-4e74-475a-87f4-69cd32aa5988 button.colab-df-convert');\n",
              "        buttonEl.style.display =\n",
              "          google.colab.kernel.accessAllowed ? 'block' : 'none';\n",
              "\n",
              "        async function convertToInteractive(key) {\n",
              "          const element = document.querySelector('#df-3c7b4cf2-4e74-475a-87f4-69cd32aa5988');\n",
              "          const dataTable =\n",
              "            await google.colab.kernel.invokeFunction('convertToInteractive',\n",
              "                                                     [key], {});\n",
              "          if (!dataTable) return;\n",
              "\n",
              "          const docLinkHtml = 'Like what you see? Visit the ' +\n",
              "            '<a target=\"_blank\" href=https://colab.research.google.com/notebooks/data_table.ipynb>data table notebook</a>'\n",
              "            + ' to learn more about interactive tables.';\n",
              "          element.innerHTML = '';\n",
              "          dataTable['output_type'] = 'display_data';\n",
              "          await google.colab.output.renderOutput(dataTable, element);\n",
              "          const docLink = document.createElement('div');\n",
              "          docLink.innerHTML = docLinkHtml;\n",
              "          element.appendChild(docLink);\n",
              "        }\n",
              "      </script>\n",
              "    </div>\n",
              "  </div>\n",
              "  "
            ]
          },
          "metadata": {},
          "execution_count": 6
        }
      ]
    },
    {
      "cell_type": "code",
      "source": [
        "data = data.drop('Unnamed: 0', axis = 1)"
      ],
      "metadata": {
        "id": "Uz12ZB6_4vkp"
      },
      "execution_count": 7,
      "outputs": []
    },
    {
      "cell_type": "code",
      "source": [
        "# 포지션 추가\n",
        "position_check = ['C', '1B', '2B', '3B', 'SS', 'LF', 'CF', 'RF', 'DH', 'P']\n",
        "position = []\n",
        "player = []\n",
        "\n",
        "for i in data['선수']:\n",
        "  if i[-2:] in position_check:\n",
        "    position.append(i[-2:])\n",
        "    player.append(i[:-2])\n",
        "  elif i[-1:] in position_check:\n",
        "    position.append(i[-1:])\n",
        "    player.append(i[:-1])\n",
        "  else:\n",
        "    position.append(np.nan)\n",
        "    player.append(i)\n",
        "\n",
        "data['포지션'] = position\n",
        "data['선수'] = player"
      ],
      "metadata": {
        "id": "_c1wU7i44vil"
      },
      "execution_count": 8,
      "outputs": []
    },
    {
      "cell_type": "markdown",
      "source": [
        "투수 데이터도 들어가 있어서 잘라주었다."
      ],
      "metadata": {
        "id": "yB0Q2kU3_7tg"
      }
    },
    {
      "cell_type": "code",
      "source": [
        "data = data[data['포지션'] != 'P']"
      ],
      "metadata": {
        "id": "jc3_Np4a__XI"
      },
      "execution_count": 9,
      "outputs": []
    },
    {
      "cell_type": "code",
      "source": [
        "# 팀 추가\n",
        "team = []\n",
        "player = []\n",
        "\n",
        "for i in data['선수']:\n",
        "  team.append(i[-1])\n",
        "  player.append(i[:-1])\n",
        "\n",
        "data['팀'] = team\n",
        "data['선수'] = player"
      ],
      "metadata": {
        "id": "HGi0najx4vea"
      },
      "execution_count": 10,
      "outputs": []
    },
    {
      "cell_type": "markdown",
      "source": [
        "중간에 선수가 트레이드된 경우 팀이 2개가 들어가 있어 슬라이싱이 제대로 안 된 경우가 있었다."
      ],
      "metadata": {
        "id": "p4qvm18JCboQ"
      }
    },
    {
      "cell_type": "code",
      "source": [
        "# 선수별 연도 추가\n",
        "year = []\n",
        "player = []\n",
        "\n",
        "for i in data['선수']:\n",
        "  if i[-1] in team:\n",
        "    if i[-3:-1] > '50':\n",
        "      year.append(int('19' + i[-3:-1]))\n",
        "      player.append(i[:-3])\n",
        "    else:\n",
        "      year.append(int('20' + i[-3:-1]))\n",
        "      player.append(i[:-3])\n",
        "\n",
        "  else:\n",
        "    if i[-2:] > '50':\n",
        "      year.append(int('19' + i[-2:]))\n",
        "      player.append(i[:-2])\n",
        "    else:\n",
        "      year.append(int('20' + i[-2:]))\n",
        "      player.append(i[:-2])\n",
        "\n",
        "data['선수'] = player\n",
        "data['연도'] = year"
      ],
      "metadata": {
        "id": "WevTag8OG4TO"
      },
      "execution_count": 11,
      "outputs": []
    },
    {
      "cell_type": "code",
      "source": [
        "data.head()"
      ],
      "metadata": {
        "id": "sdFdvSCx98vr",
        "colab": {
          "base_uri": "https://localhost:8080/",
          "height": 478
        },
        "outputId": "2a0a507a-eceb-4b33-9f4a-aed1c372b4ca"
      },
      "execution_count": 12,
      "outputs": [
        {
          "output_type": "execute_result",
          "data": {
            "text/plain": [
              "    선수    G   타석   타수   득점   안타  2타  3타  홈런   루타   타점  도루  도실   볼넷  사구  고4  \\\n",
              "0  이종범  124  561  499  113  196  27   5  19  290   77  84  15   51   6  14   \n",
              "1  테임즈  142  595  472  130  180  42   5  47  373  140  40   8  103  13  11   \n",
              "2  심정수  133  601  460  110  154  16   1  53  331  142   6   2  124   9  17   \n",
              "3  이종범  125  577  484  112  157  28   3  30  281   74  64  15   87   3  30   \n",
              "4  이종범  113  525  449   94  149  28   1  25  254   76  57  12   67   7  15   \n",
              "\n",
              "   삼진  병살  희타  희비     타율     출루     장타    OPS   wOBA   wRC+   WAR+  \\\n",
              "0  31   2   1   4  0.393  0.452  0.581  1.033  0.462  198.3  11.77   \n",
              "1  91   7   0   7  0.381  0.498  0.790  1.288  0.530  222.3  10.71   \n",
              "2  63  14   0   8  0.335  0.478  0.720  1.197  0.498  210.7  10.19   \n",
              "3  49   9   0   3  0.324  0.428  0.581  1.009  0.431  173.2   9.70   \n",
              "4  39   4   0   2  0.332  0.425  0.566  0.991  0.440  184.6   9.52   \n",
              "\n",
              "           생일 포지션  팀    연도  \n",
              "0  1970-08-15  SS  해  1994  \n",
              "1  1986-11-10  1B  N  2015  \n",
              "2  1975-05-05  RF  현  2003  \n",
              "3  1970-08-15  SS  해  1997  \n",
              "4  1970-08-15  SS  해  1996  "
            ],
            "text/html": [
              "\n",
              "  <div id=\"df-88f233a4-a51c-4737-866b-8d080090c3c4\">\n",
              "    <div class=\"colab-df-container\">\n",
              "      <div>\n",
              "<style scoped>\n",
              "    .dataframe tbody tr th:only-of-type {\n",
              "        vertical-align: middle;\n",
              "    }\n",
              "\n",
              "    .dataframe tbody tr th {\n",
              "        vertical-align: top;\n",
              "    }\n",
              "\n",
              "    .dataframe thead th {\n",
              "        text-align: right;\n",
              "    }\n",
              "</style>\n",
              "<table border=\"1\" class=\"dataframe\">\n",
              "  <thead>\n",
              "    <tr style=\"text-align: right;\">\n",
              "      <th></th>\n",
              "      <th>선수</th>\n",
              "      <th>G</th>\n",
              "      <th>타석</th>\n",
              "      <th>타수</th>\n",
              "      <th>득점</th>\n",
              "      <th>안타</th>\n",
              "      <th>2타</th>\n",
              "      <th>3타</th>\n",
              "      <th>홈런</th>\n",
              "      <th>루타</th>\n",
              "      <th>타점</th>\n",
              "      <th>도루</th>\n",
              "      <th>도실</th>\n",
              "      <th>볼넷</th>\n",
              "      <th>사구</th>\n",
              "      <th>고4</th>\n",
              "      <th>삼진</th>\n",
              "      <th>병살</th>\n",
              "      <th>희타</th>\n",
              "      <th>희비</th>\n",
              "      <th>타율</th>\n",
              "      <th>출루</th>\n",
              "      <th>장타</th>\n",
              "      <th>OPS</th>\n",
              "      <th>wOBA</th>\n",
              "      <th>wRC+</th>\n",
              "      <th>WAR+</th>\n",
              "      <th>생일</th>\n",
              "      <th>포지션</th>\n",
              "      <th>팀</th>\n",
              "      <th>연도</th>\n",
              "    </tr>\n",
              "  </thead>\n",
              "  <tbody>\n",
              "    <tr>\n",
              "      <th>0</th>\n",
              "      <td>이종범</td>\n",
              "      <td>124</td>\n",
              "      <td>561</td>\n",
              "      <td>499</td>\n",
              "      <td>113</td>\n",
              "      <td>196</td>\n",
              "      <td>27</td>\n",
              "      <td>5</td>\n",
              "      <td>19</td>\n",
              "      <td>290</td>\n",
              "      <td>77</td>\n",
              "      <td>84</td>\n",
              "      <td>15</td>\n",
              "      <td>51</td>\n",
              "      <td>6</td>\n",
              "      <td>14</td>\n",
              "      <td>31</td>\n",
              "      <td>2</td>\n",
              "      <td>1</td>\n",
              "      <td>4</td>\n",
              "      <td>0.393</td>\n",
              "      <td>0.452</td>\n",
              "      <td>0.581</td>\n",
              "      <td>1.033</td>\n",
              "      <td>0.462</td>\n",
              "      <td>198.3</td>\n",
              "      <td>11.77</td>\n",
              "      <td>1970-08-15</td>\n",
              "      <td>SS</td>\n",
              "      <td>해</td>\n",
              "      <td>1994</td>\n",
              "    </tr>\n",
              "    <tr>\n",
              "      <th>1</th>\n",
              "      <td>테임즈</td>\n",
              "      <td>142</td>\n",
              "      <td>595</td>\n",
              "      <td>472</td>\n",
              "      <td>130</td>\n",
              "      <td>180</td>\n",
              "      <td>42</td>\n",
              "      <td>5</td>\n",
              "      <td>47</td>\n",
              "      <td>373</td>\n",
              "      <td>140</td>\n",
              "      <td>40</td>\n",
              "      <td>8</td>\n",
              "      <td>103</td>\n",
              "      <td>13</td>\n",
              "      <td>11</td>\n",
              "      <td>91</td>\n",
              "      <td>7</td>\n",
              "      <td>0</td>\n",
              "      <td>7</td>\n",
              "      <td>0.381</td>\n",
              "      <td>0.498</td>\n",
              "      <td>0.790</td>\n",
              "      <td>1.288</td>\n",
              "      <td>0.530</td>\n",
              "      <td>222.3</td>\n",
              "      <td>10.71</td>\n",
              "      <td>1986-11-10</td>\n",
              "      <td>1B</td>\n",
              "      <td>N</td>\n",
              "      <td>2015</td>\n",
              "    </tr>\n",
              "    <tr>\n",
              "      <th>2</th>\n",
              "      <td>심정수</td>\n",
              "      <td>133</td>\n",
              "      <td>601</td>\n",
              "      <td>460</td>\n",
              "      <td>110</td>\n",
              "      <td>154</td>\n",
              "      <td>16</td>\n",
              "      <td>1</td>\n",
              "      <td>53</td>\n",
              "      <td>331</td>\n",
              "      <td>142</td>\n",
              "      <td>6</td>\n",
              "      <td>2</td>\n",
              "      <td>124</td>\n",
              "      <td>9</td>\n",
              "      <td>17</td>\n",
              "      <td>63</td>\n",
              "      <td>14</td>\n",
              "      <td>0</td>\n",
              "      <td>8</td>\n",
              "      <td>0.335</td>\n",
              "      <td>0.478</td>\n",
              "      <td>0.720</td>\n",
              "      <td>1.197</td>\n",
              "      <td>0.498</td>\n",
              "      <td>210.7</td>\n",
              "      <td>10.19</td>\n",
              "      <td>1975-05-05</td>\n",
              "      <td>RF</td>\n",
              "      <td>현</td>\n",
              "      <td>2003</td>\n",
              "    </tr>\n",
              "    <tr>\n",
              "      <th>3</th>\n",
              "      <td>이종범</td>\n",
              "      <td>125</td>\n",
              "      <td>577</td>\n",
              "      <td>484</td>\n",
              "      <td>112</td>\n",
              "      <td>157</td>\n",
              "      <td>28</td>\n",
              "      <td>3</td>\n",
              "      <td>30</td>\n",
              "      <td>281</td>\n",
              "      <td>74</td>\n",
              "      <td>64</td>\n",
              "      <td>15</td>\n",
              "      <td>87</td>\n",
              "      <td>3</td>\n",
              "      <td>30</td>\n",
              "      <td>49</td>\n",
              "      <td>9</td>\n",
              "      <td>0</td>\n",
              "      <td>3</td>\n",
              "      <td>0.324</td>\n",
              "      <td>0.428</td>\n",
              "      <td>0.581</td>\n",
              "      <td>1.009</td>\n",
              "      <td>0.431</td>\n",
              "      <td>173.2</td>\n",
              "      <td>9.70</td>\n",
              "      <td>1970-08-15</td>\n",
              "      <td>SS</td>\n",
              "      <td>해</td>\n",
              "      <td>1997</td>\n",
              "    </tr>\n",
              "    <tr>\n",
              "      <th>4</th>\n",
              "      <td>이종범</td>\n",
              "      <td>113</td>\n",
              "      <td>525</td>\n",
              "      <td>449</td>\n",
              "      <td>94</td>\n",
              "      <td>149</td>\n",
              "      <td>28</td>\n",
              "      <td>1</td>\n",
              "      <td>25</td>\n",
              "      <td>254</td>\n",
              "      <td>76</td>\n",
              "      <td>57</td>\n",
              "      <td>12</td>\n",
              "      <td>67</td>\n",
              "      <td>7</td>\n",
              "      <td>15</td>\n",
              "      <td>39</td>\n",
              "      <td>4</td>\n",
              "      <td>0</td>\n",
              "      <td>2</td>\n",
              "      <td>0.332</td>\n",
              "      <td>0.425</td>\n",
              "      <td>0.566</td>\n",
              "      <td>0.991</td>\n",
              "      <td>0.440</td>\n",
              "      <td>184.6</td>\n",
              "      <td>9.52</td>\n",
              "      <td>1970-08-15</td>\n",
              "      <td>SS</td>\n",
              "      <td>해</td>\n",
              "      <td>1996</td>\n",
              "    </tr>\n",
              "  </tbody>\n",
              "</table>\n",
              "</div>\n",
              "      <button class=\"colab-df-convert\" onclick=\"convertToInteractive('df-88f233a4-a51c-4737-866b-8d080090c3c4')\"\n",
              "              title=\"Convert this dataframe to an interactive table.\"\n",
              "              style=\"display:none;\">\n",
              "        \n",
              "  <svg xmlns=\"http://www.w3.org/2000/svg\" height=\"24px\"viewBox=\"0 0 24 24\"\n",
              "       width=\"24px\">\n",
              "    <path d=\"M0 0h24v24H0V0z\" fill=\"none\"/>\n",
              "    <path d=\"M18.56 5.44l.94 2.06.94-2.06 2.06-.94-2.06-.94-.94-2.06-.94 2.06-2.06.94zm-11 1L8.5 8.5l.94-2.06 2.06-.94-2.06-.94L8.5 2.5l-.94 2.06-2.06.94zm10 10l.94 2.06.94-2.06 2.06-.94-2.06-.94-.94-2.06-.94 2.06-2.06.94z\"/><path d=\"M17.41 7.96l-1.37-1.37c-.4-.4-.92-.59-1.43-.59-.52 0-1.04.2-1.43.59L10.3 9.45l-7.72 7.72c-.78.78-.78 2.05 0 2.83L4 21.41c.39.39.9.59 1.41.59.51 0 1.02-.2 1.41-.59l7.78-7.78 2.81-2.81c.8-.78.8-2.07 0-2.86zM5.41 20L4 18.59l7.72-7.72 1.47 1.35L5.41 20z\"/>\n",
              "  </svg>\n",
              "      </button>\n",
              "      \n",
              "  <style>\n",
              "    .colab-df-container {\n",
              "      display:flex;\n",
              "      flex-wrap:wrap;\n",
              "      gap: 12px;\n",
              "    }\n",
              "\n",
              "    .colab-df-convert {\n",
              "      background-color: #E8F0FE;\n",
              "      border: none;\n",
              "      border-radius: 50%;\n",
              "      cursor: pointer;\n",
              "      display: none;\n",
              "      fill: #1967D2;\n",
              "      height: 32px;\n",
              "      padding: 0 0 0 0;\n",
              "      width: 32px;\n",
              "    }\n",
              "\n",
              "    .colab-df-convert:hover {\n",
              "      background-color: #E2EBFA;\n",
              "      box-shadow: 0px 1px 2px rgba(60, 64, 67, 0.3), 0px 1px 3px 1px rgba(60, 64, 67, 0.15);\n",
              "      fill: #174EA6;\n",
              "    }\n",
              "\n",
              "    [theme=dark] .colab-df-convert {\n",
              "      background-color: #3B4455;\n",
              "      fill: #D2E3FC;\n",
              "    }\n",
              "\n",
              "    [theme=dark] .colab-df-convert:hover {\n",
              "      background-color: #434B5C;\n",
              "      box-shadow: 0px 1px 3px 1px rgba(0, 0, 0, 0.15);\n",
              "      filter: drop-shadow(0px 1px 2px rgba(0, 0, 0, 0.3));\n",
              "      fill: #FFFFFF;\n",
              "    }\n",
              "  </style>\n",
              "\n",
              "      <script>\n",
              "        const buttonEl =\n",
              "          document.querySelector('#df-88f233a4-a51c-4737-866b-8d080090c3c4 button.colab-df-convert');\n",
              "        buttonEl.style.display =\n",
              "          google.colab.kernel.accessAllowed ? 'block' : 'none';\n",
              "\n",
              "        async function convertToInteractive(key) {\n",
              "          const element = document.querySelector('#df-88f233a4-a51c-4737-866b-8d080090c3c4');\n",
              "          const dataTable =\n",
              "            await google.colab.kernel.invokeFunction('convertToInteractive',\n",
              "                                                     [key], {});\n",
              "          if (!dataTable) return;\n",
              "\n",
              "          const docLinkHtml = 'Like what you see? Visit the ' +\n",
              "            '<a target=\"_blank\" href=https://colab.research.google.com/notebooks/data_table.ipynb>data table notebook</a>'\n",
              "            + ' to learn more about interactive tables.';\n",
              "          element.innerHTML = '';\n",
              "          dataTable['output_type'] = 'display_data';\n",
              "          await google.colab.output.renderOutput(dataTable, element);\n",
              "          const docLink = document.createElement('div');\n",
              "          docLink.innerHTML = docLinkHtml;\n",
              "          element.appendChild(docLink);\n",
              "        }\n",
              "      </script>\n",
              "    </div>\n",
              "  </div>\n",
              "  "
            ]
          },
          "metadata": {},
          "execution_count": 12
        }
      ]
    },
    {
      "cell_type": "code",
      "source": [
        "# 선수별 고유 아이디 부여\n",
        "info = data[['선수', '생일']].apply(lambda x: tuple(x), axis=1)\n",
        "\n",
        "player_id = {}\n",
        "for i,j in enumerate(info.unique()):\n",
        "    player_id[j] = i\n",
        "    \n",
        "data['ID'] = data.apply(lambda x: player_id[tuple([x['선수'], x['생일']])], axis=1)"
      ],
      "metadata": {
        "id": "1LEgj2zELzsi"
      },
      "execution_count": 13,
      "outputs": []
    },
    {
      "cell_type": "code",
      "source": [
        "columns = ['ID', '연도', '팀', '선수', '생일', '포지션'] + data.columns[2:-5].to_list()\n",
        "data = data[columns]"
      ],
      "metadata": {
        "id": "cJbxLRu3Q0rs"
      },
      "execution_count": 14,
      "outputs": []
    },
    {
      "cell_type": "code",
      "source": [
        "data.head()"
      ],
      "metadata": {
        "colab": {
          "base_uri": "https://localhost:8080/",
          "height": 478
        },
        "id": "hzHHd2YBXPdv",
        "outputId": "5251f1f4-dc38-47d0-8f7b-d2e549395045"
      },
      "execution_count": 15,
      "outputs": [
        {
          "output_type": "execute_result",
          "data": {
            "text/plain": [
              "   ID    연도  팀   선수          생일 포지션   타석   타수   득점   안타  2타  3타  홈런   루타   타점  \\\n",
              "0   0  1994  해  이종범  1970-08-15  SS  561  499  113  196  27   5  19  290   77   \n",
              "1   1  2015  N  테임즈  1986-11-10  1B  595  472  130  180  42   5  47  373  140   \n",
              "2   2  2003  현  심정수  1975-05-05  RF  601  460  110  154  16   1  53  331  142   \n",
              "3   0  1997  해  이종범  1970-08-15  SS  577  484  112  157  28   3  30  281   74   \n",
              "4   0  1996  해  이종범  1970-08-15  SS  525  449   94  149  28   1  25  254   76   \n",
              "\n",
              "   도루  도실   볼넷  사구  고4  삼진  병살  희타  희비     타율     출루     장타    OPS   wOBA  \\\n",
              "0  84  15   51   6  14  31   2   1   4  0.393  0.452  0.581  1.033  0.462   \n",
              "1  40   8  103  13  11  91   7   0   7  0.381  0.498  0.790  1.288  0.530   \n",
              "2   6   2  124   9  17  63  14   0   8  0.335  0.478  0.720  1.197  0.498   \n",
              "3  64  15   87   3  30  49   9   0   3  0.324  0.428  0.581  1.009  0.431   \n",
              "4  57  12   67   7  15  39   4   0   2  0.332  0.425  0.566  0.991  0.440   \n",
              "\n",
              "    wRC+   WAR+  \n",
              "0  198.3  11.77  \n",
              "1  222.3  10.71  \n",
              "2  210.7  10.19  \n",
              "3  173.2   9.70  \n",
              "4  184.6   9.52  "
            ],
            "text/html": [
              "\n",
              "  <div id=\"df-02e48e1c-5d9d-4980-bf53-67533a4b31a7\">\n",
              "    <div class=\"colab-df-container\">\n",
              "      <div>\n",
              "<style scoped>\n",
              "    .dataframe tbody tr th:only-of-type {\n",
              "        vertical-align: middle;\n",
              "    }\n",
              "\n",
              "    .dataframe tbody tr th {\n",
              "        vertical-align: top;\n",
              "    }\n",
              "\n",
              "    .dataframe thead th {\n",
              "        text-align: right;\n",
              "    }\n",
              "</style>\n",
              "<table border=\"1\" class=\"dataframe\">\n",
              "  <thead>\n",
              "    <tr style=\"text-align: right;\">\n",
              "      <th></th>\n",
              "      <th>ID</th>\n",
              "      <th>연도</th>\n",
              "      <th>팀</th>\n",
              "      <th>선수</th>\n",
              "      <th>생일</th>\n",
              "      <th>포지션</th>\n",
              "      <th>타석</th>\n",
              "      <th>타수</th>\n",
              "      <th>득점</th>\n",
              "      <th>안타</th>\n",
              "      <th>2타</th>\n",
              "      <th>3타</th>\n",
              "      <th>홈런</th>\n",
              "      <th>루타</th>\n",
              "      <th>타점</th>\n",
              "      <th>도루</th>\n",
              "      <th>도실</th>\n",
              "      <th>볼넷</th>\n",
              "      <th>사구</th>\n",
              "      <th>고4</th>\n",
              "      <th>삼진</th>\n",
              "      <th>병살</th>\n",
              "      <th>희타</th>\n",
              "      <th>희비</th>\n",
              "      <th>타율</th>\n",
              "      <th>출루</th>\n",
              "      <th>장타</th>\n",
              "      <th>OPS</th>\n",
              "      <th>wOBA</th>\n",
              "      <th>wRC+</th>\n",
              "      <th>WAR+</th>\n",
              "    </tr>\n",
              "  </thead>\n",
              "  <tbody>\n",
              "    <tr>\n",
              "      <th>0</th>\n",
              "      <td>0</td>\n",
              "      <td>1994</td>\n",
              "      <td>해</td>\n",
              "      <td>이종범</td>\n",
              "      <td>1970-08-15</td>\n",
              "      <td>SS</td>\n",
              "      <td>561</td>\n",
              "      <td>499</td>\n",
              "      <td>113</td>\n",
              "      <td>196</td>\n",
              "      <td>27</td>\n",
              "      <td>5</td>\n",
              "      <td>19</td>\n",
              "      <td>290</td>\n",
              "      <td>77</td>\n",
              "      <td>84</td>\n",
              "      <td>15</td>\n",
              "      <td>51</td>\n",
              "      <td>6</td>\n",
              "      <td>14</td>\n",
              "      <td>31</td>\n",
              "      <td>2</td>\n",
              "      <td>1</td>\n",
              "      <td>4</td>\n",
              "      <td>0.393</td>\n",
              "      <td>0.452</td>\n",
              "      <td>0.581</td>\n",
              "      <td>1.033</td>\n",
              "      <td>0.462</td>\n",
              "      <td>198.3</td>\n",
              "      <td>11.77</td>\n",
              "    </tr>\n",
              "    <tr>\n",
              "      <th>1</th>\n",
              "      <td>1</td>\n",
              "      <td>2015</td>\n",
              "      <td>N</td>\n",
              "      <td>테임즈</td>\n",
              "      <td>1986-11-10</td>\n",
              "      <td>1B</td>\n",
              "      <td>595</td>\n",
              "      <td>472</td>\n",
              "      <td>130</td>\n",
              "      <td>180</td>\n",
              "      <td>42</td>\n",
              "      <td>5</td>\n",
              "      <td>47</td>\n",
              "      <td>373</td>\n",
              "      <td>140</td>\n",
              "      <td>40</td>\n",
              "      <td>8</td>\n",
              "      <td>103</td>\n",
              "      <td>13</td>\n",
              "      <td>11</td>\n",
              "      <td>91</td>\n",
              "      <td>7</td>\n",
              "      <td>0</td>\n",
              "      <td>7</td>\n",
              "      <td>0.381</td>\n",
              "      <td>0.498</td>\n",
              "      <td>0.790</td>\n",
              "      <td>1.288</td>\n",
              "      <td>0.530</td>\n",
              "      <td>222.3</td>\n",
              "      <td>10.71</td>\n",
              "    </tr>\n",
              "    <tr>\n",
              "      <th>2</th>\n",
              "      <td>2</td>\n",
              "      <td>2003</td>\n",
              "      <td>현</td>\n",
              "      <td>심정수</td>\n",
              "      <td>1975-05-05</td>\n",
              "      <td>RF</td>\n",
              "      <td>601</td>\n",
              "      <td>460</td>\n",
              "      <td>110</td>\n",
              "      <td>154</td>\n",
              "      <td>16</td>\n",
              "      <td>1</td>\n",
              "      <td>53</td>\n",
              "      <td>331</td>\n",
              "      <td>142</td>\n",
              "      <td>6</td>\n",
              "      <td>2</td>\n",
              "      <td>124</td>\n",
              "      <td>9</td>\n",
              "      <td>17</td>\n",
              "      <td>63</td>\n",
              "      <td>14</td>\n",
              "      <td>0</td>\n",
              "      <td>8</td>\n",
              "      <td>0.335</td>\n",
              "      <td>0.478</td>\n",
              "      <td>0.720</td>\n",
              "      <td>1.197</td>\n",
              "      <td>0.498</td>\n",
              "      <td>210.7</td>\n",
              "      <td>10.19</td>\n",
              "    </tr>\n",
              "    <tr>\n",
              "      <th>3</th>\n",
              "      <td>0</td>\n",
              "      <td>1997</td>\n",
              "      <td>해</td>\n",
              "      <td>이종범</td>\n",
              "      <td>1970-08-15</td>\n",
              "      <td>SS</td>\n",
              "      <td>577</td>\n",
              "      <td>484</td>\n",
              "      <td>112</td>\n",
              "      <td>157</td>\n",
              "      <td>28</td>\n",
              "      <td>3</td>\n",
              "      <td>30</td>\n",
              "      <td>281</td>\n",
              "      <td>74</td>\n",
              "      <td>64</td>\n",
              "      <td>15</td>\n",
              "      <td>87</td>\n",
              "      <td>3</td>\n",
              "      <td>30</td>\n",
              "      <td>49</td>\n",
              "      <td>9</td>\n",
              "      <td>0</td>\n",
              "      <td>3</td>\n",
              "      <td>0.324</td>\n",
              "      <td>0.428</td>\n",
              "      <td>0.581</td>\n",
              "      <td>1.009</td>\n",
              "      <td>0.431</td>\n",
              "      <td>173.2</td>\n",
              "      <td>9.70</td>\n",
              "    </tr>\n",
              "    <tr>\n",
              "      <th>4</th>\n",
              "      <td>0</td>\n",
              "      <td>1996</td>\n",
              "      <td>해</td>\n",
              "      <td>이종범</td>\n",
              "      <td>1970-08-15</td>\n",
              "      <td>SS</td>\n",
              "      <td>525</td>\n",
              "      <td>449</td>\n",
              "      <td>94</td>\n",
              "      <td>149</td>\n",
              "      <td>28</td>\n",
              "      <td>1</td>\n",
              "      <td>25</td>\n",
              "      <td>254</td>\n",
              "      <td>76</td>\n",
              "      <td>57</td>\n",
              "      <td>12</td>\n",
              "      <td>67</td>\n",
              "      <td>7</td>\n",
              "      <td>15</td>\n",
              "      <td>39</td>\n",
              "      <td>4</td>\n",
              "      <td>0</td>\n",
              "      <td>2</td>\n",
              "      <td>0.332</td>\n",
              "      <td>0.425</td>\n",
              "      <td>0.566</td>\n",
              "      <td>0.991</td>\n",
              "      <td>0.440</td>\n",
              "      <td>184.6</td>\n",
              "      <td>9.52</td>\n",
              "    </tr>\n",
              "  </tbody>\n",
              "</table>\n",
              "</div>\n",
              "      <button class=\"colab-df-convert\" onclick=\"convertToInteractive('df-02e48e1c-5d9d-4980-bf53-67533a4b31a7')\"\n",
              "              title=\"Convert this dataframe to an interactive table.\"\n",
              "              style=\"display:none;\">\n",
              "        \n",
              "  <svg xmlns=\"http://www.w3.org/2000/svg\" height=\"24px\"viewBox=\"0 0 24 24\"\n",
              "       width=\"24px\">\n",
              "    <path d=\"M0 0h24v24H0V0z\" fill=\"none\"/>\n",
              "    <path d=\"M18.56 5.44l.94 2.06.94-2.06 2.06-.94-2.06-.94-.94-2.06-.94 2.06-2.06.94zm-11 1L8.5 8.5l.94-2.06 2.06-.94-2.06-.94L8.5 2.5l-.94 2.06-2.06.94zm10 10l.94 2.06.94-2.06 2.06-.94-2.06-.94-.94-2.06-.94 2.06-2.06.94z\"/><path d=\"M17.41 7.96l-1.37-1.37c-.4-.4-.92-.59-1.43-.59-.52 0-1.04.2-1.43.59L10.3 9.45l-7.72 7.72c-.78.78-.78 2.05 0 2.83L4 21.41c.39.39.9.59 1.41.59.51 0 1.02-.2 1.41-.59l7.78-7.78 2.81-2.81c.8-.78.8-2.07 0-2.86zM5.41 20L4 18.59l7.72-7.72 1.47 1.35L5.41 20z\"/>\n",
              "  </svg>\n",
              "      </button>\n",
              "      \n",
              "  <style>\n",
              "    .colab-df-container {\n",
              "      display:flex;\n",
              "      flex-wrap:wrap;\n",
              "      gap: 12px;\n",
              "    }\n",
              "\n",
              "    .colab-df-convert {\n",
              "      background-color: #E8F0FE;\n",
              "      border: none;\n",
              "      border-radius: 50%;\n",
              "      cursor: pointer;\n",
              "      display: none;\n",
              "      fill: #1967D2;\n",
              "      height: 32px;\n",
              "      padding: 0 0 0 0;\n",
              "      width: 32px;\n",
              "    }\n",
              "\n",
              "    .colab-df-convert:hover {\n",
              "      background-color: #E2EBFA;\n",
              "      box-shadow: 0px 1px 2px rgba(60, 64, 67, 0.3), 0px 1px 3px 1px rgba(60, 64, 67, 0.15);\n",
              "      fill: #174EA6;\n",
              "    }\n",
              "\n",
              "    [theme=dark] .colab-df-convert {\n",
              "      background-color: #3B4455;\n",
              "      fill: #D2E3FC;\n",
              "    }\n",
              "\n",
              "    [theme=dark] .colab-df-convert:hover {\n",
              "      background-color: #434B5C;\n",
              "      box-shadow: 0px 1px 3px 1px rgba(0, 0, 0, 0.15);\n",
              "      filter: drop-shadow(0px 1px 2px rgba(0, 0, 0, 0.3));\n",
              "      fill: #FFFFFF;\n",
              "    }\n",
              "  </style>\n",
              "\n",
              "      <script>\n",
              "        const buttonEl =\n",
              "          document.querySelector('#df-02e48e1c-5d9d-4980-bf53-67533a4b31a7 button.colab-df-convert');\n",
              "        buttonEl.style.display =\n",
              "          google.colab.kernel.accessAllowed ? 'block' : 'none';\n",
              "\n",
              "        async function convertToInteractive(key) {\n",
              "          const element = document.querySelector('#df-02e48e1c-5d9d-4980-bf53-67533a4b31a7');\n",
              "          const dataTable =\n",
              "            await google.colab.kernel.invokeFunction('convertToInteractive',\n",
              "                                                     [key], {});\n",
              "          if (!dataTable) return;\n",
              "\n",
              "          const docLinkHtml = 'Like what you see? Visit the ' +\n",
              "            '<a target=\"_blank\" href=https://colab.research.google.com/notebooks/data_table.ipynb>data table notebook</a>'\n",
              "            + ' to learn more about interactive tables.';\n",
              "          element.innerHTML = '';\n",
              "          dataTable['output_type'] = 'display_data';\n",
              "          await google.colab.output.renderOutput(dataTable, element);\n",
              "          const docLink = document.createElement('div');\n",
              "          docLink.innerHTML = docLinkHtml;\n",
              "          element.appendChild(docLink);\n",
              "        }\n",
              "      </script>\n",
              "    </div>\n",
              "  </div>\n",
              "  "
            ]
          },
          "metadata": {},
          "execution_count": 15
        }
      ]
    },
    {
      "cell_type": "markdown",
      "source": [
        "데이터에 null 값이 있나 확인을 해보았다."
      ],
      "metadata": {
        "id": "p-TNhRKgYDT8"
      }
    },
    {
      "cell_type": "code",
      "source": [
        "data.isnull().sum()"
      ],
      "metadata": {
        "id": "RqyDU7DcDcAt",
        "colab": {
          "base_uri": "https://localhost:8080/"
        },
        "outputId": "5a14b03e-b387-4469-eaa5-590b36de0a1f"
      },
      "execution_count": 16,
      "outputs": [
        {
          "output_type": "execute_result",
          "data": {
            "text/plain": [
              "ID         0\n",
              "연도         0\n",
              "팀          0\n",
              "선수         0\n",
              "생일         0\n",
              "포지션     1518\n",
              "타석         0\n",
              "타수         0\n",
              "득점         0\n",
              "안타         0\n",
              "2타         0\n",
              "3타         0\n",
              "홈런         0\n",
              "루타         0\n",
              "타점         0\n",
              "도루         0\n",
              "도실         0\n",
              "볼넷         0\n",
              "사구         0\n",
              "고4         0\n",
              "삼진         0\n",
              "병살         0\n",
              "희타         0\n",
              "희비         0\n",
              "타율      1269\n",
              "출루       859\n",
              "장타      1269\n",
              "OPS     1269\n",
              "wOBA     747\n",
              "wRC+    1291\n",
              "WAR+       0\n",
              "dtype: int64"
            ]
          },
          "metadata": {},
          "execution_count": 16
        }
      ]
    },
    {
      "cell_type": "markdown",
      "source": [
        "OPS가 비어있는 선수들을 다시 확인을 해보았다."
      ],
      "metadata": {
        "id": "PpF6rswThCD_"
      }
    },
    {
      "cell_type": "code",
      "source": [
        "data[data['OPS'].isnull()].head(1)"
      ],
      "metadata": {
        "colab": {
          "base_uri": "https://localhost:8080/",
          "height": 214
        },
        "id": "BEJXCUjDYYDk",
        "outputId": "b107d034-cd68-4d13-898d-ea8193dfcf42"
      },
      "execution_count": 17,
      "outputs": [
        {
          "output_type": "execute_result",
          "data": {
            "text/plain": [
              "       ID    연도  팀   선수          생일 포지션   타석   타수  득점  안타  2타  3타  홈런  루타  타점  \\\n",
              "4700  428  2015  넥  문우람  1992-03-08  RF  138  119  22  28  10   0   2  44  22   \n",
              "\n",
              "      도루  도실  볼넷  사구  고4  삼진  병살  희타  희비  타율     출루  장타  OPS   wOBA  wRC+  \\\n",
              "4700   1   1  12   3   1  30   1   1   3 NaN  0.314 NaN  NaN  0.306   NaN   \n",
              "\n",
              "      WAR+  \n",
              "4700  0.05  "
            ],
            "text/html": [
              "\n",
              "  <div id=\"df-666d397a-f780-4abb-9904-a08e359d44ae\">\n",
              "    <div class=\"colab-df-container\">\n",
              "      <div>\n",
              "<style scoped>\n",
              "    .dataframe tbody tr th:only-of-type {\n",
              "        vertical-align: middle;\n",
              "    }\n",
              "\n",
              "    .dataframe tbody tr th {\n",
              "        vertical-align: top;\n",
              "    }\n",
              "\n",
              "    .dataframe thead th {\n",
              "        text-align: right;\n",
              "    }\n",
              "</style>\n",
              "<table border=\"1\" class=\"dataframe\">\n",
              "  <thead>\n",
              "    <tr style=\"text-align: right;\">\n",
              "      <th></th>\n",
              "      <th>ID</th>\n",
              "      <th>연도</th>\n",
              "      <th>팀</th>\n",
              "      <th>선수</th>\n",
              "      <th>생일</th>\n",
              "      <th>포지션</th>\n",
              "      <th>타석</th>\n",
              "      <th>타수</th>\n",
              "      <th>득점</th>\n",
              "      <th>안타</th>\n",
              "      <th>2타</th>\n",
              "      <th>3타</th>\n",
              "      <th>홈런</th>\n",
              "      <th>루타</th>\n",
              "      <th>타점</th>\n",
              "      <th>도루</th>\n",
              "      <th>도실</th>\n",
              "      <th>볼넷</th>\n",
              "      <th>사구</th>\n",
              "      <th>고4</th>\n",
              "      <th>삼진</th>\n",
              "      <th>병살</th>\n",
              "      <th>희타</th>\n",
              "      <th>희비</th>\n",
              "      <th>타율</th>\n",
              "      <th>출루</th>\n",
              "      <th>장타</th>\n",
              "      <th>OPS</th>\n",
              "      <th>wOBA</th>\n",
              "      <th>wRC+</th>\n",
              "      <th>WAR+</th>\n",
              "    </tr>\n",
              "  </thead>\n",
              "  <tbody>\n",
              "    <tr>\n",
              "      <th>4700</th>\n",
              "      <td>428</td>\n",
              "      <td>2015</td>\n",
              "      <td>넥</td>\n",
              "      <td>문우람</td>\n",
              "      <td>1992-03-08</td>\n",
              "      <td>RF</td>\n",
              "      <td>138</td>\n",
              "      <td>119</td>\n",
              "      <td>22</td>\n",
              "      <td>28</td>\n",
              "      <td>10</td>\n",
              "      <td>0</td>\n",
              "      <td>2</td>\n",
              "      <td>44</td>\n",
              "      <td>22</td>\n",
              "      <td>1</td>\n",
              "      <td>1</td>\n",
              "      <td>12</td>\n",
              "      <td>3</td>\n",
              "      <td>1</td>\n",
              "      <td>30</td>\n",
              "      <td>1</td>\n",
              "      <td>1</td>\n",
              "      <td>3</td>\n",
              "      <td>NaN</td>\n",
              "      <td>0.314</td>\n",
              "      <td>NaN</td>\n",
              "      <td>NaN</td>\n",
              "      <td>0.306</td>\n",
              "      <td>NaN</td>\n",
              "      <td>0.05</td>\n",
              "    </tr>\n",
              "  </tbody>\n",
              "</table>\n",
              "</div>\n",
              "      <button class=\"colab-df-convert\" onclick=\"convertToInteractive('df-666d397a-f780-4abb-9904-a08e359d44ae')\"\n",
              "              title=\"Convert this dataframe to an interactive table.\"\n",
              "              style=\"display:none;\">\n",
              "        \n",
              "  <svg xmlns=\"http://www.w3.org/2000/svg\" height=\"24px\"viewBox=\"0 0 24 24\"\n",
              "       width=\"24px\">\n",
              "    <path d=\"M0 0h24v24H0V0z\" fill=\"none\"/>\n",
              "    <path d=\"M18.56 5.44l.94 2.06.94-2.06 2.06-.94-2.06-.94-.94-2.06-.94 2.06-2.06.94zm-11 1L8.5 8.5l.94-2.06 2.06-.94-2.06-.94L8.5 2.5l-.94 2.06-2.06.94zm10 10l.94 2.06.94-2.06 2.06-.94-2.06-.94-.94-2.06-.94 2.06-2.06.94z\"/><path d=\"M17.41 7.96l-1.37-1.37c-.4-.4-.92-.59-1.43-.59-.52 0-1.04.2-1.43.59L10.3 9.45l-7.72 7.72c-.78.78-.78 2.05 0 2.83L4 21.41c.39.39.9.59 1.41.59.51 0 1.02-.2 1.41-.59l7.78-7.78 2.81-2.81c.8-.78.8-2.07 0-2.86zM5.41 20L4 18.59l7.72-7.72 1.47 1.35L5.41 20z\"/>\n",
              "  </svg>\n",
              "      </button>\n",
              "      \n",
              "  <style>\n",
              "    .colab-df-container {\n",
              "      display:flex;\n",
              "      flex-wrap:wrap;\n",
              "      gap: 12px;\n",
              "    }\n",
              "\n",
              "    .colab-df-convert {\n",
              "      background-color: #E8F0FE;\n",
              "      border: none;\n",
              "      border-radius: 50%;\n",
              "      cursor: pointer;\n",
              "      display: none;\n",
              "      fill: #1967D2;\n",
              "      height: 32px;\n",
              "      padding: 0 0 0 0;\n",
              "      width: 32px;\n",
              "    }\n",
              "\n",
              "    .colab-df-convert:hover {\n",
              "      background-color: #E2EBFA;\n",
              "      box-shadow: 0px 1px 2px rgba(60, 64, 67, 0.3), 0px 1px 3px 1px rgba(60, 64, 67, 0.15);\n",
              "      fill: #174EA6;\n",
              "    }\n",
              "\n",
              "    [theme=dark] .colab-df-convert {\n",
              "      background-color: #3B4455;\n",
              "      fill: #D2E3FC;\n",
              "    }\n",
              "\n",
              "    [theme=dark] .colab-df-convert:hover {\n",
              "      background-color: #434B5C;\n",
              "      box-shadow: 0px 1px 3px 1px rgba(0, 0, 0, 0.15);\n",
              "      filter: drop-shadow(0px 1px 2px rgba(0, 0, 0, 0.3));\n",
              "      fill: #FFFFFF;\n",
              "    }\n",
              "  </style>\n",
              "\n",
              "      <script>\n",
              "        const buttonEl =\n",
              "          document.querySelector('#df-666d397a-f780-4abb-9904-a08e359d44ae button.colab-df-convert');\n",
              "        buttonEl.style.display =\n",
              "          google.colab.kernel.accessAllowed ? 'block' : 'none';\n",
              "\n",
              "        async function convertToInteractive(key) {\n",
              "          const element = document.querySelector('#df-666d397a-f780-4abb-9904-a08e359d44ae');\n",
              "          const dataTable =\n",
              "            await google.colab.kernel.invokeFunction('convertToInteractive',\n",
              "                                                     [key], {});\n",
              "          if (!dataTable) return;\n",
              "\n",
              "          const docLinkHtml = 'Like what you see? Visit the ' +\n",
              "            '<a target=\"_blank\" href=https://colab.research.google.com/notebooks/data_table.ipynb>data table notebook</a>'\n",
              "            + ' to learn more about interactive tables.';\n",
              "          element.innerHTML = '';\n",
              "          dataTable['output_type'] = 'display_data';\n",
              "          await google.colab.output.renderOutput(dataTable, element);\n",
              "          const docLink = document.createElement('div');\n",
              "          docLink.innerHTML = docLinkHtml;\n",
              "          element.appendChild(docLink);\n",
              "        }\n",
              "      </script>\n",
              "    </div>\n",
              "  </div>\n",
              "  "
            ]
          },
          "metadata": {},
          "execution_count": 17
        }
      ]
    },
    {
      "cell_type": "markdown",
      "source": [
        "타율, 출루, 장타, OPS, 등등이 비어 있는데 이 지표들은 나머지 지표로 계산이 가능하기 떄문에 계산을 해주었다.\n",
        "\n",
        "타율 : 안타 / 타수  \n",
        "출루 : 안타 + 볼넷 + 사구 / 타수  \n",
        "장타 : 안타 + 1 * 2타 + 2 * 3타 + 3 * 홈런 / 타수  \n",
        "OPS :  출루 + 장타"
      ],
      "metadata": {
        "id": "bSqHEGVnYWGj"
      }
    },
    {
      "cell_type": "code",
      "source": [
        "data['타율'] = data['안타'] / data['타수']\n",
        "data['출루'] = (data['안타'] + data['볼넷'] + data['사구']) / (data['타수'] + data['볼넷'] + data['사구'] + data['희타'] + data['희비'])\n",
        "data['장타'] = (data['안타'] + data['2타'] + 2*(data['3타']) + 3* data['홈런']) / data['타수']\n",
        "data['OPS'] = data['출루'] + data['장타']"
      ],
      "metadata": {
        "id": "Bns8voPhQQxP"
      },
      "execution_count": 18,
      "outputs": []
    },
    {
      "cell_type": "code",
      "source": [
        "data['타율'] = round(data['타율'],3)\n",
        "data['출루'] = round(data['출루'],3)\n",
        "data['장타'] = round(data['장타'],3)\n",
        "data['OPS'] = round(data['OPS'],3)"
      ],
      "metadata": {
        "id": "6eb-SPnCOOYs"
      },
      "execution_count": 19,
      "outputs": []
    },
    {
      "cell_type": "code",
      "source": [
        "data.isnull().sum()"
      ],
      "metadata": {
        "colab": {
          "base_uri": "https://localhost:8080/"
        },
        "id": "Q7CIWQTcSVIH",
        "outputId": "fa5d10a8-217e-4cda-e741-ce85035e258e"
      },
      "execution_count": 20,
      "outputs": [
        {
          "output_type": "execute_result",
          "data": {
            "text/plain": [
              "ID         0\n",
              "연도         0\n",
              "팀          0\n",
              "선수         0\n",
              "생일         0\n",
              "포지션     1518\n",
              "타석         0\n",
              "타수         0\n",
              "득점         0\n",
              "안타         0\n",
              "2타         0\n",
              "3타         0\n",
              "홈런         0\n",
              "루타         0\n",
              "타점         0\n",
              "도루         0\n",
              "도실         0\n",
              "볼넷         0\n",
              "사구         0\n",
              "고4         0\n",
              "삼진         0\n",
              "병살         0\n",
              "희타         0\n",
              "희비         0\n",
              "타율       124\n",
              "출루       110\n",
              "장타       124\n",
              "OPS      124\n",
              "wOBA     747\n",
              "wRC+    1291\n",
              "WAR+       0\n",
              "dtype: int64"
            ]
          },
          "metadata": {},
          "execution_count": 20
        }
      ]
    },
    {
      "cell_type": "markdown",
      "source": [
        "아직도 null 값이 존재해서 다시 살펴봤더니 타수가 0인 선수들이 있었다."
      ],
      "metadata": {
        "id": "u0PoB3nYS3m3"
      }
    },
    {
      "cell_type": "code",
      "source": [
        "data[data['타율'].isnull()]['타수'].value_counts()"
      ],
      "metadata": {
        "colab": {
          "base_uri": "https://localhost:8080/"
        },
        "id": "MHPxpWjUSbCw",
        "outputId": "9442a482-6879-4200-f646-9cbbf38326e8"
      },
      "execution_count": 21,
      "outputs": [
        {
          "output_type": "execute_result",
          "data": {
            "text/plain": [
              "0    124\n",
              "Name: 타수, dtype: int64"
            ]
          },
          "metadata": {},
          "execution_count": 21
        }
      ]
    },
    {
      "cell_type": "code",
      "source": [
        "data['타율'] = data['타율'].fillna(0)\n",
        "data['출루'] = data['출루'].fillna(0)\n",
        "data['장타'] = data['장타'].fillna(0)\n",
        "data['OPS'] = data['OPS'].fillna(0)"
      ],
      "metadata": {
        "id": "q4d0r6CsVa4o"
      },
      "execution_count": 22,
      "outputs": []
    },
    {
      "cell_type": "code",
      "source": [
        "data.isnull().sum()"
      ],
      "metadata": {
        "colab": {
          "base_uri": "https://localhost:8080/"
        },
        "id": "rnVDOnaRUyU8",
        "outputId": "3406db03-ee00-4b72-f804-93a6fbe4fa41"
      },
      "execution_count": 23,
      "outputs": [
        {
          "output_type": "execute_result",
          "data": {
            "text/plain": [
              "ID         0\n",
              "연도         0\n",
              "팀          0\n",
              "선수         0\n",
              "생일         0\n",
              "포지션     1518\n",
              "타석         0\n",
              "타수         0\n",
              "득점         0\n",
              "안타         0\n",
              "2타         0\n",
              "3타         0\n",
              "홈런         0\n",
              "루타         0\n",
              "타점         0\n",
              "도루         0\n",
              "도실         0\n",
              "볼넷         0\n",
              "사구         0\n",
              "고4         0\n",
              "삼진         0\n",
              "병살         0\n",
              "희타         0\n",
              "희비         0\n",
              "타율         0\n",
              "출루         0\n",
              "장타         0\n",
              "OPS        0\n",
              "wOBA     747\n",
              "wRC+    1291\n",
              "WAR+       0\n",
              "dtype: int64"
            ]
          },
          "metadata": {},
          "execution_count": 23
        }
      ]
    },
    {
      "cell_type": "markdown",
      "source": [
        "# 3.EDA"
      ],
      "metadata": {
        "id": "xrIk0iqXY2CI"
      }
    },
    {
      "cell_type": "markdown",
      "source": [
        "## 3.1 Insight 도출"
      ],
      "metadata": {
        "id": "cM8XNEIp3FU8"
      }
    },
    {
      "cell_type": "markdown",
      "source": [
        "1.   OPS는 출루율과 장타율을 더한 기록이다.\n",
        "2.   출루율은 (안타 개수 + 볼 넷 + 사구) / (타수 + 볼 넷 + 사구 + 희생플라이)\n",
        "3.   장타율은 {단타 개수 + (2 x 2루타 개수) + (3 x 3루타 개수) + (4 x 홈런 개수)} / 타수\n",
        "4.   볼 넷을 많이 얻을 수록 OPS가 높을 것이다.\n",
        "5.   장타율에 2,3,4루타가 가중치가 붙으니 타구를 멀리 보낼 수록 OPS가 높을 것이다.\n",
        "6.   내야수의 수비 스트레스가 외야수보다 크기 때문에 포지션 별로 OPS를 비교해봐야 할 것 같다.\n",
        "7.   타수가 적으면 OPS를 정확하게 예측하기 힘들 것이다."
      ],
      "metadata": {
        "id": "FAsq19Q33MA0"
      }
    },
    {
      "cell_type": "markdown",
      "source": [
        "가장 먼저 상관관계를 보자면"
      ],
      "metadata": {
        "id": "IF7ECNcqASFZ"
      }
    },
    {
      "cell_type": "code",
      "source": [
        "data.corr()['OPS']"
      ],
      "metadata": {
        "id": "yR431ITY_2rf",
        "colab": {
          "base_uri": "https://localhost:8080/"
        },
        "outputId": "d5fc3241-a5c4-4712-b0a2-293329ffb4e7"
      },
      "execution_count": 24,
      "outputs": [
        {
          "output_type": "execute_result",
          "data": {
            "text/plain": [
              "ID     -0.493252\n",
              "연도      0.029004\n",
              "타석      0.530090\n",
              "타수      0.526342\n",
              "득점      0.530430\n",
              "안타      0.545307\n",
              "2타      0.530729\n",
              "3타      0.297005\n",
              "홈런      0.486671\n",
              "루타      0.558713\n",
              "타점      0.543252\n",
              "도루      0.257654\n",
              "도실      0.301621\n",
              "볼넷      0.519875\n",
              "사구      0.395356\n",
              "고4      0.334289\n",
              "삼진      0.489964\n",
              "병살      0.443311\n",
              "희타      0.170607\n",
              "희비      0.409248\n",
              "타율      0.932200\n",
              "출루      0.890180\n",
              "장타      0.969436\n",
              "OPS     1.000000\n",
              "wOBA    0.982395\n",
              "wRC+    0.984074\n",
              "WAR+    0.522744\n",
              "Name: OPS, dtype: float64"
            ]
          },
          "metadata": {},
          "execution_count": 24
        }
      ]
    },
    {
      "cell_type": "markdown",
      "source": [
        "ID, 연도는 사실 상관이 없는 column이고, 타율, 출루, 장타, wOBA, wRC+가 강한 양의 상관관계가 있다는 것을 알 수 있다."
      ],
      "metadata": {
        "id": "lYDeYgY6Abks"
      }
    },
    {
      "cell_type": "markdown",
      "source": [
        "### 3.1.1 사사구"
      ],
      "metadata": {
        "id": "p_MfyatU8hok"
      }
    },
    {
      "cell_type": "markdown",
      "source": [
        "볼 넷의 상관계수가 생각보다 낮았다, 야구에서는 안타를 치지 않아도 출루를 할 수 있는 볼 넷, 고4를 더해서 사사구라는 새로운 변수를 만들어 보기로 했다."
      ],
      "metadata": {
        "id": "1vZH5LKW8rZT"
      }
    },
    {
      "cell_type": "code",
      "source": [
        "data['사사구'] = data['볼넷'] + data['사구'] + data['고4']"
      ],
      "metadata": {
        "id": "a0gZNuFf8qOC"
      },
      "execution_count": 25,
      "outputs": []
    },
    {
      "cell_type": "code",
      "source": [
        "data.corr()['OPS']['사사구']"
      ],
      "metadata": {
        "id": "onv94TCh9Ppl",
        "colab": {
          "base_uri": "https://localhost:8080/"
        },
        "outputId": "dde3e96c-0166-4970-e97e-0b9a8ad773ed"
      },
      "execution_count": 26,
      "outputs": [
        {
          "output_type": "execute_result",
          "data": {
            "text/plain": [
              "0.5272096640351521"
            ]
          },
          "metadata": {},
          "execution_count": 26
        }
      ]
    },
    {
      "cell_type": "markdown",
      "source": [
        "볼넷, 사구의 상관 계수보다는 높지만 크게 유의미하지는 않은 것 같아 그래프까지 그려보았다."
      ],
      "metadata": {
        "id": "E0GYBusH9l4D"
      }
    },
    {
      "cell_type": "code",
      "source": [
        "fig = plt.figure(figsize = (5,5))\n",
        "ax = fig.add_subplot()\n",
        "\n",
        "_ = sns.regplot(x = '사사구', y = 'OPS', data = data)"
      ],
      "metadata": {
        "id": "hGjTJRI29yYT",
        "colab": {
          "base_uri": "https://localhost:8080/",
          "height": 334
        },
        "outputId": "7a738a6b-b67e-4bed-90c4-2fd88e5ae272"
      },
      "execution_count": 27,
      "outputs": [
        {
          "output_type": "display_data",
          "data": {
            "text/plain": [
              "<Figure size 360x360 with 1 Axes>"
            ],
            "image/png": "[encoded data removed]"
          },
          "metadata": {
            "needs_background": "light"
          }
        }
      ]
    },
    {
      "cell_type": "markdown",
      "source": [
        "그래도 사사구가 늘어날 수록 OPS가 늘어나는 것을 확인 할 수 있었다."
      ],
      "metadata": {
        "id": "HQE14y22BE9u"
      }
    },
    {
      "cell_type": "markdown",
      "source": [
        "### 3.1.2 장타"
      ],
      "metadata": {
        "id": "1fM6piy0B22H"
      }
    },
    {
      "cell_type": "markdown",
      "source": [
        "안타와 2루타, 3루타 홈런은 각각 1,2,3,4라는 가중치가 붙는다. 따라서 타구를 멀리 보낸다면 OPS가 높게 나올 것 같았다."
      ],
      "metadata": {
        "id": "j9Qkl5wNCGkA"
      }
    },
    {
      "cell_type": "code",
      "source": [
        "fig = plt.figure(figsize = (15,5))\n",
        "ax = fig.add_subplot()\n",
        "\n",
        "_ = sns.regplot(x = '장타', y = 'OPS', data = data, ci = None)"
      ],
      "metadata": {
        "id": "dGtXnQ3-_B3C",
        "colab": {
          "base_uri": "https://localhost:8080/",
          "height": 334
        },
        "outputId": "eaf9da58-7f44-441f-e9af-fde36b25d426"
      },
      "execution_count": 28,
      "outputs": [
        {
          "output_type": "display_data",
          "data": {
            "text/plain": [
              "<Figure size 1080x360 with 1 Axes>"
            ],
            "image/png": "[encoded data removed]"
          },
          "metadata": {
            "needs_background": "light"
          }
        }
      ]
    },
    {
      "cell_type": "markdown",
      "source": [
        "장타율이 높을 수록 OPS가 증가하는 경향이 있다는 것을 볼 수 있다."
      ],
      "metadata": {
        "id": "mzlnS5o-BZj3"
      }
    },
    {
      "cell_type": "markdown",
      "source": [
        "### 3.1.3 포지션"
      ],
      "metadata": {
        "id": "nRwxLZ-Mwtlt"
      }
    },
    {
      "cell_type": "code",
      "source": [
        "fig = plt.figure(figsize = (15,5))\n",
        "ax = fig.add_subplot()\n",
        "\n",
        "_ = sns.violinplot(x = '포지션', y = 'OPS', data = data, ci = None)"
      ],
      "metadata": {
        "id": "PED9Mh3DwtMM",
        "colab": {
          "base_uri": "https://localhost:8080/",
          "height": 334
        },
        "outputId": "ca4cc884-5127-4641-a4a9-5d781e3f0023"
      },
      "execution_count": 29,
      "outputs": [
        {
          "output_type": "display_data",
          "data": {
            "text/plain": [
              "<Figure size 1080x360 with 1 Axes>"
            ],
            "image/png": "[encoded data removed]"
          },
          "metadata": {
            "needs_background": "light"
          }
        }
      ]
    },
    {
      "cell_type": "markdown",
      "source": [
        "가장 수비 스트레스가 심한 포수가 다른 포지션에 비해서 평균 OPS가 약간 낮은 것을 알 수 있었다. 그리고 포수의 OPS에 이상치가 있다는 것을 확인 할 수 있었다."
      ],
      "metadata": {
        "id": "lFyOOr0wxGQm"
      }
    },
    {
      "cell_type": "code",
      "source": [
        "data[data['포지션'] == 'C']['OPS'].mean()"
      ],
      "metadata": {
        "id": "0FS3BTTmxO9G",
        "colab": {
          "base_uri": "https://localhost:8080/"
        },
        "outputId": "9218fa8e-9a79-47b3-dba6-066e5b2f4b6e"
      },
      "execution_count": 30,
      "outputs": [
        {
          "output_type": "execute_result",
          "data": {
            "text/plain": [
              "0.5563945098039216"
            ]
          },
          "metadata": {},
          "execution_count": 30
        }
      ]
    },
    {
      "cell_type": "code",
      "source": [
        "data[data['포지션'] == 'DH']['OPS'].mean()"
      ],
      "metadata": {
        "id": "Tm71Ewagxfhx",
        "colab": {
          "base_uri": "https://localhost:8080/"
        },
        "outputId": "bf5b8b54-e236-47fa-8ef3-2104ffee817e"
      },
      "execution_count": 31,
      "outputs": [
        {
          "output_type": "execute_result",
          "data": {
            "text/plain": [
              "0.7167971360381861"
            ]
          },
          "metadata": {},
          "execution_count": 31
        }
      ]
    },
    {
      "cell_type": "markdown",
      "source": [
        "수비 스트레스가 없는 지명타자의 OPS 평균이 포수의 OPS 평균보다 0.16정도 큰 것을 알 수 있다."
      ],
      "metadata": {
        "id": "grtQm9ypxkrs"
      }
    },
    {
      "cell_type": "markdown",
      "source": [
        "### 3.1.4 타석"
      ],
      "metadata": {
        "id": "RYUmY3dx_5H1"
      }
    },
    {
      "cell_type": "code",
      "source": [
        "data[data['OPS'] == data['OPS'].max()]"
      ],
      "metadata": {
        "id": "3Uu1aees_506",
        "colab": {
          "base_uri": "https://localhost:8080/",
          "height": 214
        },
        "outputId": "757a05d8-4db0-46bf-99cc-f9faa0a26aed"
      },
      "execution_count": 32,
      "outputs": [
        {
          "output_type": "execute_result",
          "data": {
            "text/plain": [
              "       ID    연도  팀  선수          생일 포지션  타석  타수  득점  안타  2타  3타  홈런  루타  타점  \\\n",
              "4050  886  2006  현  허준  1981-07-20   C   1   1   1   1   0   0   1   4   1   \n",
              "\n",
              "      도루  도실  볼넷  사구  고4  삼진  병살  희타  희비   타율   출루   장타  OPS   wOBA    wRC+  \\\n",
              "4050   0   0   0   0   0   0   0   0   0  1.0  1.0  4.0  5.0  2.184  1434.5   \n",
              "\n",
              "      WAR+  사사구  \n",
              "4050  0.16    0  "
            ],
            "text/html": [
              "\n",
              "  <div id=\"df-62ee4465-b91e-4c60-9e10-d4e67e882429\">\n",
              "    <div class=\"colab-df-container\">\n",
              "      <div>\n",
              "<style scoped>\n",
              "    .dataframe tbody tr th:only-of-type {\n",
              "        vertical-align: middle;\n",
              "    }\n",
              "\n",
              "    .dataframe tbody tr th {\n",
              "        vertical-align: top;\n",
              "    }\n",
              "\n",
              "    .dataframe thead th {\n",
              "        text-align: right;\n",
              "    }\n",
              "</style>\n",
              "<table border=\"1\" class=\"dataframe\">\n",
              "  <thead>\n",
              "    <tr style=\"text-align: right;\">\n",
              "      <th></th>\n",
              "      <th>ID</th>\n",
              "      <th>연도</th>\n",
              "      <th>팀</th>\n",
              "      <th>선수</th>\n",
              "      <th>생일</th>\n",
              "      <th>포지션</th>\n",
              "      <th>타석</th>\n",
              "      <th>타수</th>\n",
              "      <th>득점</th>\n",
              "      <th>안타</th>\n",
              "      <th>2타</th>\n",
              "      <th>3타</th>\n",
              "      <th>홈런</th>\n",
              "      <th>루타</th>\n",
              "      <th>타점</th>\n",
              "      <th>도루</th>\n",
              "      <th>도실</th>\n",
              "      <th>볼넷</th>\n",
              "      <th>사구</th>\n",
              "      <th>고4</th>\n",
              "      <th>삼진</th>\n",
              "      <th>병살</th>\n",
              "      <th>희타</th>\n",
              "      <th>희비</th>\n",
              "      <th>타율</th>\n",
              "      <th>출루</th>\n",
              "      <th>장타</th>\n",
              "      <th>OPS</th>\n",
              "      <th>wOBA</th>\n",
              "      <th>wRC+</th>\n",
              "      <th>WAR+</th>\n",
              "      <th>사사구</th>\n",
              "    </tr>\n",
              "  </thead>\n",
              "  <tbody>\n",
              "    <tr>\n",
              "      <th>4050</th>\n",
              "      <td>886</td>\n",
              "      <td>2006</td>\n",
              "      <td>현</td>\n",
              "      <td>허준</td>\n",
              "      <td>1981-07-20</td>\n",
              "      <td>C</td>\n",
              "      <td>1</td>\n",
              "      <td>1</td>\n",
              "      <td>1</td>\n",
              "      <td>1</td>\n",
              "      <td>0</td>\n",
              "      <td>0</td>\n",
              "      <td>1</td>\n",
              "      <td>4</td>\n",
              "      <td>1</td>\n",
              "      <td>0</td>\n",
              "      <td>0</td>\n",
              "      <td>0</td>\n",
              "      <td>0</td>\n",
              "      <td>0</td>\n",
              "      <td>0</td>\n",
              "      <td>0</td>\n",
              "      <td>0</td>\n",
              "      <td>0</td>\n",
              "      <td>1.0</td>\n",
              "      <td>1.0</td>\n",
              "      <td>4.0</td>\n",
              "      <td>5.0</td>\n",
              "      <td>2.184</td>\n",
              "      <td>1434.5</td>\n",
              "      <td>0.16</td>\n",
              "      <td>0</td>\n",
              "    </tr>\n",
              "  </tbody>\n",
              "</table>\n",
              "</div>\n",
              "      <button class=\"colab-df-convert\" onclick=\"convertToInteractive('df-62ee4465-b91e-4c60-9e10-d4e67e882429')\"\n",
              "              title=\"Convert this dataframe to an interactive table.\"\n",
              "              style=\"display:none;\">\n",
              "        \n",
              "  <svg xmlns=\"http://www.w3.org/2000/svg\" height=\"24px\"viewBox=\"0 0 24 24\"\n",
              "       width=\"24px\">\n",
              "    <path d=\"M0 0h24v24H0V0z\" fill=\"none\"/>\n",
              "    <path d=\"M18.56 5.44l.94 2.06.94-2.06 2.06-.94-2.06-.94-.94-2.06-.94 2.06-2.06.94zm-11 1L8.5 8.5l.94-2.06 2.06-.94-2.06-.94L8.5 2.5l-.94 2.06-2.06.94zm10 10l.94 2.06.94-2.06 2.06-.94-2.06-.94-.94-2.06-.94 2.06-2.06.94z\"/><path d=\"M17.41 7.96l-1.37-1.37c-.4-.4-.92-.59-1.43-.59-.52 0-1.04.2-1.43.59L10.3 9.45l-7.72 7.72c-.78.78-.78 2.05 0 2.83L4 21.41c.39.39.9.59 1.41.59.51 0 1.02-.2 1.41-.59l7.78-7.78 2.81-2.81c.8-.78.8-2.07 0-2.86zM5.41 20L4 18.59l7.72-7.72 1.47 1.35L5.41 20z\"/>\n",
              "  </svg>\n",
              "      </button>\n",
              "      \n",
              "  <style>\n",
              "    .colab-df-container {\n",
              "      display:flex;\n",
              "      flex-wrap:wrap;\n",
              "      gap: 12px;\n",
              "    }\n",
              "\n",
              "    .colab-df-convert {\n",
              "      background-color: #E8F0FE;\n",
              "      border: none;\n",
              "      border-radius: 50%;\n",
              "      cursor: pointer;\n",
              "      display: none;\n",
              "      fill: #1967D2;\n",
              "      height: 32px;\n",
              "      padding: 0 0 0 0;\n",
              "      width: 32px;\n",
              "    }\n",
              "\n",
              "    .colab-df-convert:hover {\n",
              "      background-color: #E2EBFA;\n",
              "      box-shadow: 0px 1px 2px rgba(60, 64, 67, 0.3), 0px 1px 3px 1px rgba(60, 64, 67, 0.15);\n",
              "      fill: #174EA6;\n",
              "    }\n",
              "\n",
              "    [theme=dark] .colab-df-convert {\n",
              "      background-color: #3B4455;\n",
              "      fill: #D2E3FC;\n",
              "    }\n",
              "\n",
              "    [theme=dark] .colab-df-convert:hover {\n",
              "      background-color: #434B5C;\n",
              "      box-shadow: 0px 1px 3px 1px rgba(0, 0, 0, 0.15);\n",
              "      filter: drop-shadow(0px 1px 2px rgba(0, 0, 0, 0.3));\n",
              "      fill: #FFFFFF;\n",
              "    }\n",
              "  </style>\n",
              "\n",
              "      <script>\n",
              "        const buttonEl =\n",
              "          document.querySelector('#df-62ee4465-b91e-4c60-9e10-d4e67e882429 button.colab-df-convert');\n",
              "        buttonEl.style.display =\n",
              "          google.colab.kernel.accessAllowed ? 'block' : 'none';\n",
              "\n",
              "        async function convertToInteractive(key) {\n",
              "          const element = document.querySelector('#df-62ee4465-b91e-4c60-9e10-d4e67e882429');\n",
              "          const dataTable =\n",
              "            await google.colab.kernel.invokeFunction('convertToInteractive',\n",
              "                                                     [key], {});\n",
              "          if (!dataTable) return;\n",
              "\n",
              "          const docLinkHtml = 'Like what you see? Visit the ' +\n",
              "            '<a target=\"_blank\" href=https://colab.research.google.com/notebooks/data_table.ipynb>data table notebook</a>'\n",
              "            + ' to learn more about interactive tables.';\n",
              "          element.innerHTML = '';\n",
              "          dataTable['output_type'] = 'display_data';\n",
              "          await google.colab.output.renderOutput(dataTable, element);\n",
              "          const docLink = document.createElement('div');\n",
              "          docLink.innerHTML = docLinkHtml;\n",
              "          element.appendChild(docLink);\n",
              "        }\n",
              "      </script>\n",
              "    </div>\n",
              "  </div>\n",
              "  "
            ]
          },
          "metadata": {},
          "execution_count": 32
        }
      ]
    },
    {
      "cell_type": "markdown",
      "source": [
        "2006년에 1타석에 나와서 홈런을 기록한 허준선수가 OPS가 5이다. 2007년에도 이 선수의 OPS가 5 비슷하게 나온다고 보장을 할 수 있을까?, 절대로 그럴 수 없을 것이다. 왜냐면 타석이 적기 때문이다. 이처럼 나중에 모델을 학습시킬 때 타석에 가중치를 부여해야 할 것같다."
      ],
      "metadata": {
        "id": "MnnhzP3h_-H-"
      }
    },
    {
      "cell_type": "code",
      "source": [
        "data[(data['선수'] == '허준') & (data['연도'] == 2007)]"
      ],
      "metadata": {
        "id": "bmLh2ektvT1S",
        "colab": {
          "base_uri": "https://localhost:8080/",
          "height": 214
        },
        "outputId": "ee206ebe-e5e6-4fbe-d7ba-f87d6245673d"
      },
      "execution_count": 33,
      "outputs": [
        {
          "output_type": "execute_result",
          "data": {
            "text/plain": [
              "       ID    연도  팀  선수          생일 포지션  타석  타수  득점  안타  2타  3타  홈런  루타  타점  \\\n",
              "4878  886  2007  현  허준  1981-07-20   C  42  39   2   9   2   0   0  11   4   \n",
              "\n",
              "      도루  도실  볼넷  사구  고4  삼진  병살  희타  희비     타율     출루     장타    OPS   wOBA  \\\n",
              "4878   0   0   1   1   0  10   2   1   0  0.231  0.262  0.282  0.544  0.257   \n",
              "\n",
              "      wRC+  WAR+  사사구  \n",
              "4878   NaN  0.02    2  "
            ],
            "text/html": [
              "\n",
              "  <div id=\"df-73fb789e-b933-4e98-917d-d1d880572daf\">\n",
              "    <div class=\"colab-df-container\">\n",
              "      <div>\n",
              "<style scoped>\n",
              "    .dataframe tbody tr th:only-of-type {\n",
              "        vertical-align: middle;\n",
              "    }\n",
              "\n",
              "    .dataframe tbody tr th {\n",
              "        vertical-align: top;\n",
              "    }\n",
              "\n",
              "    .dataframe thead th {\n",
              "        text-align: right;\n",
              "    }\n",
              "</style>\n",
              "<table border=\"1\" class=\"dataframe\">\n",
              "  <thead>\n",
              "    <tr style=\"text-align: right;\">\n",
              "      <th></th>\n",
              "      <th>ID</th>\n",
              "      <th>연도</th>\n",
              "      <th>팀</th>\n",
              "      <th>선수</th>\n",
              "      <th>생일</th>\n",
              "      <th>포지션</th>\n",
              "      <th>타석</th>\n",
              "      <th>타수</th>\n",
              "      <th>득점</th>\n",
              "      <th>안타</th>\n",
              "      <th>2타</th>\n",
              "      <th>3타</th>\n",
              "      <th>홈런</th>\n",
              "      <th>루타</th>\n",
              "      <th>타점</th>\n",
              "      <th>도루</th>\n",
              "      <th>도실</th>\n",
              "      <th>볼넷</th>\n",
              "      <th>사구</th>\n",
              "      <th>고4</th>\n",
              "      <th>삼진</th>\n",
              "      <th>병살</th>\n",
              "      <th>희타</th>\n",
              "      <th>희비</th>\n",
              "      <th>타율</th>\n",
              "      <th>출루</th>\n",
              "      <th>장타</th>\n",
              "      <th>OPS</th>\n",
              "      <th>wOBA</th>\n",
              "      <th>wRC+</th>\n",
              "      <th>WAR+</th>\n",
              "      <th>사사구</th>\n",
              "    </tr>\n",
              "  </thead>\n",
              "  <tbody>\n",
              "    <tr>\n",
              "      <th>4878</th>\n",
              "      <td>886</td>\n",
              "      <td>2007</td>\n",
              "      <td>현</td>\n",
              "      <td>허준</td>\n",
              "      <td>1981-07-20</td>\n",
              "      <td>C</td>\n",
              "      <td>42</td>\n",
              "      <td>39</td>\n",
              "      <td>2</td>\n",
              "      <td>9</td>\n",
              "      <td>2</td>\n",
              "      <td>0</td>\n",
              "      <td>0</td>\n",
              "      <td>11</td>\n",
              "      <td>4</td>\n",
              "      <td>0</td>\n",
              "      <td>0</td>\n",
              "      <td>1</td>\n",
              "      <td>1</td>\n",
              "      <td>0</td>\n",
              "      <td>10</td>\n",
              "      <td>2</td>\n",
              "      <td>1</td>\n",
              "      <td>0</td>\n",
              "      <td>0.231</td>\n",
              "      <td>0.262</td>\n",
              "      <td>0.282</td>\n",
              "      <td>0.544</td>\n",
              "      <td>0.257</td>\n",
              "      <td>NaN</td>\n",
              "      <td>0.02</td>\n",
              "      <td>2</td>\n",
              "    </tr>\n",
              "  </tbody>\n",
              "</table>\n",
              "</div>\n",
              "      <button class=\"colab-df-convert\" onclick=\"convertToInteractive('df-73fb789e-b933-4e98-917d-d1d880572daf')\"\n",
              "              title=\"Convert this dataframe to an interactive table.\"\n",
              "              style=\"display:none;\">\n",
              "        \n",
              "  <svg xmlns=\"http://www.w3.org/2000/svg\" height=\"24px\"viewBox=\"0 0 24 24\"\n",
              "       width=\"24px\">\n",
              "    <path d=\"M0 0h24v24H0V0z\" fill=\"none\"/>\n",
              "    <path d=\"M18.56 5.44l.94 2.06.94-2.06 2.06-.94-2.06-.94-.94-2.06-.94 2.06-2.06.94zm-11 1L8.5 8.5l.94-2.06 2.06-.94-2.06-.94L8.5 2.5l-.94 2.06-2.06.94zm10 10l.94 2.06.94-2.06 2.06-.94-2.06-.94-.94-2.06-.94 2.06-2.06.94z\"/><path d=\"M17.41 7.96l-1.37-1.37c-.4-.4-.92-.59-1.43-.59-.52 0-1.04.2-1.43.59L10.3 9.45l-7.72 7.72c-.78.78-.78 2.05 0 2.83L4 21.41c.39.39.9.59 1.41.59.51 0 1.02-.2 1.41-.59l7.78-7.78 2.81-2.81c.8-.78.8-2.07 0-2.86zM5.41 20L4 18.59l7.72-7.72 1.47 1.35L5.41 20z\"/>\n",
              "  </svg>\n",
              "      </button>\n",
              "      \n",
              "  <style>\n",
              "    .colab-df-container {\n",
              "      display:flex;\n",
              "      flex-wrap:wrap;\n",
              "      gap: 12px;\n",
              "    }\n",
              "\n",
              "    .colab-df-convert {\n",
              "      background-color: #E8F0FE;\n",
              "      border: none;\n",
              "      border-radius: 50%;\n",
              "      cursor: pointer;\n",
              "      display: none;\n",
              "      fill: #1967D2;\n",
              "      height: 32px;\n",
              "      padding: 0 0 0 0;\n",
              "      width: 32px;\n",
              "    }\n",
              "\n",
              "    .colab-df-convert:hover {\n",
              "      background-color: #E2EBFA;\n",
              "      box-shadow: 0px 1px 2px rgba(60, 64, 67, 0.3), 0px 1px 3px 1px rgba(60, 64, 67, 0.15);\n",
              "      fill: #174EA6;\n",
              "    }\n",
              "\n",
              "    [theme=dark] .colab-df-convert {\n",
              "      background-color: #3B4455;\n",
              "      fill: #D2E3FC;\n",
              "    }\n",
              "\n",
              "    [theme=dark] .colab-df-convert:hover {\n",
              "      background-color: #434B5C;\n",
              "      box-shadow: 0px 1px 3px 1px rgba(0, 0, 0, 0.15);\n",
              "      filter: drop-shadow(0px 1px 2px rgba(0, 0, 0, 0.3));\n",
              "      fill: #FFFFFF;\n",
              "    }\n",
              "  </style>\n",
              "\n",
              "      <script>\n",
              "        const buttonEl =\n",
              "          document.querySelector('#df-73fb789e-b933-4e98-917d-d1d880572daf button.colab-df-convert');\n",
              "        buttonEl.style.display =\n",
              "          google.colab.kernel.accessAllowed ? 'block' : 'none';\n",
              "\n",
              "        async function convertToInteractive(key) {\n",
              "          const element = document.querySelector('#df-73fb789e-b933-4e98-917d-d1d880572daf');\n",
              "          const dataTable =\n",
              "            await google.colab.kernel.invokeFunction('convertToInteractive',\n",
              "                                                     [key], {});\n",
              "          if (!dataTable) return;\n",
              "\n",
              "          const docLinkHtml = 'Like what you see? Visit the ' +\n",
              "            '<a target=\"_blank\" href=https://colab.research.google.com/notebooks/data_table.ipynb>data table notebook</a>'\n",
              "            + ' to learn more about interactive tables.';\n",
              "          element.innerHTML = '';\n",
              "          dataTable['output_type'] = 'display_data';\n",
              "          await google.colab.output.renderOutput(dataTable, element);\n",
              "          const docLink = document.createElement('div');\n",
              "          docLink.innerHTML = docLinkHtml;\n",
              "          element.appendChild(docLink);\n",
              "        }\n",
              "      </script>\n",
              "    </div>\n",
              "  </div>\n",
              "  "
            ]
          },
          "metadata": {},
          "execution_count": 33
        }
      ]
    },
    {
      "cell_type": "markdown",
      "source": [
        "실제로도 2007년에 허준선수는 0.54라는 낮은 수준의 OPS를 기록했다."
      ],
      "metadata": {
        "id": "NjU_V4HxvlVn"
      }
    },
    {
      "cell_type": "markdown",
      "source": [
        "# 4.Feature Engineering"
      ],
      "metadata": {
        "id": "U2xE5xNqY4gR"
      }
    },
    {
      "cell_type": "markdown",
      "source": [
        "22년도 OPS를 예측하기 위해 20년도까지 데이터로 학습을 하고 21년도 OPS로 검증을 해봐야한다."
      ],
      "metadata": {
        "id": "opqpDHMBCzfK"
      }
    },
    {
      "cell_type": "code",
      "source": [
        "data.columns"
      ],
      "metadata": {
        "id": "JiQU9bVzzES_",
        "colab": {
          "base_uri": "https://localhost:8080/"
        },
        "outputId": "b7f52724-ff9a-4420-cabb-de93d8930de1"
      },
      "execution_count": 34,
      "outputs": [
        {
          "output_type": "execute_result",
          "data": {
            "text/plain": [
              "Index(['ID', '연도', '팀', '선수', '생일', '포지션', '타석', '타수', '득점', '안타', '2타', '3타',\n",
              "       '홈런', '루타', '타점', '도루', '도실', '볼넷', '사구', '고4', '삼진', '병살', '희타', '희비',\n",
              "       '타율', '출루', '장타', 'OPS', 'wOBA', 'wRC+', 'WAR+', '사사구'],\n",
              "      dtype='object')"
            ]
          },
          "metadata": {},
          "execution_count": 34
        }
      ]
    },
    {
      "cell_type": "markdown",
      "source": [
        "도루, 도실 등등을 빼고 훈련시켜보려고 한다."
      ],
      "metadata": {
        "id": "97rTvJHOzac9"
      }
    },
    {
      "cell_type": "code",
      "source": [
        "features = ['타석', '타수', '득점', '안타', '2타', '3타', '홈런', '루타', '타점', '볼넷', '사구', '고4', '삼진', '병살', '희비', '타율', '출루', '장타', 'OPS', 'wOBA', 'wRC+', '사사구']"
      ],
      "metadata": {
        "id": "fd9nEB7d06SL"
      },
      "execution_count": 35,
      "outputs": []
    },
    {
      "cell_type": "markdown",
      "source": [
        "n년전 columns을 가져오는 코드이다."
      ],
      "metadata": {
        "id": "E3BLpAyi8nJ6"
      }
    },
    {
      "cell_type": "code",
      "source": [
        "def get_lag(player_id, year, lag, feature=features, df=data):\n",
        "    try:\n",
        "        data_lag = df[(df['ID']==player_id)&(df['연도'] == year-lag)][feature].values[0]\n",
        "        data_lag = pd.Series(data_lag)\n",
        "        \n",
        "    except:\n",
        "        data_lag = [np.nan for i in feature]\n",
        "        data_lag = pd.Series(data_lag)\n",
        "        \n",
        "    return data_lag"
      ],
      "metadata": {
        "id": "c-2mWWWf0IvY"
      },
      "execution_count": 36,
      "outputs": []
    },
    {
      "cell_type": "code",
      "source": [
        "features_lag1 = ['LAG1_' + i for i in features]\n",
        "features_lag2 = ['LAG2_' + i for i in features]\n",
        "\n",
        "data[features_lag1] = data.apply(lambda x: get_lag(x['ID'],x['연도'], lag=1), axis=1)\n",
        "data[features_lag2] = data.apply(lambda x: get_lag(x['ID'],x['연도'], lag=2), axis=1)"
      ],
      "metadata": {
        "id": "PflhEY9YXrSF"
      },
      "execution_count": 37,
      "outputs": []
    },
    {
      "cell_type": "code",
      "source": [
        "def get_total(player_id, year, feature = features, df = data):\n",
        "    try:\n",
        "        result_cum = df[(df['ID']==player_id) & (df['연도'] < year)][feature]\n",
        "        result_cum = round(result_cum.mean(),3)\n",
        "        \n",
        "    except:\n",
        "        result_cum = [np.nan for i in feature]\n",
        "        result_cum = pd.Series(result_cum)\n",
        "    \n",
        "    return result_cum"
      ],
      "metadata": {
        "id": "y3YO8nW58gSY"
      },
      "execution_count": 52,
      "outputs": []
    },
    {
      "cell_type": "code",
      "source": [
        "features_cum = ['Total_' + i for i in features]"
      ],
      "metadata": {
        "id": "YLdjIZOy9Yc3"
      },
      "execution_count": 60,
      "outputs": []
    },
    {
      "cell_type": "code",
      "source": [
        "data[features_cum] = data.apply(lambda x: get_total(x['ID'], x['연도']), axis=1)"
      ],
      "metadata": {
        "id": "M2UxERV69Z_x"
      },
      "execution_count": 61,
      "outputs": []
    },
    {
      "cell_type": "code",
      "source": [
        "data.head()"
      ],
      "metadata": {
        "colab": {
          "base_uri": "https://localhost:8080/",
          "height": 478
        },
        "id": "QilOPG40YZXM",
        "outputId": "daa75cbc-d55c-4a0f-8826-9de8f8032af9"
      },
      "execution_count": 62,
      "outputs": [
        {
          "output_type": "execute_result",
          "data": {
            "text/plain": [
              "   ID    연도  팀   선수          생일 포지션   타석   타수   득점   안타  2타  3타  홈런   루타   타점  \\\n",
              "0   0  1994  해  이종범  1970-08-15  SS  561  499  113  196  27   5  19  290   77   \n",
              "1   1  2015  N  테임즈  1986-11-10  1B  595  472  130  180  42   5  47  373  140   \n",
              "2   2  2003  현  심정수  1975-05-05  RF  601  460  110  154  16   1  53  331  142   \n",
              "3   0  1997  해  이종범  1970-08-15  SS  577  484  112  157  28   3  30  281   74   \n",
              "4   0  1996  해  이종범  1970-08-15  SS  525  449   94  149  28   1  25  254   76   \n",
              "\n",
              "   도루  도실   볼넷  사구  고4  삼진  병살  희타  희비     타율     출루     장타    OPS   wOBA  \\\n",
              "0  84  15   51   6  14  31   2   1   4  0.393  0.451  0.581  1.032  0.462   \n",
              "1  40   8  103  13  11  91   7   0   7  0.381  0.497  0.790  1.288  0.530   \n",
              "2   6   2  124   9  17  63  14   0   8  0.335  0.478  0.720  1.197  0.498   \n",
              "3  64  15   87   3  30  49   9   0   3  0.324  0.428  0.581  1.009  0.431   \n",
              "4  57  12   67   7  15  39   4   0   2  0.332  0.425  0.566  0.990  0.440   \n",
              "\n",
              "    wRC+   WAR+  사사구  LAG1_타석  LAG1_타수  LAG1_득점  LAG1_안타  LAG1_2타  LAG1_3타  \\\n",
              "0  198.3  11.77   71    525.0    475.0     85.0    133.0     16.0      4.0   \n",
              "1  222.3  10.71  127    514.0    443.0     95.0    152.0     30.0      6.0   \n",
              "2  210.7  10.19  150    577.0    502.0    101.0    161.0     22.0      1.0   \n",
              "3  173.2   9.70  120    525.0    449.0     94.0    149.0     28.0      1.0   \n",
              "4  184.6   9.52   89    272.0    239.0     51.0     78.0     10.0      2.0   \n",
              "\n",
              "   LAG1_홈런  LAG1_루타  LAG1_타점  LAG1_볼넷  LAG1_사구  LAG1_고4  LAG1_삼진  LAG1_병살  \\\n",
              "0     16.0    205.0     53.0     32.0      6.0      2.0     35.0     11.0   \n",
              "1     37.0    305.0    121.0     58.0      7.0      5.0     99.0      6.0   \n",
              "2     46.0    323.0    119.0     69.0      3.0     10.0    114.0     13.0   \n",
              "3     25.0    254.0     76.0     67.0      7.0     15.0     39.0      4.0   \n",
              "4     16.0    140.0     35.0     28.0      2.0      4.0     20.0      5.0   \n",
              "\n",
              "   LAG1_희비  LAG1_타율  LAG1_출루  LAG1_장타  LAG1_OPS  LAG1_wOBA  LAG1_wRC+  \\\n",
              "0      4.0    0.280    0.326    0.432     0.757      0.350      127.4   \n",
              "1      6.0    0.343    0.422    0.688     1.111      0.464      168.3   \n",
              "2      3.0    0.321    0.404    0.643     1.047      0.440      177.7   \n",
              "3      2.0    0.332    0.425    0.566     0.990      0.440      184.6   \n",
              "4      3.0    0.326    0.397    0.586     0.983      0.432      181.9   \n",
              "\n",
              "   LAG1_사사구  LAG2_타석  LAG2_타수  LAG2_득점  LAG2_안타  LAG2_2타  LAG2_3타  LAG2_홈런  \\\n",
              "0      40.0      NaN      NaN      NaN      NaN      NaN      NaN      NaN   \n",
              "1      70.0      NaN      NaN      NaN      NaN      NaN      NaN      NaN   \n",
              "2      82.0    453.0    381.0     67.0    112.0     19.0      1.0     18.0   \n",
              "3      89.0    272.0    239.0     51.0     78.0     10.0      2.0     16.0   \n",
              "4      34.0    561.0    499.0    113.0    196.0     27.0      5.0     19.0   \n",
              "\n",
              "   LAG2_루타  LAG2_타점  LAG2_볼넷  LAG2_사구  LAG2_고4  LAG2_삼진  LAG2_병살  LAG2_희비  \\\n",
              "0      NaN      NaN      NaN      NaN      NaN      NaN      NaN      NaN   \n",
              "1      NaN      NaN      NaN      NaN      NaN      NaN      NaN      NaN   \n",
              "2    187.0     70.0     60.0     11.0      4.0     75.0     11.0      1.0   \n",
              "3    140.0     35.0     28.0      2.0      4.0     20.0      5.0      3.0   \n",
              "4    290.0     77.0     51.0      6.0     14.0     31.0      2.0      4.0   \n",
              "\n",
              "   LAG2_타율  LAG2_출루  LAG2_장타  LAG2_OPS  LAG2_wOBA  LAG2_wRC+  LAG2_사사구  \\\n",
              "0      NaN      NaN      NaN       NaN        NaN        NaN       NaN   \n",
              "1      NaN      NaN      NaN       NaN        NaN        NaN       NaN   \n",
              "2    0.294    0.404    0.491     0.895      0.403      135.7      75.0   \n",
              "3    0.326    0.397    0.586     0.983      0.432      181.9      34.0   \n",
              "4    0.393    0.451    0.581     1.032      0.462      198.3      71.0   \n",
              "\n",
              "   total_타석  total_타수  total_득점  total_안타  total_2타  total_3타  total_홈런  \\\n",
              "0   525.000   475.000    85.000   133.000    16.000     4.000    16.000   \n",
              "1   514.000   443.000    95.000   152.000    30.000     6.000    37.000   \n",
              "2   408.333   356.667    58.667   105.111    18.778     1.333    21.111   \n",
              "3   470.750   415.500    85.750   139.000    20.250     3.000    19.000   \n",
              "4   452.667   404.333    83.000   135.667    17.667     3.667    17.000   \n",
              "\n",
              "   total_루타  total_타점  total_볼넷  total_사구  total_고4  total_삼진  total_병살  \\\n",
              "0   205.000    53.000      32.0     6.000     2.000    35.000    11.000   \n",
              "1   305.000   121.000      58.0     7.000     5.000    99.000     6.000   \n",
              "2   189.889    67.444      42.0     6.111     3.889    68.889     7.889   \n",
              "3   222.250    60.250      44.5     5.250     8.750    31.250     5.500   \n",
              "4   211.667    55.000      37.0     4.667     6.667    28.667     6.000   \n",
              "\n",
              "   total_희비  total_타율  total_출루  total_장타  total_OPS  total_wOBA  total_wRC+  \\\n",
              "0     4.000     0.280     0.326     0.432      0.757       0.350      127.40   \n",
              "1     6.000     0.343     0.422     0.688      1.111       0.464      168.30   \n",
              "2     3.111     0.276     0.356     0.503      0.859       0.377      133.70   \n",
              "3     3.250     0.333     0.400     0.541      0.941       0.421      173.05   \n",
              "4     3.667     0.333     0.391     0.533      0.924       0.415      169.20   \n",
              "\n",
              "   total_사사구  Total_타석  Total_타수  Total_득점  Total_안타  Total_2타  Total_3타  \\\n",
              "0     40.000   525.000   475.000    85.000   133.000    16.000     4.000   \n",
              "1     70.000   514.000   443.000    95.000   152.000    30.000     6.000   \n",
              "2     52.000   408.333   356.667    58.667   105.111    18.778     1.333   \n",
              "3     58.500   470.750   415.500    85.750   139.000    20.250     3.000   \n",
              "4     48.333   452.667   404.333    83.000   135.667    17.667     3.667   \n",
              "\n",
              "   Total_홈런  Total_루타  Total_타점  Total_볼넷  Total_사구  Total_고4  Total_삼진  \\\n",
              "0    16.000   205.000    53.000      32.0     6.000     2.000    35.000   \n",
              "1    37.000   305.000   121.000      58.0     7.000     5.000    99.000   \n",
              "2    21.111   189.889    67.444      42.0     6.111     3.889    68.889   \n",
              "3    19.000   222.250    60.250      44.5     5.250     8.750    31.250   \n",
              "4    17.000   211.667    55.000      37.0     4.667     6.667    28.667   \n",
              "\n",
              "   Total_병살  Total_희비  Total_타율  Total_출루  Total_장타  Total_OPS  Total_wOBA  \\\n",
              "0    11.000     4.000     0.280     0.326     0.432      0.757       0.350   \n",
              "1     6.000     6.000     0.343     0.422     0.688      1.111       0.464   \n",
              "2     7.889     3.111     0.276     0.356     0.503      0.859       0.377   \n",
              "3     5.500     3.250     0.333     0.400     0.541      0.941       0.421   \n",
              "4     6.000     3.667     0.333     0.391     0.533      0.924       0.415   \n",
              "\n",
              "   Total_wRC+  Total_사사구  \n",
              "0      127.40     40.000  \n",
              "1      168.30     70.000  \n",
              "2      133.70     52.000  \n",
              "3      173.05     58.500  \n",
              "4      169.20     48.333  "
            ],
            "text/html": [
              "\n",
              "  <div id=\"df-25b9e0cf-4b37-4455-ae57-ad97a1378588\">\n",
              "    <div class=\"colab-df-container\">\n",
              "      <div>\n",
              "<style scoped>\n",
              "    .dataframe tbody tr th:only-of-type {\n",
              "        vertical-align: middle;\n",
              "    }\n",
              "\n",
              "    .dataframe tbody tr th {\n",
              "        vertical-align: top;\n",
              "    }\n",
              "\n",
              "    .dataframe thead th {\n",
              "        text-align: right;\n",
              "    }\n",
              "</style>\n",
              "<table border=\"1\" class=\"dataframe\">\n",
              "  <thead>\n",
              "    <tr style=\"text-align: right;\">\n",
              "      <th></th>\n",
              "      <th>ID</th>\n",
              "      <th>연도</th>\n",
              "      <th>팀</th>\n",
              "      <th>선수</th>\n",
              "      <th>생일</th>\n",
              "      <th>포지션</th>\n",
              "      <th>타석</th>\n",
              "      <th>타수</th>\n",
              "      <th>득점</th>\n",
              "      <th>안타</th>\n",
              "      <th>2타</th>\n",
              "      <th>3타</th>\n",
              "      <th>홈런</th>\n",
              "      <th>루타</th>\n",
              "      <th>타점</th>\n",
              "      <th>도루</th>\n",
              "      <th>도실</th>\n",
              "      <th>볼넷</th>\n",
              "      <th>사구</th>\n",
              "      <th>고4</th>\n",
              "      <th>삼진</th>\n",
              "      <th>병살</th>\n",
              "      <th>희타</th>\n",
              "      <th>희비</th>\n",
              "      <th>타율</th>\n",
              "      <th>출루</th>\n",
              "      <th>장타</th>\n",
              "      <th>OPS</th>\n",
              "      <th>wOBA</th>\n",
              "      <th>wRC+</th>\n",
              "      <th>WAR+</th>\n",
              "      <th>사사구</th>\n",
              "      <th>LAG1_타석</th>\n",
              "      <th>LAG1_타수</th>\n",
              "      <th>LAG1_득점</th>\n",
              "      <th>LAG1_안타</th>\n",
              "      <th>LAG1_2타</th>\n",
              "      <th>LAG1_3타</th>\n",
              "      <th>LAG1_홈런</th>\n",
              "      <th>LAG1_루타</th>\n",
              "      <th>LAG1_타점</th>\n",
              "      <th>LAG1_볼넷</th>\n",
              "      <th>LAG1_사구</th>\n",
              "      <th>LAG1_고4</th>\n",
              "      <th>LAG1_삼진</th>\n",
              "      <th>LAG1_병살</th>\n",
              "      <th>LAG1_희비</th>\n",
              "      <th>LAG1_타율</th>\n",
              "      <th>LAG1_출루</th>\n",
              "      <th>LAG1_장타</th>\n",
              "      <th>LAG1_OPS</th>\n",
              "      <th>LAG1_wOBA</th>\n",
              "      <th>LAG1_wRC+</th>\n",
              "      <th>LAG1_사사구</th>\n",
              "      <th>LAG2_타석</th>\n",
              "      <th>LAG2_타수</th>\n",
              "      <th>LAG2_득점</th>\n",
              "      <th>LAG2_안타</th>\n",
              "      <th>LAG2_2타</th>\n",
              "      <th>LAG2_3타</th>\n",
              "      <th>LAG2_홈런</th>\n",
              "      <th>LAG2_루타</th>\n",
              "      <th>LAG2_타점</th>\n",
              "      <th>LAG2_볼넷</th>\n",
              "      <th>LAG2_사구</th>\n",
              "      <th>LAG2_고4</th>\n",
              "      <th>LAG2_삼진</th>\n",
              "      <th>LAG2_병살</th>\n",
              "      <th>LAG2_희비</th>\n",
              "      <th>LAG2_타율</th>\n",
              "      <th>LAG2_출루</th>\n",
              "      <th>LAG2_장타</th>\n",
              "      <th>LAG2_OPS</th>\n",
              "      <th>LAG2_wOBA</th>\n",
              "      <th>LAG2_wRC+</th>\n",
              "      <th>LAG2_사사구</th>\n",
              "      <th>total_타석</th>\n",
              "      <th>total_타수</th>\n",
              "      <th>total_득점</th>\n",
              "      <th>total_안타</th>\n",
              "      <th>total_2타</th>\n",
              "      <th>total_3타</th>\n",
              "      <th>total_홈런</th>\n",
              "      <th>total_루타</th>\n",
              "      <th>total_타점</th>\n",
              "      <th>total_볼넷</th>\n",
              "      <th>total_사구</th>\n",
              "      <th>total_고4</th>\n",
              "      <th>total_삼진</th>\n",
              "      <th>total_병살</th>\n",
              "      <th>total_희비</th>\n",
              "      <th>total_타율</th>\n",
              "      <th>total_출루</th>\n",
              "      <th>total_장타</th>\n",
              "      <th>total_OPS</th>\n",
              "      <th>total_wOBA</th>\n",
              "      <th>total_wRC+</th>\n",
              "      <th>total_사사구</th>\n",
              "      <th>Total_타석</th>\n",
              "      <th>Total_타수</th>\n",
              "      <th>Total_득점</th>\n",
              "      <th>Total_안타</th>\n",
              "      <th>Total_2타</th>\n",
              "      <th>Total_3타</th>\n",
              "      <th>Total_홈런</th>\n",
              "      <th>Total_루타</th>\n",
              "      <th>Total_타점</th>\n",
              "      <th>Total_볼넷</th>\n",
              "      <th>Total_사구</th>\n",
              "      <th>Total_고4</th>\n",
              "      <th>Total_삼진</th>\n",
              "      <th>Total_병살</th>\n",
              "      <th>Total_희비</th>\n",
              "      <th>Total_타율</th>\n",
              "      <th>Total_출루</th>\n",
              "      <th>Total_장타</th>\n",
              "      <th>Total_OPS</th>\n",
              "      <th>Total_wOBA</th>\n",
              "      <th>Total_wRC+</th>\n",
              "      <th>Total_사사구</th>\n",
              "    </tr>\n",
              "  </thead>\n",
              "  <tbody>\n",
              "    <tr>\n",
              "      <th>0</th>\n",
              "      <td>0</td>\n",
              "      <td>1994</td>\n",
              "      <td>해</td>\n",
              "      <td>이종범</td>\n",
              "      <td>1970-08-15</td>\n",
              "      <td>SS</td>\n",
              "      <td>561</td>\n",
              "      <td>499</td>\n",
              "      <td>113</td>\n",
              "      <td>196</td>\n",
              "      <td>27</td>\n",
              "      <td>5</td>\n",
              "      <td>19</td>\n",
              "      <td>290</td>\n",
              "      <td>77</td>\n",
              "      <td>84</td>\n",
              "      <td>15</td>\n",
              "      <td>51</td>\n",
              "      <td>6</td>\n",
              "      <td>14</td>\n",
              "      <td>31</td>\n",
              "      <td>2</td>\n",
              "      <td>1</td>\n",
              "      <td>4</td>\n",
              "      <td>0.393</td>\n",
              "      <td>0.451</td>\n",
              "      <td>0.581</td>\n",
              "      <td>1.032</td>\n",
              "      <td>0.462</td>\n",
              "      <td>198.3</td>\n",
              "      <td>11.77</td>\n",
              "      <td>71</td>\n",
              "      <td>525.0</td>\n",
              "      <td>475.0</td>\n",
              "      <td>85.0</td>\n",
              "      <td>133.0</td>\n",
              "      <td>16.0</td>\n",
              "      <td>4.0</td>\n",
              "      <td>16.0</td>\n",
              "      <td>205.0</td>\n",
              "      <td>53.0</td>\n",
              "      <td>32.0</td>\n",
              "      <td>6.0</td>\n",
              "      <td>2.0</td>\n",
              "      <td>35.0</td>\n",
              "      <td>11.0</td>\n",
              "      <td>4.0</td>\n",
              "      <td>0.280</td>\n",
              "      <td>0.326</td>\n",
              "      <td>0.432</td>\n",
              "      <td>0.757</td>\n",
              "      <td>0.350</td>\n",
              "      <td>127.4</td>\n",
              "      <td>40.0</td>\n",
              "      <td>NaN</td>\n",
              "      <td>NaN</td>\n",
              "      <td>NaN</td>\n",
              "      <td>NaN</td>\n",
              "      <td>NaN</td>\n",
              "      <td>NaN</td>\n",
              "      <td>NaN</td>\n",
              "      <td>NaN</td>\n",
              "      <td>NaN</td>\n",
              "      <td>NaN</td>\n",
              "      <td>NaN</td>\n",
              "      <td>NaN</td>\n",
              "      <td>NaN</td>\n",
              "      <td>NaN</td>\n",
              "      <td>NaN</td>\n",
              "      <td>NaN</td>\n",
              "      <td>NaN</td>\n",
              "      <td>NaN</td>\n",
              "      <td>NaN</td>\n",
              "      <td>NaN</td>\n",
              "      <td>NaN</td>\n",
              "      <td>NaN</td>\n",
              "      <td>525.000</td>\n",
              "      <td>475.000</td>\n",
              "      <td>85.000</td>\n",
              "      <td>133.000</td>\n",
              "      <td>16.000</td>\n",
              "      <td>4.000</td>\n",
              "      <td>16.000</td>\n",
              "      <td>205.000</td>\n",
              "      <td>53.000</td>\n",
              "      <td>32.0</td>\n",
              "      <td>6.000</td>\n",
              "      <td>2.000</td>\n",
              "      <td>35.000</td>\n",
              "      <td>11.000</td>\n",
              "      <td>4.000</td>\n",
              "      <td>0.280</td>\n",
              "      <td>0.326</td>\n",
              "      <td>0.432</td>\n",
              "      <td>0.757</td>\n",
              "      <td>0.350</td>\n",
              "      <td>127.40</td>\n",
              "      <td>40.000</td>\n",
              "      <td>525.000</td>\n",
              "      <td>475.000</td>\n",
              "      <td>85.000</td>\n",
              "      <td>133.000</td>\n",
              "      <td>16.000</td>\n",
              "      <td>4.000</td>\n",
              "      <td>16.000</td>\n",
              "      <td>205.000</td>\n",
              "      <td>53.000</td>\n",
              "      <td>32.0</td>\n",
              "      <td>6.000</td>\n",
              "      <td>2.000</td>\n",
              "      <td>35.000</td>\n",
              "      <td>11.000</td>\n",
              "      <td>4.000</td>\n",
              "      <td>0.280</td>\n",
              "      <td>0.326</td>\n",
              "      <td>0.432</td>\n",
              "      <td>0.757</td>\n",
              "      <td>0.350</td>\n",
              "      <td>127.40</td>\n",
              "      <td>40.000</td>\n",
              "    </tr>\n",
              "    <tr>\n",
              "      <th>1</th>\n",
              "      <td>1</td>\n",
              "      <td>2015</td>\n",
              "      <td>N</td>\n",
              "      <td>테임즈</td>\n",
              "      <td>1986-11-10</td>\n",
              "      <td>1B</td>\n",
              "      <td>595</td>\n",
              "      <td>472</td>\n",
              "      <td>130</td>\n",
              "      <td>180</td>\n",
              "      <td>42</td>\n",
              "      <td>5</td>\n",
              "      <td>47</td>\n",
              "      <td>373</td>\n",
              "      <td>140</td>\n",
              "      <td>40</td>\n",
              "      <td>8</td>\n",
              "      <td>103</td>\n",
              "      <td>13</td>\n",
              "      <td>11</td>\n",
              "      <td>91</td>\n",
              "      <td>7</td>\n",
              "      <td>0</td>\n",
              "      <td>7</td>\n",
              "      <td>0.381</td>\n",
              "      <td>0.497</td>\n",
              "      <td>0.790</td>\n",
              "      <td>1.288</td>\n",
              "      <td>0.530</td>\n",
              "      <td>222.3</td>\n",
              "      <td>10.71</td>\n",
              "      <td>127</td>\n",
              "      <td>514.0</td>\n",
              "      <td>443.0</td>\n",
              "      <td>95.0</td>\n",
              "      <td>152.0</td>\n",
              "      <td>30.0</td>\n",
              "      <td>6.0</td>\n",
              "      <td>37.0</td>\n",
              "      <td>305.0</td>\n",
              "      <td>121.0</td>\n",
              "      <td>58.0</td>\n",
              "      <td>7.0</td>\n",
              "      <td>5.0</td>\n",
              "      <td>99.0</td>\n",
              "      <td>6.0</td>\n",
              "      <td>6.0</td>\n",
              "      <td>0.343</td>\n",
              "      <td>0.422</td>\n",
              "      <td>0.688</td>\n",
              "      <td>1.111</td>\n",
              "      <td>0.464</td>\n",
              "      <td>168.3</td>\n",
              "      <td>70.0</td>\n",
              "      <td>NaN</td>\n",
              "      <td>NaN</td>\n",
              "      <td>NaN</td>\n",
              "      <td>NaN</td>\n",
              "      <td>NaN</td>\n",
              "      <td>NaN</td>\n",
              "      <td>NaN</td>\n",
              "      <td>NaN</td>\n",
              "      <td>NaN</td>\n",
              "      <td>NaN</td>\n",
              "      <td>NaN</td>\n",
              "      <td>NaN</td>\n",
              "      <td>NaN</td>\n",
              "      <td>NaN</td>\n",
              "      <td>NaN</td>\n",
              "      <td>NaN</td>\n",
              "      <td>NaN</td>\n",
              "      <td>NaN</td>\n",
              "      <td>NaN</td>\n",
              "      <td>NaN</td>\n",
              "      <td>NaN</td>\n",
              "      <td>NaN</td>\n",
              "      <td>514.000</td>\n",
              "      <td>443.000</td>\n",
              "      <td>95.000</td>\n",
              "      <td>152.000</td>\n",
              "      <td>30.000</td>\n",
              "      <td>6.000</td>\n",
              "      <td>37.000</td>\n",
              "      <td>305.000</td>\n",
              "      <td>121.000</td>\n",
              "      <td>58.0</td>\n",
              "      <td>7.000</td>\n",
              "      <td>5.000</td>\n",
              "      <td>99.000</td>\n",
              "      <td>6.000</td>\n",
              "      <td>6.000</td>\n",
              "      <td>0.343</td>\n",
              "      <td>0.422</td>\n",
              "      <td>0.688</td>\n",
              "      <td>1.111</td>\n",
              "      <td>0.464</td>\n",
              "      <td>168.30</td>\n",
              "      <td>70.000</td>\n",
              "      <td>514.000</td>\n",
              "      <td>443.000</td>\n",
              "      <td>95.000</td>\n",
              "      <td>152.000</td>\n",
              "      <td>30.000</td>\n",
              "      <td>6.000</td>\n",
              "      <td>37.000</td>\n",
              "      <td>305.000</td>\n",
              "      <td>121.000</td>\n",
              "      <td>58.0</td>\n",
              "      <td>7.000</td>\n",
              "      <td>5.000</td>\n",
              "      <td>99.000</td>\n",
              "      <td>6.000</td>\n",
              "      <td>6.000</td>\n",
              "      <td>0.343</td>\n",
              "      <td>0.422</td>\n",
              "      <td>0.688</td>\n",
              "      <td>1.111</td>\n",
              "      <td>0.464</td>\n",
              "      <td>168.30</td>\n",
              "      <td>70.000</td>\n",
              "    </tr>\n",
              "    <tr>\n",
              "      <th>2</th>\n",
              "      <td>2</td>\n",
              "      <td>2003</td>\n",
              "      <td>현</td>\n",
              "      <td>심정수</td>\n",
              "      <td>1975-05-05</td>\n",
              "      <td>RF</td>\n",
              "      <td>601</td>\n",
              "      <td>460</td>\n",
              "      <td>110</td>\n",
              "      <td>154</td>\n",
              "      <td>16</td>\n",
              "      <td>1</td>\n",
              "      <td>53</td>\n",
              "      <td>331</td>\n",
              "      <td>142</td>\n",
              "      <td>6</td>\n",
              "      <td>2</td>\n",
              "      <td>124</td>\n",
              "      <td>9</td>\n",
              "      <td>17</td>\n",
              "      <td>63</td>\n",
              "      <td>14</td>\n",
              "      <td>0</td>\n",
              "      <td>8</td>\n",
              "      <td>0.335</td>\n",
              "      <td>0.478</td>\n",
              "      <td>0.720</td>\n",
              "      <td>1.197</td>\n",
              "      <td>0.498</td>\n",
              "      <td>210.7</td>\n",
              "      <td>10.19</td>\n",
              "      <td>150</td>\n",
              "      <td>577.0</td>\n",
              "      <td>502.0</td>\n",
              "      <td>101.0</td>\n",
              "      <td>161.0</td>\n",
              "      <td>22.0</td>\n",
              "      <td>1.0</td>\n",
              "      <td>46.0</td>\n",
              "      <td>323.0</td>\n",
              "      <td>119.0</td>\n",
              "      <td>69.0</td>\n",
              "      <td>3.0</td>\n",
              "      <td>10.0</td>\n",
              "      <td>114.0</td>\n",
              "      <td>13.0</td>\n",
              "      <td>3.0</td>\n",
              "      <td>0.321</td>\n",
              "      <td>0.404</td>\n",
              "      <td>0.643</td>\n",
              "      <td>1.047</td>\n",
              "      <td>0.440</td>\n",
              "      <td>177.7</td>\n",
              "      <td>82.0</td>\n",
              "      <td>453.0</td>\n",
              "      <td>381.0</td>\n",
              "      <td>67.0</td>\n",
              "      <td>112.0</td>\n",
              "      <td>19.0</td>\n",
              "      <td>1.0</td>\n",
              "      <td>18.0</td>\n",
              "      <td>187.0</td>\n",
              "      <td>70.0</td>\n",
              "      <td>60.0</td>\n",
              "      <td>11.0</td>\n",
              "      <td>4.0</td>\n",
              "      <td>75.0</td>\n",
              "      <td>11.0</td>\n",
              "      <td>1.0</td>\n",
              "      <td>0.294</td>\n",
              "      <td>0.404</td>\n",
              "      <td>0.491</td>\n",
              "      <td>0.895</td>\n",
              "      <td>0.403</td>\n",
              "      <td>135.7</td>\n",
              "      <td>75.0</td>\n",
              "      <td>408.333</td>\n",
              "      <td>356.667</td>\n",
              "      <td>58.667</td>\n",
              "      <td>105.111</td>\n",
              "      <td>18.778</td>\n",
              "      <td>1.333</td>\n",
              "      <td>21.111</td>\n",
              "      <td>189.889</td>\n",
              "      <td>67.444</td>\n",
              "      <td>42.0</td>\n",
              "      <td>6.111</td>\n",
              "      <td>3.889</td>\n",
              "      <td>68.889</td>\n",
              "      <td>7.889</td>\n",
              "      <td>3.111</td>\n",
              "      <td>0.276</td>\n",
              "      <td>0.356</td>\n",
              "      <td>0.503</td>\n",
              "      <td>0.859</td>\n",
              "      <td>0.377</td>\n",
              "      <td>133.70</td>\n",
              "      <td>52.000</td>\n",
              "      <td>408.333</td>\n",
              "      <td>356.667</td>\n",
              "      <td>58.667</td>\n",
              "      <td>105.111</td>\n",
              "      <td>18.778</td>\n",
              "      <td>1.333</td>\n",
              "      <td>21.111</td>\n",
              "      <td>189.889</td>\n",
              "      <td>67.444</td>\n",
              "      <td>42.0</td>\n",
              "      <td>6.111</td>\n",
              "      <td>3.889</td>\n",
              "      <td>68.889</td>\n",
              "      <td>7.889</td>\n",
              "      <td>3.111</td>\n",
              "      <td>0.276</td>\n",
              "      <td>0.356</td>\n",
              "      <td>0.503</td>\n",
              "      <td>0.859</td>\n",
              "      <td>0.377</td>\n",
              "      <td>133.70</td>\n",
              "      <td>52.000</td>\n",
              "    </tr>\n",
              "    <tr>\n",
              "      <th>3</th>\n",
              "      <td>0</td>\n",
              "      <td>1997</td>\n",
              "      <td>해</td>\n",
              "      <td>이종범</td>\n",
              "      <td>1970-08-15</td>\n",
              "      <td>SS</td>\n",
              "      <td>577</td>\n",
              "      <td>484</td>\n",
              "      <td>112</td>\n",
              "      <td>157</td>\n",
              "      <td>28</td>\n",
              "      <td>3</td>\n",
              "      <td>30</td>\n",
              "      <td>281</td>\n",
              "      <td>74</td>\n",
              "      <td>64</td>\n",
              "      <td>15</td>\n",
              "      <td>87</td>\n",
              "      <td>3</td>\n",
              "      <td>30</td>\n",
              "      <td>49</td>\n",
              "      <td>9</td>\n",
              "      <td>0</td>\n",
              "      <td>3</td>\n",
              "      <td>0.324</td>\n",
              "      <td>0.428</td>\n",
              "      <td>0.581</td>\n",
              "      <td>1.009</td>\n",
              "      <td>0.431</td>\n",
              "      <td>173.2</td>\n",
              "      <td>9.70</td>\n",
              "      <td>120</td>\n",
              "      <td>525.0</td>\n",
              "      <td>449.0</td>\n",
              "      <td>94.0</td>\n",
              "      <td>149.0</td>\n",
              "      <td>28.0</td>\n",
              "      <td>1.0</td>\n",
              "      <td>25.0</td>\n",
              "      <td>254.0</td>\n",
              "      <td>76.0</td>\n",
              "      <td>67.0</td>\n",
              "      <td>7.0</td>\n",
              "      <td>15.0</td>\n",
              "      <td>39.0</td>\n",
              "      <td>4.0</td>\n",
              "      <td>2.0</td>\n",
              "      <td>0.332</td>\n",
              "      <td>0.425</td>\n",
              "      <td>0.566</td>\n",
              "      <td>0.990</td>\n",
              "      <td>0.440</td>\n",
              "      <td>184.6</td>\n",
              "      <td>89.0</td>\n",
              "      <td>272.0</td>\n",
              "      <td>239.0</td>\n",
              "      <td>51.0</td>\n",
              "      <td>78.0</td>\n",
              "      <td>10.0</td>\n",
              "      <td>2.0</td>\n",
              "      <td>16.0</td>\n",
              "      <td>140.0</td>\n",
              "      <td>35.0</td>\n",
              "      <td>28.0</td>\n",
              "      <td>2.0</td>\n",
              "      <td>4.0</td>\n",
              "      <td>20.0</td>\n",
              "      <td>5.0</td>\n",
              "      <td>3.0</td>\n",
              "      <td>0.326</td>\n",
              "      <td>0.397</td>\n",
              "      <td>0.586</td>\n",
              "      <td>0.983</td>\n",
              "      <td>0.432</td>\n",
              "      <td>181.9</td>\n",
              "      <td>34.0</td>\n",
              "      <td>470.750</td>\n",
              "      <td>415.500</td>\n",
              "      <td>85.750</td>\n",
              "      <td>139.000</td>\n",
              "      <td>20.250</td>\n",
              "      <td>3.000</td>\n",
              "      <td>19.000</td>\n",
              "      <td>222.250</td>\n",
              "      <td>60.250</td>\n",
              "      <td>44.5</td>\n",
              "      <td>5.250</td>\n",
              "      <td>8.750</td>\n",
              "      <td>31.250</td>\n",
              "      <td>5.500</td>\n",
              "      <td>3.250</td>\n",
              "      <td>0.333</td>\n",
              "      <td>0.400</td>\n",
              "      <td>0.541</td>\n",
              "      <td>0.941</td>\n",
              "      <td>0.421</td>\n",
              "      <td>173.05</td>\n",
              "      <td>58.500</td>\n",
              "      <td>470.750</td>\n",
              "      <td>415.500</td>\n",
              "      <td>85.750</td>\n",
              "      <td>139.000</td>\n",
              "      <td>20.250</td>\n",
              "      <td>3.000</td>\n",
              "      <td>19.000</td>\n",
              "      <td>222.250</td>\n",
              "      <td>60.250</td>\n",
              "      <td>44.5</td>\n",
              "      <td>5.250</td>\n",
              "      <td>8.750</td>\n",
              "      <td>31.250</td>\n",
              "      <td>5.500</td>\n",
              "      <td>3.250</td>\n",
              "      <td>0.333</td>\n",
              "      <td>0.400</td>\n",
              "      <td>0.541</td>\n",
              "      <td>0.941</td>\n",
              "      <td>0.421</td>\n",
              "      <td>173.05</td>\n",
              "      <td>58.500</td>\n",
              "    </tr>\n",
              "    <tr>\n",
              "      <th>4</th>\n",
              "      <td>0</td>\n",
              "      <td>1996</td>\n",
              "      <td>해</td>\n",
              "      <td>이종범</td>\n",
              "      <td>1970-08-15</td>\n",
              "      <td>SS</td>\n",
              "      <td>525</td>\n",
              "      <td>449</td>\n",
              "      <td>94</td>\n",
              "      <td>149</td>\n",
              "      <td>28</td>\n",
              "      <td>1</td>\n",
              "      <td>25</td>\n",
              "      <td>254</td>\n",
              "      <td>76</td>\n",
              "      <td>57</td>\n",
              "      <td>12</td>\n",
              "      <td>67</td>\n",
              "      <td>7</td>\n",
              "      <td>15</td>\n",
              "      <td>39</td>\n",
              "      <td>4</td>\n",
              "      <td>0</td>\n",
              "      <td>2</td>\n",
              "      <td>0.332</td>\n",
              "      <td>0.425</td>\n",
              "      <td>0.566</td>\n",
              "      <td>0.990</td>\n",
              "      <td>0.440</td>\n",
              "      <td>184.6</td>\n",
              "      <td>9.52</td>\n",
              "      <td>89</td>\n",
              "      <td>272.0</td>\n",
              "      <td>239.0</td>\n",
              "      <td>51.0</td>\n",
              "      <td>78.0</td>\n",
              "      <td>10.0</td>\n",
              "      <td>2.0</td>\n",
              "      <td>16.0</td>\n",
              "      <td>140.0</td>\n",
              "      <td>35.0</td>\n",
              "      <td>28.0</td>\n",
              "      <td>2.0</td>\n",
              "      <td>4.0</td>\n",
              "      <td>20.0</td>\n",
              "      <td>5.0</td>\n",
              "      <td>3.0</td>\n",
              "      <td>0.326</td>\n",
              "      <td>0.397</td>\n",
              "      <td>0.586</td>\n",
              "      <td>0.983</td>\n",
              "      <td>0.432</td>\n",
              "      <td>181.9</td>\n",
              "      <td>34.0</td>\n",
              "      <td>561.0</td>\n",
              "      <td>499.0</td>\n",
              "      <td>113.0</td>\n",
              "      <td>196.0</td>\n",
              "      <td>27.0</td>\n",
              "      <td>5.0</td>\n",
              "      <td>19.0</td>\n",
              "      <td>290.0</td>\n",
              "      <td>77.0</td>\n",
              "      <td>51.0</td>\n",
              "      <td>6.0</td>\n",
              "      <td>14.0</td>\n",
              "      <td>31.0</td>\n",
              "      <td>2.0</td>\n",
              "      <td>4.0</td>\n",
              "      <td>0.393</td>\n",
              "      <td>0.451</td>\n",
              "      <td>0.581</td>\n",
              "      <td>1.032</td>\n",
              "      <td>0.462</td>\n",
              "      <td>198.3</td>\n",
              "      <td>71.0</td>\n",
              "      <td>452.667</td>\n",
              "      <td>404.333</td>\n",
              "      <td>83.000</td>\n",
              "      <td>135.667</td>\n",
              "      <td>17.667</td>\n",
              "      <td>3.667</td>\n",
              "      <td>17.000</td>\n",
              "      <td>211.667</td>\n",
              "      <td>55.000</td>\n",
              "      <td>37.0</td>\n",
              "      <td>4.667</td>\n",
              "      <td>6.667</td>\n",
              "      <td>28.667</td>\n",
              "      <td>6.000</td>\n",
              "      <td>3.667</td>\n",
              "      <td>0.333</td>\n",
              "      <td>0.391</td>\n",
              "      <td>0.533</td>\n",
              "      <td>0.924</td>\n",
              "      <td>0.415</td>\n",
              "      <td>169.20</td>\n",
              "      <td>48.333</td>\n",
              "      <td>452.667</td>\n",
              "      <td>404.333</td>\n",
              "      <td>83.000</td>\n",
              "      <td>135.667</td>\n",
              "      <td>17.667</td>\n",
              "      <td>3.667</td>\n",
              "      <td>17.000</td>\n",
              "      <td>211.667</td>\n",
              "      <td>55.000</td>\n",
              "      <td>37.0</td>\n",
              "      <td>4.667</td>\n",
              "      <td>6.667</td>\n",
              "      <td>28.667</td>\n",
              "      <td>6.000</td>\n",
              "      <td>3.667</td>\n",
              "      <td>0.333</td>\n",
              "      <td>0.391</td>\n",
              "      <td>0.533</td>\n",
              "      <td>0.924</td>\n",
              "      <td>0.415</td>\n",
              "      <td>169.20</td>\n",
              "      <td>48.333</td>\n",
              "    </tr>\n",
              "  </tbody>\n",
              "</table>\n",
              "</div>\n",
              "      <button class=\"colab-df-convert\" onclick=\"convertToInteractive('df-25b9e0cf-4b37-4455-ae57-ad97a1378588')\"\n",
              "              title=\"Convert this dataframe to an interactive table.\"\n",
              "              style=\"display:none;\">\n",
              "        \n",
              "  <svg xmlns=\"http://www.w3.org/2000/svg\" height=\"24px\"viewBox=\"0 0 24 24\"\n",
              "       width=\"24px\">\n",
              "    <path d=\"M0 0h24v24H0V0z\" fill=\"none\"/>\n",
              "    <path d=\"M18.56 5.44l.94 2.06.94-2.06 2.06-.94-2.06-.94-.94-2.06-.94 2.06-2.06.94zm-11 1L8.5 8.5l.94-2.06 2.06-.94-2.06-.94L8.5 2.5l-.94 2.06-2.06.94zm10 10l.94 2.06.94-2.06 2.06-.94-2.06-.94-.94-2.06-.94 2.06-2.06.94z\"/><path d=\"M17.41 7.96l-1.37-1.37c-.4-.4-.92-.59-1.43-.59-.52 0-1.04.2-1.43.59L10.3 9.45l-7.72 7.72c-.78.78-.78 2.05 0 2.83L4 21.41c.39.39.9.59 1.41.59.51 0 1.02-.2 1.41-.59l7.78-7.78 2.81-2.81c.8-.78.8-2.07 0-2.86zM5.41 20L4 18.59l7.72-7.72 1.47 1.35L5.41 20z\"/>\n",
              "  </svg>\n",
              "      </button>\n",
              "      \n",
              "  <style>\n",
              "    .colab-df-container {\n",
              "      display:flex;\n",
              "      flex-wrap:wrap;\n",
              "      gap: 12px;\n",
              "    }\n",
              "\n",
              "    .colab-df-convert {\n",
              "      background-color: #E8F0FE;\n",
              "      border: none;\n",
              "      border-radius: 50%;\n",
              "      cursor: pointer;\n",
              "      display: none;\n",
              "      fill: #1967D2;\n",
              "      height: 32px;\n",
              "      padding: 0 0 0 0;\n",
              "      width: 32px;\n",
              "    }\n",
              "\n",
              "    .colab-df-convert:hover {\n",
              "      background-color: #E2EBFA;\n",
              "      box-shadow: 0px 1px 2px rgba(60, 64, 67, 0.3), 0px 1px 3px 1px rgba(60, 64, 67, 0.15);\n",
              "      fill: #174EA6;\n",
              "    }\n",
              "\n",
              "    [theme=dark] .colab-df-convert {\n",
              "      background-color: #3B4455;\n",
              "      fill: #D2E3FC;\n",
              "    }\n",
              "\n",
              "    [theme=dark] .colab-df-convert:hover {\n",
              "      background-color: #434B5C;\n",
              "      box-shadow: 0px 1px 3px 1px rgba(0, 0, 0, 0.15);\n",
              "      filter: drop-shadow(0px 1px 2px rgba(0, 0, 0, 0.3));\n",
              "      fill: #FFFFFF;\n",
              "    }\n",
              "  </style>\n",
              "\n",
              "      <script>\n",
              "        const buttonEl =\n",
              "          document.querySelector('#df-25b9e0cf-4b37-4455-ae57-ad97a1378588 button.colab-df-convert');\n",
              "        buttonEl.style.display =\n",
              "          google.colab.kernel.accessAllowed ? 'block' : 'none';\n",
              "\n",
              "        async function convertToInteractive(key) {\n",
              "          const element = document.querySelector('#df-25b9e0cf-4b37-4455-ae57-ad97a1378588');\n",
              "          const dataTable =\n",
              "            await google.colab.kernel.invokeFunction('convertToInteractive',\n",
              "                                                     [key], {});\n",
              "          if (!dataTable) return;\n",
              "\n",
              "          const docLinkHtml = 'Like what you see? Visit the ' +\n",
              "            '<a target=\"_blank\" href=https://colab.research.google.com/notebooks/data_table.ipynb>data table notebook</a>'\n",
              "            + ' to learn more about interactive tables.';\n",
              "          element.innerHTML = '';\n",
              "          dataTable['output_type'] = 'display_data';\n",
              "          await google.colab.output.renderOutput(dataTable, element);\n",
              "          const docLink = document.createElement('div');\n",
              "          docLink.innerHTML = docLinkHtml;\n",
              "          element.appendChild(docLink);\n",
              "        }\n",
              "      </script>\n",
              "    </div>\n",
              "  </div>\n",
              "  "
            ]
          },
          "metadata": {},
          "execution_count": 62
        }
      ]
    },
    {
      "cell_type": "code",
      "source": [
        "features = data.columns[32::]"
      ],
      "metadata": {
        "id": "AIz0FgVDacH3"
      },
      "execution_count": 69,
      "outputs": []
    },
    {
      "cell_type": "code",
      "source": [
        "train = data[data['연도'] >= 2020]\n",
        "test = data[data['연도'] == 2021]"
      ],
      "metadata": {
        "id": "pDJIKRPSx5Rq"
      },
      "execution_count": 71,
      "outputs": []
    },
    {
      "cell_type": "code",
      "source": [
        "X_train = train[features]\n",
        "y_train = train['OPS']\n",
        "\n",
        "X_test = test[features]\n",
        "y_test = test['OPS']"
      ],
      "metadata": {
        "id": "iHRYOenFbq3u"
      },
      "execution_count": 73,
      "outputs": []
    },
    {
      "cell_type": "markdown",
      "source": [
        "# 5.Modeling"
      ],
      "metadata": {
        "id": "2gwCPg1iZvfn"
      }
    },
    {
      "cell_type": "markdown",
      "source": [
        "## 5.1 모델 선택"
      ],
      "metadata": {
        "id": "92OxZDqyaEF1"
      }
    },
    {
      "cell_type": "code",
      "source": [
        "from xgboost import XGBRegressor, plot_importance\n",
        "from lightgbm import LGBMRegressor\n",
        "from sklearn.ensemble import RandomForestRegressor\n",
        "from sklearn.model_selection import GridSearchCV\n",
        "from sklearn.metrics import mean_squared_error"
      ],
      "metadata": {
        "id": "tIK8RuEybPud"
      },
      "execution_count": 77,
      "outputs": []
    },
    {
      "cell_type": "markdown",
      "source": [
        "## 5.2 모델 학습"
      ],
      "metadata": {
        "id": "sBJC_8kXaHli"
      }
    },
    {
      "cell_type": "markdown",
      "source": [
        "여러가지 모델을 학습한 후 RMSE를 이용하여 실제 값과 예측값의 오차가 가장 적은 모델을 선택해서 학습을 시키려고 하였다."
      ],
      "metadata": {
        "id": "jVuDUOR3rHDp"
      }
    },
    {
      "cell_type": "code",
      "source": [
        "model_dic = {'xgb':XGBRegressor(n_estimators=110, learning_rate=0.05 ,max_depth=3, min_samples_split=400, random_state=22),\n",
        "              'lgbm':LGBMRegressor(random_state=22),\n",
        "              'rf':RandomForestRegressor(random_state=22)}"
      ],
      "metadata": {
        "id": "P_mUZk-YeJwd"
      },
      "execution_count": 78,
      "outputs": []
    },
    {
      "cell_type": "code",
      "source": [
        "test_error = {}\n",
        "\n",
        "for i in model_dic:\n",
        "  weight = train['타수']\n",
        "  model = model_dic[i]\n",
        "  model.fit(X_train.fillna(-1), y_train, sample_weight = weight)\n",
        "  pred = model.predict(X_test.fillna(-1))\n",
        "  print(i + ' OK')\n",
        "  \n",
        "  test_error[i] = mean_squared_error(y_test, pred) ** 0.5"
      ],
      "metadata": {
        "colab": {
          "base_uri": "https://localhost:8080/"
        },
        "id": "dBWwUDBqbiQ7",
        "outputId": "da729843-057a-494d-e56f-8e15c71e0d23"
      },
      "execution_count": 79,
      "outputs": [
        {
          "output_type": "stream",
          "name": "stdout",
          "text": [
            "[00:41:19] WARNING: /workspace/src/objective/regression_obj.cu:152: reg:linear is now deprecated in favor of reg:squarederror.\n",
            "xgb OK\n",
            "lgbm OK\n",
            "rf OK\n"
          ]
        }
      ]
    },
    {
      "cell_type": "code",
      "source": [
        "test_error"
      ],
      "metadata": {
        "colab": {
          "base_uri": "https://localhost:8080/"
        },
        "id": "Ba_t8NeKgXUF",
        "outputId": "8ac1d2ac-f93b-4e15-b290-52e3aee87235"
      },
      "execution_count": 80,
      "outputs": [
        {
          "output_type": "execute_result",
          "data": {
            "text/plain": [
              "{'xgb': 0.24524585379265654,\n",
              " 'lgbm': 0.22248022704616902,\n",
              " 'rf': 0.17721891179136345}"
            ]
          },
          "metadata": {},
          "execution_count": 80
        }
      ]
    },
    {
      "cell_type": "markdown",
      "source": [
        "Random Forest가 가장 낮게 나왔다."
      ],
      "metadata": {
        "id": "cmqcsmkSg-Ww"
      }
    },
    {
      "cell_type": "code",
      "source": [
        "model = RandomForestRegressor()\n",
        "weight = train['타수']\n",
        "\n",
        "model.fit(X_train.fillna(-1), y_train, sample_weight = weight)\n",
        "\n",
        "pred = model.predict(X_test.fillna(-1))\n",
        "real = y_test"
      ],
      "metadata": {
        "id": "07S3MFPGiOsr"
      },
      "execution_count": 81,
      "outputs": []
    },
    {
      "cell_type": "code",
      "source": [
        "fig = plt.figure(figsize = (8,8))\n",
        "ax = fig.add_subplot()\n",
        "\n",
        "plt.plot(range(len(pred)), pred, label = '예측')\n",
        "plt.plot(range(len(real)), real, label = '실제')\n",
        "plt.legend()"
      ],
      "metadata": {
        "colab": {
          "base_uri": "https://localhost:8080/",
          "height": 501
        },
        "id": "Ujm8e_3OlFdT",
        "outputId": "e036b247-0881-4e5b-c909-e1d30d6604e0"
      },
      "execution_count": 82,
      "outputs": [
        {
          "output_type": "execute_result",
          "data": {
            "text/plain": [
              "<matplotlib.legend.Legend at 0x7efc36133a10>"
            ]
          },
          "metadata": {},
          "execution_count": 82
        },
        {
          "output_type": "display_data",
          "data": {
            "text/plain": [
              "<Figure size 576x576 with 1 Axes>"
            ],
            "image/png": "[encoded data removed]"
          },
          "metadata": {
            "needs_background": "light"
          }
        }
      ]
    },
    {
      "cell_type": "code",
      "source": [
        "test_error['rf']"
      ],
      "metadata": {
        "colab": {
          "base_uri": "https://localhost:8080/"
        },
        "id": "kGe0UREOqjJN",
        "outputId": "f7d94fb9-53b9-4551-f074-27411abdc654"
      },
      "execution_count": 83,
      "outputs": [
        {
          "output_type": "execute_result",
          "data": {
            "text/plain": [
              "0.17721891179136345"
            ]
          },
          "metadata": {},
          "execution_count": 83
        }
      ]
    },
    {
      "cell_type": "markdown",
      "source": [
        "GridSearchCV를 통한 랜덤포레스트분류의 하이퍼 파라미터 튜닝"
      ],
      "metadata": {
        "id": "4-4W5tx4Uhr4"
      }
    },
    {
      "cell_type": "code",
      "source": [
        "grid = {\n",
        "      'n_estimators' : [100,200],\n",
        "      'max_depth' : [6,8,10,12],\n",
        "      'min_samples_leaf' : [8,12,18],\n",
        "      'min_samples_split' : [8,16,20]\n",
        "}\n",
        "\n",
        "model = RandomForestRegressor(random_state = 22, n_jobs = -1)\n",
        "model_grid_cv = GridSearchCV(model, param_grid = grid, cv = 2, n_jobs = -1, scoring = 'neg_root_mean_squared_error')\n",
        "model_grid_cv.fit(X_train.fillna(-1),y_train)\n",
        "\n",
        "print(\"최고의 파라미터 :\", model_grid_cv.best_params_)\n",
        "print(\"최고 평균 정확도 : {}\".format(model_grid_cv.best_score_))"
      ],
      "metadata": {
        "id": "Vxk7ZaBTUhAp",
        "colab": {
          "base_uri": "https://localhost:8080/"
        },
        "outputId": "6e970282-a99c-4c00-bf05-77b44e470ab3"
      },
      "execution_count": 84,
      "outputs": [
        {
          "output_type": "stream",
          "name": "stdout",
          "text": [
            "최고의 파라미터 : {'max_depth': 10, 'min_samples_leaf': 12, 'min_samples_split': 20, 'n_estimators': 200}\n",
            "최고 평균 정확도 : -0.3591890704281357\n"
          ]
        }
      ]
    },
    {
      "cell_type": "code",
      "source": [
        "model = RandomForestRegressor(n_estimators = 200, max_depth = 10, min_samples_split = 20,  min_samples_leaf = 12, random_state = 22, n_jobs=-1)\n",
        "model.fit(X_train.fillna(-1), y_train)"
      ],
      "metadata": {
        "colab": {
          "base_uri": "https://localhost:8080/"
        },
        "id": "JJXILEEjc5FY",
        "outputId": "8cd19bb8-3c7e-4ec6-803d-047ba7d1a28f"
      },
      "execution_count": 85,
      "outputs": [
        {
          "output_type": "execute_result",
          "data": {
            "text/plain": [
              "RandomForestRegressor(max_depth=10, min_samples_leaf=12, min_samples_split=20,\n",
              "                      n_estimators=200, n_jobs=-1, random_state=22)"
            ]
          },
          "metadata": {},
          "execution_count": 85
        }
      ]
    },
    {
      "cell_type": "code",
      "source": [
        "predict = model.predict(X_test.fillna(-1))\n",
        "real = y_test"
      ],
      "metadata": {
        "id": "xkBwkipYffeg"
      },
      "execution_count": 86,
      "outputs": []
    },
    {
      "cell_type": "code",
      "source": [
        "fig = plt.figure(figsize = (8,8))\n",
        "ax = fig.add_subplot()\n",
        "\n",
        "plt.plot(range(len(pred)), pred, label = '예측')\n",
        "plt.plot(range(len(real)), real, label = '실제')\n",
        "plt.legend()"
      ],
      "metadata": {
        "colab": {
          "base_uri": "https://localhost:8080/",
          "height": 501
        },
        "id": "Q0FK_Z-rfoJ-",
        "outputId": "5562146d-0888-4e9c-958a-e6785f5ae36f"
      },
      "execution_count": 87,
      "outputs": [
        {
          "output_type": "execute_result",
          "data": {
            "text/plain": [
              "<matplotlib.legend.Legend at 0x7efc3609ed10>"
            ]
          },
          "metadata": {},
          "execution_count": 87
        },
        {
          "output_type": "display_data",
          "data": {
            "text/plain": [
              "<Figure size 576x576 with 1 Axes>"
            ],
            "image/png": "[encoded data removed]"
          },
          "metadata": {
            "needs_background": "light"
          }
        }
      ]
    },
    {
      "cell_type": "code",
      "source": [
        "  print(mean_squared_error(y_test, pred) ** 0.5)"
      ],
      "metadata": {
        "colab": {
          "base_uri": "https://localhost:8080/"
        },
        "id": "i88r24pOfyYr",
        "outputId": "4db9ac82-77a7-4d34-d709-4ce334ffdfb6"
      },
      "execution_count": 88,
      "outputs": [
        {
          "output_type": "stream",
          "name": "stdout",
          "text": [
            "0.17534966448798467\n"
          ]
        }
      ]
    },
    {
      "cell_type": "markdown",
      "source": [
        "rmse가 약간 더 낮아진 것을 확인할 수 있다."
      ],
      "metadata": {
        "id": "XatT_wXaf15K"
      }
    },
    {
      "cell_type": "markdown",
      "source": [
        "파라미터 중요도 시각화를 해보았다."
      ],
      "metadata": {
        "id": "1RyskNUafAgW"
      }
    },
    {
      "cell_type": "code",
      "source": [
        "feature_importances = model.feature_importances_\n",
        "\n",
        "ft_importances = pd.Series(feature_importances, index = X_train.columns)\n",
        "ft_importances = ft_importances.sort_values(ascending=False)\n",
        "\n",
        "plt.figure(figsize = (12,10))\n",
        "sns.barplot(x=ft_importances, y= X_train.columns)\n",
        "plt.show()"
      ],
      "metadata": {
        "colab": {
          "base_uri": "https://localhost:8080/",
          "height": 592
        },
        "id": "jDrr1q5Ke-H_",
        "outputId": "037a5cef-18ff-48ad-df15-d5e482f4842d"
      },
      "execution_count": 89,
      "outputs": [
        {
          "output_type": "display_data",
          "data": {
            "text/plain": [
              "<Figure size 864x720 with 1 Axes>"
            ],
            "image/png": "[encoded data removed]"
          },
          "metadata": {
            "needs_background": "light"
          }
        }
      ]
    },
    {
      "cell_type": "markdown",
      "source": [
        "## 5.3 모델 예측"
      ],
      "metadata": {
        "id": "CHVH8cMLp-Ky"
      }
    },
    {
      "cell_type": "code",
      "source": [
        "data_22 = pd.read_csv('/content/drive/MyDrive/KBO_Batter_OPS_Predict/kbo_OPS_22.csv')"
      ],
      "metadata": {
        "id": "kZukn_kTsxRk"
      },
      "execution_count": 90,
      "outputs": []
    },
    {
      "cell_type": "code",
      "source": [
        "data_22 = data_22[['선수', '생일']]"
      ],
      "metadata": {
        "id": "QplzKspNqaN6"
      },
      "execution_count": 91,
      "outputs": []
    },
    {
      "cell_type": "code",
      "source": [
        "# 포지션 추가\n",
        "position_check = ['C', '1B', '2B', '3B', 'SS', 'LF', 'CF', 'RF', 'DH', 'P']\n",
        "position = []\n",
        "player = []\n",
        "\n",
        "for i in data_22['선수']:\n",
        "  if i[-2:] in position_check:\n",
        "    position.append(i[-2:])\n",
        "    player.append(i[:-2])\n",
        "  elif i[-1:] in position_check:\n",
        "    position.append(i[-1:])\n",
        "    player.append(i[:-1])\n",
        "  else:\n",
        "    position.append(np.nan)\n",
        "    player.append(i)\n",
        "\n",
        "data_22['포지션'] = position\n",
        "data_22['선수'] = player"
      ],
      "metadata": {
        "id": "lNZUUVxIsCGS"
      },
      "execution_count": 92,
      "outputs": []
    },
    {
      "cell_type": "code",
      "source": [
        "# 팀 추가\n",
        "team = []\n",
        "player = []\n",
        "\n",
        "for i in data_22['선수']:\n",
        "  team.append(i[-1])\n",
        "  player.append(i[:-1])\n",
        "\n",
        "data_22['팀'] = team\n",
        "data_22['선수'] = player"
      ],
      "metadata": {
        "id": "YHLYVkwns5Z9"
      },
      "execution_count": 93,
      "outputs": []
    },
    {
      "cell_type": "code",
      "source": [
        "# 선수별 연도 추가\n",
        "year = []\n",
        "player = []\n",
        "\n",
        "for i in data_22['선수']:\n",
        "  if i[-1] in team:\n",
        "      year.append(int('20' + i[-3:-1]))\n",
        "      player.append(i[:-3])\n",
        "\n",
        "  else:\n",
        "      year.append(int('20' + i[-2:]))\n",
        "      player.append(i[:-2])\n",
        "\n",
        "data_22['선수'] = player\n",
        "data_22['연도'] = year"
      ],
      "metadata": {
        "id": "kjw19DJPs_CK"
      },
      "execution_count": 94,
      "outputs": []
    },
    {
      "cell_type": "code",
      "source": [
        "total_data = pd.concat([data, data_22])"
      ],
      "metadata": {
        "id": "7gh-FAId4xfo"
      },
      "execution_count": 95,
      "outputs": []
    },
    {
      "cell_type": "code",
      "source": [
        "total_data = total_data.drop('ID', axis = 1)"
      ],
      "metadata": {
        "id": "xEEQikEAGTTZ"
      },
      "execution_count": 96,
      "outputs": []
    },
    {
      "cell_type": "code",
      "source": [
        "info_22 = total_data[['선수', '생일']].apply(lambda x: tuple(x), axis=1)\n",
        "\n",
        "player_id_22 = {}\n",
        "for i,j in enumerate(info_22.unique()):\n",
        "  player_id_22[j] = i\n",
        "    \n",
        "total_data['ID'] = total_data.apply(lambda x: player_id_22[tuple([x['선수'], x['생일']])], axis=1)"
      ],
      "metadata": {
        "id": "5NSfYNYUFwox"
      },
      "execution_count": 97,
      "outputs": []
    },
    {
      "cell_type": "code",
      "source": [
        "total_data[features_lag1] = total_data.apply(lambda x: get_lag(x['ID'],x['연도'], lag=1), axis=1)"
      ],
      "metadata": {
        "id": "hRXKTo6X3rcj"
      },
      "execution_count": 98,
      "outputs": []
    },
    {
      "cell_type": "code",
      "source": [
        "X = total_data[total_data['연도'] <= 2021][features]"
      ],
      "metadata": {
        "id": "gvoOl8j85KZ3"
      },
      "execution_count": 99,
      "outputs": []
    },
    {
      "cell_type": "code",
      "source": [
        "y = total_data[total_data['연도'] <= 2021]['OPS']"
      ],
      "metadata": {
        "id": "DwfFgpNA5lxe"
      },
      "execution_count": 100,
      "outputs": []
    },
    {
      "cell_type": "code",
      "source": [
        "model = RandomForestRegressor(n_estimators = 200, max_depth = 10, min_samples_split = 8,  min_samples_leaf = 12, random_state = 22, n_jobs=-1)\n",
        "model.fit(X.fillna(-1), y)"
      ],
      "metadata": {
        "colab": {
          "base_uri": "https://localhost:8080/"
        },
        "id": "e5qll5VN42cg",
        "outputId": "544f1795-dfc3-4245-8ecb-b34a82b821e9"
      },
      "execution_count": 101,
      "outputs": [
        {
          "output_type": "execute_result",
          "data": {
            "text/plain": [
              "RandomForestRegressor(max_depth=10, min_samples_leaf=12, min_samples_split=8,\n",
              "                      n_estimators=200, n_jobs=-1, random_state=22)"
            ]
          },
          "metadata": {},
          "execution_count": 101
        }
      ]
    },
    {
      "cell_type": "code",
      "source": [
        "X_2022 = total_data[total_data['연도'] == 2022][features]"
      ],
      "metadata": {
        "id": "2maUkjSP5zdj"
      },
      "execution_count": 102,
      "outputs": []
    },
    {
      "cell_type": "code",
      "source": [
        "data_22['OPS'] = model.predict(X_2022.fillna(-1))"
      ],
      "metadata": {
        "id": "AiqpIzqp5tPF"
      },
      "execution_count": 103,
      "outputs": []
    },
    {
      "cell_type": "code",
      "source": [
        "data_22"
      ],
      "metadata": {
        "colab": {
          "base_uri": "https://localhost:8080/",
          "height": 424
        },
        "id": "6uZ9CtRD569S",
        "outputId": "4bc09ab3-6c78-4a41-bfaa-71873c12f286"
      },
      "execution_count": 104,
      "outputs": [
        {
          "output_type": "execute_result",
          "data": {
            "text/plain": [
              "      선수          생일 포지션  팀    연도       OPS\n",
              "0    이정후  1998-08-20  CF  키  2022  0.723634\n",
              "1    피렐라  1989-11-21  LF  삼  2022  0.739736\n",
              "2    나성범  1989-10-03  RF  K  2022  0.732060\n",
              "3    오지환  1990-03-12  SS  L  2022  0.636446\n",
              "4     최정  1987-02-28  3B  S  2022  0.781899\n",
              "..   ...         ...  .. ..   ...       ...\n",
              "295  김시앙  2001-10-31   C  키  2022  0.498909\n",
              "296  천재환  1994-04-01  CF  N  2022  0.498909\n",
              "297  이현석  1992-06-07   C  S  2022  0.584708\n",
              "298  이호연  1995-06-03  3B  롯  2022  0.485942\n",
              "299  최영진  1988-05-10  3B  삼  2022  0.505798\n",
              "\n",
              "[300 rows x 6 columns]"
            ],
            "text/html": [
              "\n",
              "  <div id=\"df-b4d1e29e-0c9b-474b-9ede-edfddba0e5d3\">\n",
              "    <div class=\"colab-df-container\">\n",
              "      <div>\n",
              "<style scoped>\n",
              "    .dataframe tbody tr th:only-of-type {\n",
              "        vertical-align: middle;\n",
              "    }\n",
              "\n",
              "    .dataframe tbody tr th {\n",
              "        vertical-align: top;\n",
              "    }\n",
              "\n",
              "    .dataframe thead th {\n",
              "        text-align: right;\n",
              "    }\n",
              "</style>\n",
              "<table border=\"1\" class=\"dataframe\">\n",
              "  <thead>\n",
              "    <tr style=\"text-align: right;\">\n",
              "      <th></th>\n",
              "      <th>선수</th>\n",
              "      <th>생일</th>\n",
              "      <th>포지션</th>\n",
              "      <th>팀</th>\n",
              "      <th>연도</th>\n",
              "      <th>OPS</th>\n",
              "    </tr>\n",
              "  </thead>\n",
              "  <tbody>\n",
              "    <tr>\n",
              "      <th>0</th>\n",
              "      <td>이정후</td>\n",
              "      <td>1998-08-20</td>\n",
              "      <td>CF</td>\n",
              "      <td>키</td>\n",
              "      <td>2022</td>\n",
              "      <td>0.723634</td>\n",
              "    </tr>\n",
              "    <tr>\n",
              "      <th>1</th>\n",
              "      <td>피렐라</td>\n",
              "      <td>1989-11-21</td>\n",
              "      <td>LF</td>\n",
              "      <td>삼</td>\n",
              "      <td>2022</td>\n",
              "      <td>0.739736</td>\n",
              "    </tr>\n",
              "    <tr>\n",
              "      <th>2</th>\n",
              "      <td>나성범</td>\n",
              "      <td>1989-10-03</td>\n",
              "      <td>RF</td>\n",
              "      <td>K</td>\n",
              "      <td>2022</td>\n",
              "      <td>0.732060</td>\n",
              "    </tr>\n",
              "    <tr>\n",
              "      <th>3</th>\n",
              "      <td>오지환</td>\n",
              "      <td>1990-03-12</td>\n",
              "      <td>SS</td>\n",
              "      <td>L</td>\n",
              "      <td>2022</td>\n",
              "      <td>0.636446</td>\n",
              "    </tr>\n",
              "    <tr>\n",
              "      <th>4</th>\n",
              "      <td>최정</td>\n",
              "      <td>1987-02-28</td>\n",
              "      <td>3B</td>\n",
              "      <td>S</td>\n",
              "      <td>2022</td>\n",
              "      <td>0.781899</td>\n",
              "    </tr>\n",
              "    <tr>\n",
              "      <th>...</th>\n",
              "      <td>...</td>\n",
              "      <td>...</td>\n",
              "      <td>...</td>\n",
              "      <td>...</td>\n",
              "      <td>...</td>\n",
              "      <td>...</td>\n",
              "    </tr>\n",
              "    <tr>\n",
              "      <th>295</th>\n",
              "      <td>김시앙</td>\n",
              "      <td>2001-10-31</td>\n",
              "      <td>C</td>\n",
              "      <td>키</td>\n",
              "      <td>2022</td>\n",
              "      <td>0.498909</td>\n",
              "    </tr>\n",
              "    <tr>\n",
              "      <th>296</th>\n",
              "      <td>천재환</td>\n",
              "      <td>1994-04-01</td>\n",
              "      <td>CF</td>\n",
              "      <td>N</td>\n",
              "      <td>2022</td>\n",
              "      <td>0.498909</td>\n",
              "    </tr>\n",
              "    <tr>\n",
              "      <th>297</th>\n",
              "      <td>이현석</td>\n",
              "      <td>1992-06-07</td>\n",
              "      <td>C</td>\n",
              "      <td>S</td>\n",
              "      <td>2022</td>\n",
              "      <td>0.584708</td>\n",
              "    </tr>\n",
              "    <tr>\n",
              "      <th>298</th>\n",
              "      <td>이호연</td>\n",
              "      <td>1995-06-03</td>\n",
              "      <td>3B</td>\n",
              "      <td>롯</td>\n",
              "      <td>2022</td>\n",
              "      <td>0.485942</td>\n",
              "    </tr>\n",
              "    <tr>\n",
              "      <th>299</th>\n",
              "      <td>최영진</td>\n",
              "      <td>1988-05-10</td>\n",
              "      <td>3B</td>\n",
              "      <td>삼</td>\n",
              "      <td>2022</td>\n",
              "      <td>0.505798</td>\n",
              "    </tr>\n",
              "  </tbody>\n",
              "</table>\n",
              "<p>300 rows × 6 columns</p>\n",
              "</div>\n",
              "      <button class=\"colab-df-convert\" onclick=\"convertToInteractive('df-b4d1e29e-0c9b-474b-9ede-edfddba0e5d3')\"\n",
              "              title=\"Convert this dataframe to an interactive table.\"\n",
              "              style=\"display:none;\">\n",
              "        \n",
              "  <svg xmlns=\"http://www.w3.org/2000/svg\" height=\"24px\"viewBox=\"0 0 24 24\"\n",
              "       width=\"24px\">\n",
              "    <path d=\"M0 0h24v24H0V0z\" fill=\"none\"/>\n",
              "    <path d=\"M18.56 5.44l.94 2.06.94-2.06 2.06-.94-2.06-.94-.94-2.06-.94 2.06-2.06.94zm-11 1L8.5 8.5l.94-2.06 2.06-.94-2.06-.94L8.5 2.5l-.94 2.06-2.06.94zm10 10l.94 2.06.94-2.06 2.06-.94-2.06-.94-.94-2.06-.94 2.06-2.06.94z\"/><path d=\"M17.41 7.96l-1.37-1.37c-.4-.4-.92-.59-1.43-.59-.52 0-1.04.2-1.43.59L10.3 9.45l-7.72 7.72c-.78.78-.78 2.05 0 2.83L4 21.41c.39.39.9.59 1.41.59.51 0 1.02-.2 1.41-.59l7.78-7.78 2.81-2.81c.8-.78.8-2.07 0-2.86zM5.41 20L4 18.59l7.72-7.72 1.47 1.35L5.41 20z\"/>\n",
              "  </svg>\n",
              "      </button>\n",
              "      \n",
              "  <style>\n",
              "    .colab-df-container {\n",
              "      display:flex;\n",
              "      flex-wrap:wrap;\n",
              "      gap: 12px;\n",
              "    }\n",
              "\n",
              "    .colab-df-convert {\n",
              "      background-color: #E8F0FE;\n",
              "      border: none;\n",
              "      border-radius: 50%;\n",
              "      cursor: pointer;\n",
              "      display: none;\n",
              "      fill: #1967D2;\n",
              "      height: 32px;\n",
              "      padding: 0 0 0 0;\n",
              "      width: 32px;\n",
              "    }\n",
              "\n",
              "    .colab-df-convert:hover {\n",
              "      background-color: #E2EBFA;\n",
              "      box-shadow: 0px 1px 2px rgba(60, 64, 67, 0.3), 0px 1px 3px 1px rgba(60, 64, 67, 0.15);\n",
              "      fill: #174EA6;\n",
              "    }\n",
              "\n",
              "    [theme=dark] .colab-df-convert {\n",
              "      background-color: #3B4455;\n",
              "      fill: #D2E3FC;\n",
              "    }\n",
              "\n",
              "    [theme=dark] .colab-df-convert:hover {\n",
              "      background-color: #434B5C;\n",
              "      box-shadow: 0px 1px 3px 1px rgba(0, 0, 0, 0.15);\n",
              "      filter: drop-shadow(0px 1px 2px rgba(0, 0, 0, 0.3));\n",
              "      fill: #FFFFFF;\n",
              "    }\n",
              "  </style>\n",
              "\n",
              "      <script>\n",
              "        const buttonEl =\n",
              "          document.querySelector('#df-b4d1e29e-0c9b-474b-9ede-edfddba0e5d3 button.colab-df-convert');\n",
              "        buttonEl.style.display =\n",
              "          google.colab.kernel.accessAllowed ? 'block' : 'none';\n",
              "\n",
              "        async function convertToInteractive(key) {\n",
              "          const element = document.querySelector('#df-b4d1e29e-0c9b-474b-9ede-edfddba0e5d3');\n",
              "          const dataTable =\n",
              "            await google.colab.kernel.invokeFunction('convertToInteractive',\n",
              "                                                     [key], {});\n",
              "          if (!dataTable) return;\n",
              "\n",
              "          const docLinkHtml = 'Like what you see? Visit the ' +\n",
              "            '<a target=\"_blank\" href=https://colab.research.google.com/notebooks/data_table.ipynb>data table notebook</a>'\n",
              "            + ' to learn more about interactive tables.';\n",
              "          element.innerHTML = '';\n",
              "          dataTable['output_type'] = 'display_data';\n",
              "          await google.colab.output.renderOutput(dataTable, element);\n",
              "          const docLink = document.createElement('div');\n",
              "          docLink.innerHTML = docLinkHtml;\n",
              "          element.appendChild(docLink);\n",
              "        }\n",
              "      </script>\n",
              "    </div>\n",
              "  </div>\n",
              "  "
            ]
          },
          "metadata": {},
          "execution_count": 104
        }
      ]
    }
  ]
}