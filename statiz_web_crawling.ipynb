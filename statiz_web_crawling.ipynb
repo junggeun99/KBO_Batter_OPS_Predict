{
 "cells": [
  {
   "cell_type": "code",
   "execution_count": 3,
   "id": "d4c2da45",
   "metadata": {
    "ExecuteTime": {
     "end_time": "2022-10-04T08:54:08.818080Z",
     "start_time": "2022-10-04T08:54:08.634683Z"
    },
    "scrolled": true
   },
   "outputs": [],
   "source": [
    "from selenium import webdriver\n",
    "from bs4 import BeautifulSoup\n",
    "import re"
   ]
  },
  {
   "cell_type": "code",
   "execution_count": 4,
   "id": "4d5a1457",
   "metadata": {
    "ExecuteTime": {
     "end_time": "2022-10-04T08:54:11.260670Z",
     "start_time": "2022-10-04T08:54:09.250104Z"
    }
   },
   "outputs": [],
   "source": [
    "import pandas as pd\n",
    "import numpy as np\n",
    "import matplotlib.pyplot as plt\n",
    "import seaborn as sns\n",
    "import time\n",
    "from datetime import datetime"
   ]
  },
  {
   "cell_type": "code",
   "execution_count": 15,
   "id": "95000b17",
   "metadata": {
    "ExecuteTime": {
     "end_time": "2022-10-04T09:11:46.670355Z",
     "start_time": "2022-10-04T09:11:43.784120Z"
    }
   },
   "outputs": [],
   "source": [
    "driver = webdriver.Chrome('/Users/kimjunggeun/Downloads/chromedriver')"
   ]
  },
  {
   "cell_type": "code",
   "execution_count": 16,
   "id": "6ea9d49c",
   "metadata": {
    "ExecuteTime": {
     "end_time": "2022-10-04T09:14:59.905140Z",
     "start_time": "2022-10-04T09:11:48.869130Z"
    }
   },
   "outputs": [
    {
     "name": "stderr",
     "output_type": "stream",
     "text": [
      "/var/folders/06/smsl472j6pn8dgw9fysq6xcm0000gn/T/ipykernel_20406/2267928964.py:31: FutureWarning: The default value of regex will change from True to False in a future version.\n",
      "  temp[0] = temp[0].str.replace(\"^\\d+\", '')\n"
     ]
    },
    {
     "name": "stdout",
     "output_type": "stream",
     "text": [
      "0 완료\n",
      "1 완료\n",
      "2 완료\n",
      "3 완료\n",
      "4 완료\n",
      "5 완료\n",
      "6 완료\n",
      "7 완료\n",
      "8 완료\n",
      "9 완료\n",
      "10 완료\n",
      "11 완료\n",
      "12 완료\n",
      "13 완료\n",
      "14 완료\n",
      "15 완료\n",
      "16 완료\n",
      "17 완료\n",
      "18 완료\n",
      "19 완료\n",
      "20 완료\n",
      "21 완료\n",
      "22 완료\n",
      "23 완료\n",
      "24 완료\n",
      "25 완료\n",
      "26 완료\n",
      "27 완료\n",
      "28 완료\n",
      "29 완료\n",
      "30 완료\n",
      "31 완료\n",
      "32 완료\n",
      "33 완료\n",
      "34 완료\n",
      "35 완료\n",
      "36 완료\n",
      "37 완료\n",
      "38 완료\n",
      "39 완료\n",
      "40 완료\n",
      "41 완료\n",
      "42 완료\n",
      "43 완료\n",
      "44 완료\n",
      "45 완료\n",
      "46 완료\n",
      "47 완료\n",
      "48 완료\n",
      "49 완료\n",
      "50 완료\n",
      "51 완료\n",
      "52 완료\n",
      "53 완료\n",
      "54 완료\n",
      "55 완료\n",
      "56 완료\n",
      "57 완료\n",
      "58 완료\n",
      "59 완료\n",
      "60 완료\n",
      "61 완료\n",
      "62 완료\n",
      "63 완료\n",
      "64 완료\n",
      "65 완료\n",
      "66 완료\n",
      "67 완료\n",
      "68 완료\n",
      "69 완료\n",
      "70 완료\n",
      "71 완료\n",
      "72 완료\n",
      "73 완료\n",
      "74 완료\n",
      "75 완료\n",
      "76 완료\n",
      "77 완료\n",
      "78 완료\n",
      "79 완료\n",
      "80 완료\n",
      "81 완료\n",
      "82 완료\n",
      "83 완료\n",
      "84 완료\n",
      "85 완료\n",
      "86 완료\n",
      "87 완료\n",
      "88 완료\n",
      "89 완료\n",
      "90 완료\n",
      "91 완료\n",
      "92 완료\n",
      "93 완료\n",
      "94 완료\n",
      "95 완료\n",
      "96 완료\n",
      "최종 완료\n"
     ]
    }
   ],
   "source": [
    "# 크롤링\n",
    "for i in range(97):\n",
    "    \n",
    "    # 1982년 부터 2021년 까지 statiz에 기록된 선수들 필터링 (총 9680명)\n",
    "    url = 'http://www.statiz.co.kr/stat.php?mid=stat&re=0&ys=1982&ye=2021&sn=100&pa={}'.format(i*100)\n",
    "    \n",
    "    driver.get(url)\n",
    "    driver.implicitly_wait(5)\n",
    "    \n",
    "    html = driver.find_element_by_xpath('//*[@id=\"mytable\"]/tbody').get_attribute(\"innerHTML\") #기록 table을 str형태로 저장\n",
    "    soup = BeautifulSoup(html, 'html.parser') #str 객체를 BeautifulSoup 객체로 변경\n",
    "    \n",
    "    temp = [i.text.strip() for i in soup.findAll(\"tr\")] #tr 태그에서, text만 저장하기\n",
    "    temp = pd.Series(temp) #list 객체에서 series 객체로 변경\n",
    "    \n",
    "    #'순'이나 'W'로 시작하는 row 제거\n",
    "    # 즉, 선수별 기록만 남기고, index를 reset 해주기\n",
    "    temp = temp[~temp.str.match(\"[순W]\")].reset_index(drop=True) \n",
    "    \n",
    "    temp = temp.apply(lambda x: pd.Series(x.split(' '))) #띄어쓰기 기준으로 나눠서 dataframe으로 변경\n",
    "    \n",
    "    #선수 팀 정보 이후 첫번째 기록과는 space 하나로 구분, 그 이후로는 space 두개로 구분이 되어 있음 \n",
    "    #그래서 space 하나로 구분을 시키면, 빈 column들이 존재 하는데, 해당 column들 제거 \n",
    "    temp = temp.replace('', np.nan).dropna(axis=1) \n",
    "    \n",
    "    #WAR 정보가 들어간 column이 2개 있다. (index가 1인 column과, 제일 마지막 column)\n",
    "    #그 중에서 index가 1인 columm 제거 \n",
    "    temp = temp.drop(1, axis=1)\n",
    "    \n",
    "    #선수 이름 앞의 숫자 제거\n",
    "    temp[0] = temp[0].str.replace(\"^\\d+\", '')\n",
    "\n",
    "    # 선수들의 생일 정보가 담긴 tag들 가지고 오기\n",
    "    birth = [i.find(\"a\") for i in soup.findAll('tr') if 'birth' in i.find('a').attrs['href']]\n",
    "    \n",
    "    # tag내에서, 생일 날짜만 추출하기 \n",
    "    p = re.compile(\"\\d{4}\\-\\d{2}\\-\\d{2}\")\n",
    "    birth = [p.findall(i.attrs['href'])[0] for i in birth]\n",
    "    \n",
    "    # 생일 column 추가\n",
    "    temp['생일'] = birth\n",
    "    \n",
    "    # page별 완성된 dataframe을 계속해서 result에 추가 시켜주기 \n",
    "    if i == 0:\n",
    "        result = temp\n",
    "    else:\n",
    "        result = result.append(temp)\n",
    "        result = result.reset_index(drop=True)\n",
    "        \n",
    "    print(i, \"완료\")\n",
    "        \n",
    "#column 명 정보 저장        \n",
    "columns = ['선수'] + [i.text for i in soup.findAll(\"tr\")[0].findAll(\"th\")][4:-3] + ['타율', '출루', '장타', 'OPS', 'wOBA', 'wRC+', 'WAR+', '생일']\n",
    "\n",
    "#column 명 추가\n",
    "result.columns = columns\n",
    "\n",
    "#webdriver 종료\n",
    "driver.close()\n",
    "\n",
    "print(\"최종 완료\")"
   ]
  },
  {
   "cell_type": "code",
   "execution_count": 17,
   "id": "4ea884b8",
   "metadata": {
    "ExecuteTime": {
     "end_time": "2022-10-04T09:14:59.917535Z",
     "start_time": "2022-10-04T09:14:59.910553Z"
    }
   },
   "outputs": [
    {
     "data": {
      "text/plain": [
       "(9680, 28)"
      ]
     },
     "execution_count": 17,
     "metadata": {},
     "output_type": "execute_result"
    }
   ],
   "source": [
    "result.shape"
   ]
  },
  {
   "cell_type": "code",
   "execution_count": 19,
   "id": "404990e7",
   "metadata": {
    "ExecuteTime": {
     "end_time": "2022-10-04T09:16:32.549324Z",
     "start_time": "2022-10-04T09:16:32.464434Z"
    }
   },
   "outputs": [],
   "source": [
    "result.to_csv(\"/Users/kimjunggeun/Desktop/김정근/git/KBO_Batter_OPS_Predict/kbo_OPS.csv\")"
   ]
  }
 ],
 "metadata": {
  "kernelspec": {
   "display_name": "Python 3 (ipykernel)",
   "language": "python",
   "name": "python3"
  },
  "language_info": {
   "codemirror_mode": {
    "name": "ipython",
    "version": 3
   },
   "file_extension": ".py",
   "mimetype": "text/x-python",
   "name": "python",
   "nbconvert_exporter": "python",
   "pygments_lexer": "ipython3",
   "version": "3.9.7"
  },
  "toc": {
   "base_numbering": 1,
   "nav_menu": {},
   "number_sections": true,
   "sideBar": true,
   "skip_h1_title": false,
   "title_cell": "Table of Contents",
   "title_sidebar": "Contents",
   "toc_cell": false,
   "toc_position": {},
   "toc_section_display": true,
   "toc_window_display": false
  }
 },
 "nbformat": 4,
 "nbformat_minor": 5
}
